{
 "cells": [
  {
   "cell_type": "code",
   "execution_count": 1,
   "id": "ce9e99a1-9134-4e7b-803f-5f57582de06f",
   "metadata": {
    "tags": []
   },
   "outputs": [],
   "source": [
    "import liana \n",
    "import anndata\n",
    "import pandas as pd\n",
    "import matplotlib.pyplot as plt\n",
    "from scipy.stats import wilcoxon\n",
    "import anndata\n",
    "import scanpy as sc\n",
    "from liana.mt import rank_aggregate\n",
    "from liana.mt import singlecellsignalr, connectome, cellphonedb, natmi, logfc, cellchat, geometric_mean\n",
    "import numpy as np\n",
    "from matplotlib.pyplot import figure\n",
    "import math\n",
    "from scipy.stats import wilcoxon\n",
    "import seaborn as sns\n",
    "import matplotlib.gridspec as grid_spec\n",
    "\n",
    "%matplotlib inline"
   ]
  },
  {
   "cell_type": "markdown",
   "id": "89c3ad9d-b67e-41cd-9e61-5d068ab239c1",
   "metadata": {},
   "source": [
    "# Cardiac spatial(100) "
   ]
  },
  {
   "cell_type": "code",
   "execution_count": 31,
   "id": "901f47bb-844b-42d3-8958-560b4562f3ba",
   "metadata": {
    "tags": []
   },
   "outputs": [
    {
     "name": "stdout",
     "output_type": "stream",
     "text": [
      "WARNING: Default of the method has been changed to 't-test' from 't-test_overestim_var'\n"
     ]
    }
   ],
   "source": [
    "# load datasets\n",
    "adata = sc.read_h5ad(\"../../data/raw_data/Cardiac_cells//Visium-FZ_GT_P19.h5ad\")\n",
    "sc.pp.normalize_total(adata)\n",
    "sc.pp.log1p(adata)\n",
    "sc.tl.pca(adata)\n",
    "sc.pp.neighbors(adata)\n",
    "sc.tl.leiden(adata)\n",
    "matrix = pd.DataFrame.sparse.from_spmatrix(adata.X,index=adata.obs.index.tolist(),columns=adata.var[\"feature_name\"].tolist())\n",
    "\n",
    "meta = pd.DataFrame({\"cell\":adata.obs.index.tolist(),\"label\":adata.obs[\"cell_type_original\"].tolist()})\n",
    "meta = meta[meta[\"label\"] != \"Lymphoid\"]\n",
    "meta.index = meta[\"cell\"].tolist()\n",
    "\n",
    "matrix = matrix.transpose()\n",
    "\n",
    "matrix = matrix[meta.index.tolist()]\n",
    "\n",
    "from scipy.stats import wilcoxon\n",
    "import anndata\n",
    "import scanpy as sc\n",
    "\n",
    "index = matrix.index.tolist()\n",
    "\n",
    "meta['label'] = meta[\"label\"].astype(\"string\").tolist()\n",
    "\n",
    "meta[\"cell\"] = meta[\"cell\"].astype(\"category\")\n",
    "meta[\"label\"] = meta[\"label\"].astype(\"category\")\n",
    "\n",
    "matrix = matrix.loc[:,~matrix.columns.duplicated()].copy()\n",
    "meta = meta.loc[~meta.index.duplicated(),:].copy()\n",
    "\n",
    "adata = anndata.AnnData(matrix.transpose())\n",
    "adata.raw = adata\n",
    "adata.obs = meta\n",
    "adata.obs[\"label\"] = adata.obs[\"label\"].astype(\"category\")\n",
    "sc.tl.rank_genes_groups(adata, 'label')\n",
    "import pandas as pd\n",
    "\n",
    "# Your existing code\n",
    "\n",
    "\n",
    "for expr_prop_value in range(0, 100, 1):\n",
    "    expr_prop_value =/ 100  # Convert to float\n",
    "##############################################\n",
    "#     connectome(adata, groupby=\"label\", expr_prop=expr_prop_value)\n",
    "#     spatial_connectome_df = adata.uns[\"liana_res\"][[\"source\", \"target\", \"ligand\", \"receptor\", \"expr_prod\"]].sort_values(\"expr_prod\", ascending=False)\n",
    "    \n",
    "#     # Filter and take the top 1000 rows\n",
    "#     spatial_connectome_df = spatial_connectome_df[spatial_connectome_df[\"source\"] != spatial_connectome_df[\"target\"]]\n",
    "#     temp_connectome_df = spatial_connectome_df.head(1000)\n",
    "#     # #输出为CSV\n",
    "#     temp_connectome_df.to_csv(f\"../../results/connectome/connectome_{i+1}_random.csv\")\n",
    "\n",
    "\n",
    "##############################################  \n",
    "#     cellphonedb(adata, groupby=\"label\", expr_prop=expr_prop_value)\n",
    "#     spatial_cellphonedb_df = adata.uns[\"liana_res\"][[\"source\", \"target\", \"ligand\", \"receptor\", \".\"]].sort_values(\"lr_means\", ascending=False)\n",
    "\n",
    "#     # Filter and take the top 1000 rows\n",
    "#     spatial_cellphonedb_df = spatial_cellphonedb_df[spatial_cellphonedb_df[\"source\"] != spatial_cellphonedb_df[\"target\"]]\n",
    "#     temp_cellphonedb_df = spatial_cellphonedb_df.head(1000)\n",
    "#     # #输出为CSV\n",
    "#     temp_cellphonedb_df.to_csv(f\"../../results/cellphonedb/cellphonedb_{i+1}_random.csv\")\n",
    "##############################################\n",
    "\n",
    "    cellchat(adata, groupby=\"label\", expr_prop=expr_prop_value)\n",
    "    spatial_cellchat_df = adata.uns[\"liana_res\"][[\"source\", \"target\", \"ligand\", \"receptor\", \"lr_probs\"]].sort_values(\"lr_probs\", ascending=False)\n",
    "    # Filter and take the top 1000 rows\n",
    "    spatial_cellchat_df = spatial_cellchat_df[spatial_cellchat_df[\"source\"] != spatial_cellchat_df[\"target\"]]\n",
    "    temp_cellchat_df = spatial_cellchat_df.head(1000)\n",
    "    # #输出为CSV\n",
    "    temp_cellchat_df.to_csv(f\"../../results/cellchat/cellchat_{i+1}_random.csv\")\n",
    "    i = i+1\n",
    "\n",
    "\n",
    "\n",
    "\n"
   ]
  },
  {
   "cell_type": "markdown",
   "id": "3a10f741-b2ee-48f0-98cd-76eb2aabe4c7",
   "metadata": {
    "tags": []
   },
   "source": [
    "# PC 9 lung cancer"
   ]
  },
  {
   "cell_type": "code",
   "execution_count": 43,
   "id": "1b900c9b-de3a-4ec8-9c82-b3883c761e1f",
   "metadata": {
    "tags": []
   },
   "outputs": [
    {
     "name": "stderr",
     "output_type": "stream",
     "text": [
      "/tmp/ipykernel_44776/3327975836.py:17: FutureWarning: X.dtype being converted to np.float32 from float64. In the next version of anndata (0.9) conversion will not be automatic. Pass dtype explicitly to avoid this warning. Pass `AnnData(X, dtype=X.dtype, ...)` to get the future behavour.\n"
     ]
    },
    {
     "name": "stdout",
     "output_type": "stream",
     "text": [
      "WARNING: You’re trying to run this on 14855 dimensions of `.X`, if you really want this, set `use_rep='X'`.\n",
      "         Falling back to preprocessing with `sc.pp.pca` and default params.\n"
     ]
    },
    {
     "name": "stderr",
     "output_type": "stream",
     "text": [
      "/tmp/ipykernel_44776/3327975836.py:24: FutureWarning: X.dtype being converted to np.float32 from float64. In the next version of anndata (0.9) conversion will not be automatic. Pass dtype explicitly to avoid this warning. Pass `AnnData(X, dtype=X.dtype, ...)` to get the future behavour.\n"
     ]
    },
    {
     "name": "stdout",
     "output_type": "stream",
     "text": [
      "WARNING: Default of the method has been changed to 't-test' from 't-test_overestim_var'\n"
     ]
    },
    {
     "ename": "KeyboardInterrupt",
     "evalue": "",
     "output_type": "error",
     "traceback": [
      "\u001b[0;31m---------------------------------------------------------------------------\u001b[0m",
      "\u001b[0;31mKeyboardInterrupt\u001b[0m                         Traceback (most recent call last)",
      "Cell \u001b[0;32mIn[43], line 28\u001b[0m\n\u001b[1;32m     26\u001b[0m adata\u001b[38;5;241m.\u001b[39mobs \u001b[38;5;241m=\u001b[39m meta\n\u001b[1;32m     27\u001b[0m adata\u001b[38;5;241m.\u001b[39mobs[\u001b[38;5;124m\"\u001b[39m\u001b[38;5;124mlabel\u001b[39m\u001b[38;5;124m\"\u001b[39m] \u001b[38;5;241m=\u001b[39m adata\u001b[38;5;241m.\u001b[39mobs[\u001b[38;5;124m\"\u001b[39m\u001b[38;5;124mlabel\u001b[39m\u001b[38;5;124m\"\u001b[39m]\u001b[38;5;241m.\u001b[39mastype(\u001b[38;5;124m\"\u001b[39m\u001b[38;5;124mcategory\u001b[39m\u001b[38;5;124m\"\u001b[39m)\n\u001b[0;32m---> 28\u001b[0m \u001b[43msc\u001b[49m\u001b[38;5;241;43m.\u001b[39;49m\u001b[43mtl\u001b[49m\u001b[38;5;241;43m.\u001b[39;49m\u001b[43mrank_genes_groups\u001b[49m\u001b[43m(\u001b[49m\u001b[43madata\u001b[49m\u001b[43m,\u001b[49m\u001b[43m \u001b[49m\u001b[38;5;124;43m'\u001b[39;49m\u001b[38;5;124;43mlabel\u001b[39;49m\u001b[38;5;124;43m'\u001b[39;49m\u001b[43m)\u001b[49m\n\u001b[1;32m     30\u001b[0m connectome(adata,groupby\u001b[38;5;241m=\u001b[39m\u001b[38;5;124m\"\u001b[39m\u001b[38;5;124mlabel\u001b[39m\u001b[38;5;124m\"\u001b[39m,expr_prop\u001b[38;5;241m=\u001b[39mexpr_prop_value)\n\u001b[1;32m     31\u001b[0m connectome_df \u001b[38;5;241m=\u001b[39m adata\u001b[38;5;241m.\u001b[39muns[\u001b[38;5;124m\"\u001b[39m\u001b[38;5;124mliana_res\u001b[39m\u001b[38;5;124m\"\u001b[39m][[\u001b[38;5;124m\"\u001b[39m\u001b[38;5;124msource\u001b[39m\u001b[38;5;124m\"\u001b[39m,\u001b[38;5;124m\"\u001b[39m\u001b[38;5;124mtarget\u001b[39m\u001b[38;5;124m\"\u001b[39m,\u001b[38;5;124m\"\u001b[39m\u001b[38;5;124mligand\u001b[39m\u001b[38;5;124m\"\u001b[39m,\u001b[38;5;124m\"\u001b[39m\u001b[38;5;124mreceptor\u001b[39m\u001b[38;5;124m\"\u001b[39m,\u001b[38;5;124m\"\u001b[39m\u001b[38;5;124mexpr_prod\u001b[39m\u001b[38;5;124m\"\u001b[39m]]\u001b[38;5;241m.\u001b[39msort_values(\u001b[38;5;124m\"\u001b[39m\u001b[38;5;124mexpr_prod\u001b[39m\u001b[38;5;124m\"\u001b[39m,ascending\u001b[38;5;241m=\u001b[39m\u001b[38;5;28;01mFalse\u001b[39;00m)\n",
      "File \u001b[0;32m~/miniconda3/envs/GraphComm/lib/python3.9/site-packages/scanpy/tools/_rank_genes_groups.py:608\u001b[0m, in \u001b[0;36mrank_genes_groups\u001b[0;34m(adata, groupby, use_raw, groups, reference, n_genes, rankby_abs, pts, key_added, copy, method, corr_method, tie_correct, layer, **kwds)\u001b[0m\n\u001b[1;32m    605\u001b[0m logg\u001b[38;5;241m.\u001b[39mdebug(\u001b[38;5;124mf\u001b[39m\u001b[38;5;124m'\u001b[39m\u001b[38;5;124mconsider \u001b[39m\u001b[38;5;132;01m{\u001b[39;00mgroupby\u001b[38;5;132;01m!r}\u001b[39;00m\u001b[38;5;124m groups:\u001b[39m\u001b[38;5;124m'\u001b[39m)\n\u001b[1;32m    606\u001b[0m logg\u001b[38;5;241m.\u001b[39mdebug(\u001b[38;5;124mf\u001b[39m\u001b[38;5;124m'\u001b[39m\u001b[38;5;124mwith sizes: \u001b[39m\u001b[38;5;132;01m{\u001b[39;00mnp\u001b[38;5;241m.\u001b[39mcount_nonzero(test_obj\u001b[38;5;241m.\u001b[39mgroups_masks,\u001b[38;5;250m \u001b[39maxis\u001b[38;5;241m=\u001b[39m\u001b[38;5;241m1\u001b[39m)\u001b[38;5;132;01m}\u001b[39;00m\u001b[38;5;124m'\u001b[39m)\n\u001b[0;32m--> 608\u001b[0m \u001b[43mtest_obj\u001b[49m\u001b[38;5;241;43m.\u001b[39;49m\u001b[43mcompute_statistics\u001b[49m\u001b[43m(\u001b[49m\n\u001b[1;32m    609\u001b[0m \u001b[43m    \u001b[49m\u001b[43mmethod\u001b[49m\u001b[43m,\u001b[49m\u001b[43m \u001b[49m\u001b[43mcorr_method\u001b[49m\u001b[43m,\u001b[49m\u001b[43m \u001b[49m\u001b[43mn_genes_user\u001b[49m\u001b[43m,\u001b[49m\u001b[43m \u001b[49m\u001b[43mrankby_abs\u001b[49m\u001b[43m,\u001b[49m\u001b[43m \u001b[49m\u001b[43mtie_correct\u001b[49m\u001b[43m,\u001b[49m\u001b[43m \u001b[49m\u001b[38;5;241;43m*\u001b[39;49m\u001b[38;5;241;43m*\u001b[39;49m\u001b[43mkwds\u001b[49m\n\u001b[1;32m    610\u001b[0m \u001b[43m\u001b[49m\u001b[43m)\u001b[49m\n\u001b[1;32m    612\u001b[0m \u001b[38;5;28;01mif\u001b[39;00m test_obj\u001b[38;5;241m.\u001b[39mpts \u001b[38;5;129;01mis\u001b[39;00m \u001b[38;5;129;01mnot\u001b[39;00m \u001b[38;5;28;01mNone\u001b[39;00m:\n\u001b[1;32m    613\u001b[0m     groups_names \u001b[38;5;241m=\u001b[39m [\u001b[38;5;28mstr\u001b[39m(name) \u001b[38;5;28;01mfor\u001b[39;00m name \u001b[38;5;129;01min\u001b[39;00m test_obj\u001b[38;5;241m.\u001b[39mgroups_order]\n",
      "File \u001b[0;32m~/miniconda3/envs/GraphComm/lib/python3.9/site-packages/scanpy/tools/_rank_genes_groups.py:378\u001b[0m, in \u001b[0;36m_RankGenes.compute_statistics\u001b[0;34m(self, method, corr_method, n_genes_user, rankby_abs, tie_correct, **kwds)\u001b[0m\n\u001b[1;32m    374\u001b[0m \u001b[38;5;28mself\u001b[39m\u001b[38;5;241m.\u001b[39mstats \u001b[38;5;241m=\u001b[39m \u001b[38;5;28;01mNone\u001b[39;00m\n\u001b[1;32m    376\u001b[0m n_genes \u001b[38;5;241m=\u001b[39m \u001b[38;5;28mself\u001b[39m\u001b[38;5;241m.\u001b[39mX\u001b[38;5;241m.\u001b[39mshape[\u001b[38;5;241m1\u001b[39m]\n\u001b[0;32m--> 378\u001b[0m \u001b[38;5;28;01mfor\u001b[39;00m group_index, scores, pvals \u001b[38;5;129;01min\u001b[39;00m generate_test_results:\n\u001b[1;32m    379\u001b[0m     group_name \u001b[38;5;241m=\u001b[39m \u001b[38;5;28mstr\u001b[39m(\u001b[38;5;28mself\u001b[39m\u001b[38;5;241m.\u001b[39mgroups_order[group_index])\n\u001b[1;32m    381\u001b[0m     \u001b[38;5;28;01mif\u001b[39;00m n_genes_user \u001b[38;5;129;01mis\u001b[39;00m \u001b[38;5;129;01mnot\u001b[39;00m \u001b[38;5;28;01mNone\u001b[39;00m:\n",
      "File \u001b[0;32m~/miniconda3/envs/GraphComm/lib/python3.9/site-packages/scanpy/tools/_rank_genes_groups.py:200\u001b[0m, in \u001b[0;36m_RankGenes.t_test\u001b[0;34m(self, method)\u001b[0m\n\u001b[1;32m    197\u001b[0m \u001b[38;5;28;01mdef\u001b[39;00m \u001b[38;5;21mt_test\u001b[39m(\u001b[38;5;28mself\u001b[39m, method):\n\u001b[1;32m    198\u001b[0m     \u001b[38;5;28;01mfrom\u001b[39;00m \u001b[38;5;21;01mscipy\u001b[39;00m \u001b[38;5;28;01mimport\u001b[39;00m stats\n\u001b[0;32m--> 200\u001b[0m     \u001b[38;5;28;43mself\u001b[39;49m\u001b[38;5;241;43m.\u001b[39;49m\u001b[43m_basic_stats\u001b[49m\u001b[43m(\u001b[49m\u001b[43m)\u001b[49m\n\u001b[1;32m    202\u001b[0m     \u001b[38;5;28;01mfor\u001b[39;00m group_index, mask \u001b[38;5;129;01min\u001b[39;00m \u001b[38;5;28menumerate\u001b[39m(\u001b[38;5;28mself\u001b[39m\u001b[38;5;241m.\u001b[39mgroups_masks):\n\u001b[1;32m    203\u001b[0m         \u001b[38;5;28;01mif\u001b[39;00m \u001b[38;5;28mself\u001b[39m\u001b[38;5;241m.\u001b[39mireference \u001b[38;5;129;01mis\u001b[39;00m \u001b[38;5;129;01mnot\u001b[39;00m \u001b[38;5;28;01mNone\u001b[39;00m \u001b[38;5;129;01mand\u001b[39;00m group_index \u001b[38;5;241m==\u001b[39m \u001b[38;5;28mself\u001b[39m\u001b[38;5;241m.\u001b[39mireference:\n",
      "File \u001b[0;32m~/miniconda3/envs/GraphComm/lib/python3.9/site-packages/scanpy/tools/_rank_genes_groups.py:189\u001b[0m, in \u001b[0;36m_RankGenes._basic_stats\u001b[0;34m(self)\u001b[0m\n\u001b[1;32m    187\u001b[0m \u001b[38;5;28;01mif\u001b[39;00m \u001b[38;5;28mself\u001b[39m\u001b[38;5;241m.\u001b[39mireference \u001b[38;5;129;01mis\u001b[39;00m \u001b[38;5;28;01mNone\u001b[39;00m:\n\u001b[1;32m    188\u001b[0m     mask_rest \u001b[38;5;241m=\u001b[39m \u001b[38;5;241m~\u001b[39mmask\n\u001b[0;32m--> 189\u001b[0m     X_rest \u001b[38;5;241m=\u001b[39m \u001b[38;5;28;43mself\u001b[39;49m\u001b[38;5;241;43m.\u001b[39;49m\u001b[43mX\u001b[49m\u001b[43m[\u001b[49m\u001b[43mmask_rest\u001b[49m\u001b[43m]\u001b[49m\n\u001b[1;32m    190\u001b[0m     \u001b[38;5;28mself\u001b[39m\u001b[38;5;241m.\u001b[39mmeans_rest[imask], \u001b[38;5;28mself\u001b[39m\u001b[38;5;241m.\u001b[39mvars_rest[imask] \u001b[38;5;241m=\u001b[39m _get_mean_var(X_rest)\n\u001b[1;32m    191\u001b[0m     \u001b[38;5;66;03m# this can be costly for sparse data\u001b[39;00m\n",
      "\u001b[0;31mKeyboardInterrupt\u001b[0m: "
     ]
    }
   ],
   "source": [
    "from scipy.stats import wilcoxon\n",
    "import anndata\n",
    "import scanpy as sc\n",
    "CellGAT_PC9_result = []\n",
    "Connectome_PC9_result = []\n",
    "CellphoneDB_PC9_result = []\n",
    "CellChat_PC9_result = []\n",
    "A = 0\n",
    "for j in range (0,100,1):\n",
    "    A += 1 \n",
    "    expr_prop_value =  j/100*0.8\n",
    "    # Day0\n",
    "    matrix = pd.read_csv(\"../../data/CellGATv2_Input/Pre_Post/Day0/matrix.csv\",index_col=0)\n",
    "    matrix.index = [str(i).upper() for i in matrix.index.tolist()]\n",
    "    index = matrix.index.tolist()\n",
    "    matrix = matrix.fillna(0)\n",
    "    adata = anndata.AnnData(matrix.transpose())\n",
    "    sc.pp.normalize_total(adata)\n",
    "    sc.pp.neighbors(adata)\n",
    "    sc.tl.leiden(adata)\n",
    "    meta = pd.DataFrame({\"cell\":adata.obs[\"leiden\"].index.tolist(),\"label\":adata.obs[\"leiden\"].tolist()})\n",
    "    meta.index = meta[\"cell\"].tolist()\n",
    "\n",
    "    adata = anndata.AnnData(matrix.transpose())\n",
    "    adata.raw = adata\n",
    "    adata.obs = meta\n",
    "    adata.obs[\"label\"] = adata.obs[\"label\"].astype(\"category\")\n",
    "    sc.tl.rank_genes_groups(adata, 'label')\n",
    "\n",
    "    connectome(adata,groupby=\"label\",expr_prop=expr_prop_value)\n",
    "    connectome_df = adata.uns[\"liana_res\"][[\"source\",\"target\",\"ligand\",\"receptor\",\"expr_prod\"]].sort_values(\"expr_prod\",ascending=False)\n",
    "    cellphonedb(adata,groupby=\"label\",expr_prop=expr_prop_value)\n",
    "    cellphone_df = adata.uns[\"liana_res\"][[\"source\",\"target\",\"ligand\",\"receptor\",\"lr_means\"]].sort_values(\"lr_means\",ascending=False)\n",
    "    cellchat(adata,groupby=\"label\",expr_prop=expr_prop_value)\n",
    "    cellchat_df = adata.uns[\"liana_res\"][[\"source\",\"target\",\"ligand\",\"receptor\",\"lr_probs\"]].sort_values(\"lr_probs\",ascending=False)\n",
    "\n",
    "    day0_list = [connectome_df,cellphone_df,cellchat_df]\n",
    "\n",
    "    # Day 7_1\n",
    "    matrix = pd.read_csv(\"../../data/CellGATv2_Input/Pre_Post/Day7_1/matrix.csv\",index_col=0)\n",
    "\n",
    "    matrix.index = [str(i).upper() for i in matrix.index.tolist()]\n",
    "\n",
    "\n",
    "    index = matrix.index.tolist()\n",
    "\n",
    "    matrix = matrix.fillna(0)\n",
    "\n",
    "    adata = anndata.AnnData(matrix.transpose())\n",
    "\n",
    "    sc.pp.normalize_total(adata)\n",
    "    sc.pp.neighbors(adata)\n",
    "    sc.tl.leiden(adata)\n",
    "\n",
    "    meta = pd.DataFrame({\"cell\":adata.obs[\"leiden\"].index.tolist(),\"label\":adata.obs[\"leiden\"].tolist()})\n",
    "\n",
    "    meta.index = meta[\"cell\"].tolist()\n",
    "\n",
    "    adata = anndata.AnnData(matrix.transpose())\n",
    "    adata.raw = adata\n",
    "    adata.obs = meta\n",
    "    adata.obs[\"label\"] = adata.obs[\"label\"].astype(\"category\")\n",
    "    sc.tl.rank_genes_groups(adata, 'label')\n",
    "\n",
    "    connectome(adata,groupby=\"label\",expr_prop=expr_prop_value)\n",
    "    connectome_df = adata.uns[\"liana_res\"][[\"source\",\"target\",\"ligand\",\"receptor\",\"expr_prod\"]].sort_values(\"expr_prod\",ascending=False)\n",
    "    cellphonedb(adata,groupby=\"label\",expr_prop=expr_prop_value)\n",
    "    cellphone_df = adata.uns[\"liana_res\"][[\"source\",\"target\",\"ligand\",\"receptor\",\"lr_means\"]].sort_values(\"lr_means\",ascending=False)\n",
    "    cellchat(adata,groupby=\"label\",expr_prop=expr_prop_value)\n",
    "    cellchat_df = adata.uns[\"liana_res\"][[\"source\",\"target\",\"ligand\",\"receptor\",\"lr_probs\"]].sort_values(\"lr_probs\",ascending=False)\n",
    "\n",
    "    day7_rep1_list = [connectome_df,cellphone_df,cellchat_df]\n",
    "\n",
    "    # Day 7_2\n",
    "    matrix = pd.read_csv(\"../../data/CellGATv2_Input/Pre_Post/Day7_2/matrix.csv\",index_col=0)\n",
    "\n",
    "    matrix.index = [str(i).upper() for i in matrix.index.tolist()]\n",
    "\n",
    "    index = matrix.index.tolist()\n",
    "\n",
    "    matrix = matrix.fillna(0)\n",
    "\n",
    "    adata = anndata.AnnData(matrix.transpose())\n",
    "\n",
    "\n",
    "    sc.pp.normalize_total(adata)\n",
    "    sc.pp.neighbors(adata)\n",
    "    sc.tl.leiden(adata)\n",
    "\n",
    "    meta = pd.DataFrame({\"cell\":adata.obs[\"leiden\"].index.tolist(),\"label\":adata.obs[\"leiden\"].tolist()})\n",
    "\n",
    "    meta.index = meta[\"cell\"].tolist()\n",
    "\n",
    "    adata = anndata.AnnData(matrix.transpose())\n",
    "    adata.raw = adata\n",
    "    adata.obs = meta\n",
    "    adata.obs[\"label\"] = adata.obs[\"label\"].astype(\"category\")\n",
    "    sc.tl.rank_genes_groups(adata, 'label')\n",
    "    pval_df = pd.DataFrame.from_records(adata.uns[\"rank_genes_groups\"][\"pvals\"])\n",
    "    pval_df.index = matrix.index.tolist()\n",
    "    cell_type_df = {}\n",
    "    for i in pval_df.columns.tolist():\n",
    "        sub = pval_df[i]\n",
    "        sub = sub[sub < 0.05]\n",
    "        cell_type_df[i] = sub.index.tolist()\n",
    "        \n",
    "    connectome(adata,groupby=\"label\",expr_prop=expr_prop_value)\n",
    "    connectome_df = adata.uns[\"liana_res\"][[\"source\",\"target\",\"ligand\",\"receptor\",\"expr_prod\"]].sort_values(\"expr_prod\",ascending=False)\n",
    "    cellphonedb(adata,groupby=\"label\",expr_prop=expr_prop_value)\n",
    "    cellphone_df = adata.uns[\"liana_res\"][[\"source\",\"target\",\"ligand\",\"receptor\",\"lr_means\"]].sort_values(\"lr_means\",ascending=False)\n",
    "    cellchat(adata,groupby=\"label\",expr_prop=expr_prop_value)\n",
    "    cellchat_df = adata.uns[\"liana_res\"][[\"source\",\"target\",\"ligand\",\"receptor\",\"lr_probs\"]].sort_values(\"lr_probs\",ascending=False)\n",
    "\n",
    "    day7_rep2_list = [connectome_df,cellphone_df,cellchat_df]\n",
    "\n",
    "    # pathway analysis\n",
    "    pathways = pd.read_csv(\"../../data/LR_database/kegg_pathways.csv\")\n",
    "    Omnipath_db = pd.read_csv(\"../../data/LR_database/consensus_Omnipath.csv\",index_col=0)[[\"source\",\"target\"]].drop_duplicates()\n",
    "    Omnipath_db.columns = [\"from\",\"to\"]\n",
    "    Omnipath_db = Omnipath_db.drop_duplicates()\n",
    "\n",
    "    day0_list = [i[(i[\"ligand\"].isin(Omnipath_db[\"from\"].tolist()))&(i[\"receptor\"].isin(Omnipath_db[\"to\"].tolist()))] for i in day0_list]\n",
    "    day7_rep1_list = [i[(i[\"ligand\"].isin(Omnipath_db[\"from\"].tolist()))&(i[\"receptor\"].isin(Omnipath_db[\"to\"].tolist()))] for i in day7_rep1_list]\n",
    "    day7_rep2_list = [i[(i[\"ligand\"].isin(Omnipath_db[\"from\"].tolist()))&(i[\"receptor\"].isin(Omnipath_db[\"to\"].tolist()))] for i in day7_rep2_list]\n",
    "\n",
    "    total_day7_1 = pd.read_csv(f\"../../data/CellGATv2_100_times/Pre_Post/Day0/Day0_{A+1}_random.csv\",index_col=0)[[\"Src\",\"Dst\"]]\n",
    "    total_day7_2 = pd.read_csv(f\"../../data/CellGATv2_100_times/Pre_Post/Day7_1/Rep1_{A+1}_random.csv\",index_col=0)[[\"Src\",\"Dst\"]]\n",
    "    total_day0 = pd.read_csv(f\"../../data/CellGATv2_100_times/Pre_Post/Day7_2/Rep2_{A+1}_random.csv\",index_col=0)[[\"Src\",\"Dst\"]]\n",
    "\n",
    "    total_day7_1 = total_day7_1[(total_day7_1[\"Src\"].isin(Omnipath_db[\"from\"].tolist()))&(total_day7_1[\"Dst\"].isin(Omnipath_db[\"to\"].tolist()))]\n",
    "    total_day7_2 = total_day7_2[(total_day7_2[\"Src\"].isin(Omnipath_db[\"from\"].tolist()))&(total_day7_2[\"Dst\"].isin(Omnipath_db[\"to\"].tolist()))]\n",
    "    total_day0 = total_day0[(total_day0[\"Src\"].isin(Omnipath_db[\"from\"].tolist()))&(total_day0[\"Dst\"].isin(Omnipath_db[\"to\"].tolist()))]\n",
    "    pathways.index = pathways[\"genesymbol\"].tolist()\n",
    "    day0_list = [i[(i[\"ligand\"].isin(pathways[\"genesymbol\"].tolist()))&(i[\"receptor\"].isin(pathways[\"genesymbol\"].tolist()))] for i in day0_list]\n",
    "    day7_rep1_list = [i[(i[\"ligand\"].isin(pathways[\"genesymbol\"].tolist()))&(i[\"receptor\"].isin(pathways[\"genesymbol\"].tolist()))] for i in day7_rep1_list]\n",
    "    day7_rep2_list = [i[(i[\"ligand\"].isin(pathways[\"genesymbol\"].tolist()))&(i[\"receptor\"].isin(pathways[\"genesymbol\"].tolist()))] for i in day7_rep2_list]\n",
    "\n",
    "    total_day7_1 = pd.read_csv(f\"../../data/CellGATv2_100_times/Pre_Post/Day0/Day0_{A+1}_random.csv\",index_col=0)[[\"Src\",\"Dst\"]]\n",
    "    total_day7_2 = pd.read_csv(f\"../../data/CellGATv2_100_times/Pre_Post/Day7_1/Rep1_{A+1}_random.csv\",index_col=0)[[\"Src\",\"Dst\"]]\n",
    "    total_day0 = pd.read_csv(f\"../../data/CellGATv2_100_times/Pre_Post/Day7_2/Rep2_{A+1}_random.csv\",index_col=0)[[\"Src\",\"Dst\"]]\n",
    "\n",
    "    total_day7_1 = total_day7_1[(total_day7_1[\"Src\"].isin(pathways[\"genesymbol\"].tolist()))&(total_day7_1[\"Dst\"].isin(pathways[\"genesymbol\"].tolist()))]\n",
    "    total_day7_2 = total_day7_2[(total_day7_2[\"Src\"].isin(pathways[\"genesymbol\"].tolist()))&(total_day7_2[\"Dst\"].isin(pathways[\"genesymbol\"].tolist()))]\n",
    "    total_day0 = total_day0[(total_day0[\"Src\"].isin(pathways[\"genesymbol\"].tolist()))&(total_day0[\"Dst\"].isin(pathways[\"genesymbol\"].tolist()))]\n",
    "    pathways = pathways.drop_duplicates(\"genesymbol\")\n",
    "    pathways.index = pathways[\"genesymbol\"].tolist()\n",
    "\n",
    "    for i in day0_list:\n",
    "        i[\"Ligand Pathway\"] = pathways.loc[i[\"ligand\"].tolist()][\"pathway\"].tolist()\n",
    "        i[\"Receptor Pathway\"] = pathways.loc[i[\"receptor\"].tolist()][\"pathway\"].tolist()\n",
    "        \n",
    "    for i in day7_rep1_list:\n",
    "        i[\"Ligand Pathway\"] = pathways.loc[i[\"ligand\"].tolist()][\"pathway\"].tolist()\n",
    "        i[\"Receptor Pathway\"] = pathways.loc[i[\"receptor\"].tolist()][\"pathway\"].tolist()\n",
    "        \n",
    "    for i in day7_rep2_list:\n",
    "        i[\"Ligand Pathway\"] = pathways.loc[i[\"ligand\"].tolist()][\"pathway\"].tolist()\n",
    "        i[\"Receptor Pathway\"] = pathways.loc[i[\"receptor\"].tolist()][\"pathway\"].tolist()\n",
    "        \n",
    "    total_day0[\"Ligand Pathway\"] = pathways.loc[total_day0[\"Src\"].tolist()][\"pathway\"].tolist()\n",
    "    total_day0[\"Receptor Pathway\"] = pathways.loc[total_day0[\"Dst\"].tolist()][\"pathway\"].tolist()\n",
    "    total_day7_1[\"Ligand Pathway\"] = pathways.loc[total_day7_1[\"Src\"].tolist()][\"pathway\"].tolist()\n",
    "    total_day7_1[\"Receptor Pathway\"] = pathways.loc[total_day7_1[\"Dst\"].tolist()][\"pathway\"].tolist()\n",
    "    total_day7_2[\"Ligand Pathway\"] = pathways.loc[total_day7_2[\"Src\"].tolist()][\"pathway\"].tolist()\n",
    "    total_day7_2[\"Receptor Pathway\"] = pathways.loc[total_day7_2[\"Dst\"].tolist()][\"pathway\"].tolist()\n",
    "    day0_list = [i.head(1000) for i in day0_list]\n",
    "    day7_rep1_list = [i.head(1000) for i in day7_rep1_list]\n",
    "    day7_rep2_list = [i.head(1000) for i in day7_rep2_list]\n",
    "\n",
    "    total_day0 = total_day0.head(1000)\n",
    "    total_day7_1 = total_day7_1.head(1000)\n",
    "    total_day7_2 = total_day7_2.head(1000)\n",
    "    grouped_day_7_1_list = [i.groupby(\"Receptor Pathway\").count().sort_values(\"ligand\",ascending=False) for i in day7_rep2_list]\n",
    "    grouped_day_7_1 = total_day7_2.groupby(\"Receptor Pathway\").count().sort_values(\"Src\",ascending=False)\n",
    "    grouped_day_7_1_list[0].to_csv(\"../../results/Pre_Post_1/connectome_day7_2_receptor.csv\")\n",
    "    grouped_day_7_1_list[1].to_csv(\"../../results/Pre_Post_1/cellphone_day7_2_receptor.csv\")\n",
    "    grouped_day_7_1_list[2].to_csv(\"../../results/Pre_Post_1/cellchat_day7_2_receptor.csv\")\n",
    "    grouped_day_7_1.to_csv(\"../../results/Pre_Post_1/CellGATv2_day7_2_receptor.csv\")\n",
    "\n",
    "    day0_list = [i[[\"ligand\",\"receptor\"]].drop_duplicates() for i in day0_list]\n",
    "    day7_rep1_list = [i[[\"ligand\",\"receptor\"]].drop_duplicates() for i in day7_rep1_list]\n",
    "    day7_rep2_list = [i[[\"ligand\",\"receptor\"]].drop_duplicates() for i in day7_rep2_list]   \n",
    "    original_day0 = day0_list\n",
    "    original_day7_rep1 = day7_rep1_list\n",
    "    original_day7_rep2 = day7_rep2_list\n",
    "    day0_list = [i.head(50) for i in day0_list]\n",
    "    day7_rep1_list = [i.head(50) for i in day7_rep1_list]\n",
    "    day7_rep2_list = [i.head(50) for i in day7_rep2_list]\n",
    "    pathways = pd.read_csv(\"../../data/LR_database/kegg_pathways.csv\")\n",
    "    for i in day0_list:\n",
    "        i[\"Ligand Pathway\"] = [pathways[pathways[\"genesymbol\"]==j][\"pathway\"] for j in i[\"ligand\"].tolist()]\n",
    "\n",
    "    Omnipath_db = pd.read_csv(\"../../data/LR_database/consensus_Omnipath.csv\",index_col=0)[[\"source\",\"target\"]].drop_duplicates()\n",
    "    Omnipath_db.columns = [\"from\",\"to\"]\n",
    "    Omnipath_db = Omnipath_db.drop_duplicates()\n",
    "\n",
    "    day0_list = [pd.merge(i,Omnipath_db,left_on=[\"ligand\",\"receptor\"],right_on=[\"from\",\"to\"]) for i in day0_list]\n",
    "    day7_rep1_list = [pd.merge(i,Omnipath_db,left_on=[\"ligand\",\"receptor\"],right_on=[\"from\",\"to\"]) for i in day7_rep1_list]\n",
    "    day7_rep2_list = [pd.merge(i,Omnipath_db,left_on=[\"ligand\",\"receptor\"],right_on=[\"from\",\"to\"]) for i in day7_rep2_list]\n",
    "\n",
    "    day0_list = [i[[\"ligand\",\"receptor\"]] for i in day0_list]\n",
    "    day7_rep1_list = [i[[\"ligand\",\"receptor\"]] for i in day7_rep1_list]\n",
    "    day7_rep2_list = [i[[\"ligand\",\"receptor\"]] for i in day7_rep2_list]\n",
    "    pre_post_list = []\n",
    "    for i,j,k in zip(day0_list,day7_rep1_list,day7_rep2_list):\n",
    "        day0_day7_rep1_common = pd.merge(i,j).shape[0]/50\n",
    "        day0_day7_rep2_common = pd.merge(i,k).shape[0]/50\n",
    "        pre_post_list.append(min(1-day0_day7_rep1_common,1-day0_day7_rep2_common))\n",
    "    total_day7_1 = pd.read_csv(f\"../../data/CellGATv2_100_times/Pre_Post/Day0/Day0_{A+1}_random.csv\",index_col=0)[[\"Src\",\"Dst\"]]\n",
    "    total_day7_2 = pd.read_csv(f\"../../data/CellGATv2_100_times/Pre_Post/Day7_1/Rep1_{A+1}_random.csv\",index_col=0)[[\"Src\",\"Dst\"]]\n",
    "    total_day0 = pd.read_csv(f\"../../data/CellGATv2_100_times/Pre_Post/Day7_2/Rep2_{A+1}_random.csv\",index_col=0)[[\"Src\",\"Dst\"]]\n",
    "\n",
    "    total_day0 = pd.merge(total_day0,Omnipath_db,left_on=[\"Src\",\"Dst\"],right_on=[\"from\",\"to\"]).head(50)[[\"Src\",\"Dst\"]]\n",
    "    total_day7_1 = pd.merge(total_day7_1,Omnipath_db,left_on=[\"Src\",\"Dst\"],right_on=[\"from\",\"to\"]).head(50)[[\"Src\",\"Dst\"]]\n",
    "    total_day7_2 = pd.merge(total_day7_2,Omnipath_db,left_on=[\"Src\",\"Dst\"],right_on=[\"from\",\"to\"]).head(50)[[\"Src\",\"Dst\"]]\n",
    "\n",
    "    total_day0_day7_1 = pd.merge(total_day0,total_day7_1).shape[0]/50\n",
    "    total_day0_day7_2 = pd.merge(total_day0,total_day7_2).shape[0]/50\n",
    "    total_pre_post = max(1-total_day0_day7_1,1-total_day0_day7_2)\n",
    "\n",
    "    result = []\n",
    "    result = [total_pre_post]+pre_post_list\n",
    "    print(\"The result in dataset:\",result)\n",
    "    CellGAT_PC9_result.append(result[0])\n",
    "    Connectome_PC9_result.append(result[1])\n",
    "    CellphoneDB_PC9_result.append(result[2])\n",
    "    CellChat_PC9_result.append(result[3])\n",
    "data = {'CellGAT': CellGAT_PC9_result,\n",
    "    'Connectome': Connectome_PC9_result,\n",
    "    'CellphoneDB': CellphoneDB_PC9_result,\n",
    "    'CellChat': CellChat_PC9_result}\n",
    "\n",
    "df = pd.DataFrame(data)\n",
    "\n",
    "# 输出 DataFrame 到 CSV 文件\n",
    "df.to_csv('../../results/result_PC9_comparison.csv', index=False)"
   ]
  },
  {
   "cell_type": "code",
   "execution_count": null,
   "id": "7fb708d3-262f-4fe6-b0f2-f25aa90d7945",
   "metadata": {},
   "outputs": [],
   "source": [
    "from scipy.stats import ttest_ind\n",
    "\n",
    "# 所有方法的结果列表\n",
    "all_results = [Connectome_result, CellphoneDB_result, CellChat_result]\n",
    "\n",
    "# 所有方法的名称\n",
    "methods = ['Connectome', 'CellphoneDB', 'CellChat']\n",
    "\n",
    "# 逐个比较 CellGAT 和其他方法\n",
    "for i, method in enumerate(methods):\n",
    "    t_statistic, p_value = ttest_ind(CellGAT_result, all_results[i])\n",
    "\n",
    "    # 输出 t 检验结果\n",
    "    print(f\"T 检验结果（{method} vs. CellGAT）:\")\n",
    "    print(\"t 值:\", t_statistic)\n",
    "    print(\"p 值:\", p_value)\n",
    "\n",
    "    # 判断是否拒绝原假设\n",
    "    alpha = 0.05\n",
    "    if p_value < alpha:\n",
    "        print(f\"拒绝原假设，{method} 和 CellGAT 的均值显著不同\")\n",
    "    else:\n",
    "        print(f\"未拒绝原假设，{method} 和 CellGAT 的均值无显著差异\")\n",
    "\n",
    "    print(\"\\n\")\n"
   ]
  },
  {
   "cell_type": "code",
   "execution_count": 58,
   "id": "7a98dbff",
   "metadata": {},
   "outputs": [
    {
     "name": "stderr",
     "output_type": "stream",
     "text": [
      "/tmp/ipykernel_25667/3368364096.py:6: FutureWarning: X.dtype being converted to np.float32 from float64. In the next version of anndata (0.9) conversion will not be automatic. Pass dtype explicitly to avoid this warning. Pass `AnnData(X, dtype=X.dtype, ...)` to get the future behavour.\n"
     ]
    },
    {
     "name": "stdout",
     "output_type": "stream",
     "text": [
      "WARNING: You’re trying to run this on 14855 dimensions of `.X`, if you really want this, set `use_rep='X'`.\n",
      "         Falling back to preprocessing with `sc.pp.pca` and default params.\n"
     ]
    },
    {
     "name": "stderr",
     "output_type": "stream",
     "text": [
      "/tmp/ipykernel_25667/3368364096.py:13: FutureWarning: X.dtype being converted to np.float32 from float64. In the next version of anndata (0.9) conversion will not be automatic. Pass dtype explicitly to avoid this warning. Pass `AnnData(X, dtype=X.dtype, ...)` to get the future behavour.\n"
     ]
    },
    {
     "name": "stdout",
     "output_type": "stream",
     "text": [
      "WARNING: Default of the method has been changed to 't-test' from 't-test_overestim_var'\n",
      "WARNING: You’re trying to run this on 14573 dimensions of `.X`, if you really want this, set `use_rep='X'`.\n",
      "         Falling back to preprocessing with `sc.pp.pca` and default params.\n"
     ]
    },
    {
     "name": "stderr",
     "output_type": "stream",
     "text": [
      "/tmp/ipykernel_25667/3368364096.py:38: FutureWarning: X.dtype being converted to np.float32 from float64. In the next version of anndata (0.9) conversion will not be automatic. Pass dtype explicitly to avoid this warning. Pass `AnnData(X, dtype=X.dtype, ...)` to get the future behavour.\n",
      "/tmp/ipykernel_25667/3368364096.py:48: FutureWarning: X.dtype being converted to np.float32 from float64. In the next version of anndata (0.9) conversion will not be automatic. Pass dtype explicitly to avoid this warning. Pass `AnnData(X, dtype=X.dtype, ...)` to get the future behavour.\n"
     ]
    },
    {
     "name": "stdout",
     "output_type": "stream",
     "text": [
      "WARNING: Default of the method has been changed to 't-test' from 't-test_overestim_var'\n",
      "WARNING: You’re trying to run this on 14362 dimensions of `.X`, if you really want this, set `use_rep='X'`.\n",
      "         Falling back to preprocessing with `sc.pp.pca` and default params.\n"
     ]
    },
    {
     "name": "stderr",
     "output_type": "stream",
     "text": [
      "/tmp/ipykernel_25667/3368364096.py:72: FutureWarning: X.dtype being converted to np.float32 from float64. In the next version of anndata (0.9) conversion will not be automatic. Pass dtype explicitly to avoid this warning. Pass `AnnData(X, dtype=X.dtype, ...)` to get the future behavour.\n"
     ]
    },
    {
     "name": "stdout",
     "output_type": "stream",
     "text": [
      "WARNING: Default of the method has been changed to 't-test' from 't-test_overestim_var'\n"
     ]
    },
    {
     "name": "stderr",
     "output_type": "stream",
     "text": [
      "/tmp/ipykernel_25667/3368364096.py:83: FutureWarning: X.dtype being converted to np.float32 from float64. In the next version of anndata (0.9) conversion will not be automatic. Pass dtype explicitly to avoid this warning. Pass `AnnData(X, dtype=X.dtype, ...)` to get the future behavour.\n"
     ]
    },
    {
     "name": "stdout",
     "output_type": "stream",
     "text": [
      "The result in dataset: [0.94, 0.94, 0.94, 0.94]\n"
     ]
    },
    {
     "name": "stderr",
     "output_type": "stream",
     "text": [
      "/tmp/ipykernel_25667/3368364096.py:180: SettingWithCopyWarning: \n",
      "A value is trying to be set on a copy of a slice from a DataFrame.\n",
      "Try using .loc[row_indexer,col_indexer] = value instead\n",
      "\n",
      "See the caveats in the documentation: https://pandas.pydata.org/pandas-docs/stable/user_guide/indexing.html#returning-a-view-versus-a-copy\n"
     ]
    }
   ],
   "source": [
    "\n",
    "# Day0\n",
    "matrix = pd.read_csv(\"../../data/CellGATv2_Input/Pre_Post/Day0/matrix.csv\",index_col=0)\n",
    "matrix.index = [str(i).upper() for i in matrix.index.tolist()]\n",
    "index = matrix.index.tolist()\n",
    "matrix = matrix.fillna(0)\n",
    "adata = anndata.AnnData(matrix.transpose())\n",
    "sc.pp.normalize_total(adata)\n",
    "sc.pp.neighbors(adata)\n",
    "sc.tl.leiden(adata)\n",
    "meta = pd.DataFrame({\"cell\":adata.obs[\"leiden\"].index.tolist(),\"label\":adata.obs[\"leiden\"].tolist()})\n",
    "meta.index = meta[\"cell\"].tolist()\n",
    "\n",
    "adata = anndata.AnnData(matrix.transpose())\n",
    "adata.raw = adata\n",
    "adata.obs = meta\n",
    "adata.obs[\"label\"] = adata.obs[\"label\"].astype(\"category\")\n",
    "sc.tl.rank_genes_groups(adata, 'label')\n",
    "\n",
    "connectome(adata,groupby=\"label\",expr_prop=0.728)\n",
    "connectome_df = adata.uns[\"liana_res\"][[\"source\",\"target\",\"ligand\",\"receptor\",\"expr_prod\"]].sort_values(\"expr_prod\",ascending=False)\n",
    "cellphonedb(adata,groupby=\"label\",expr_prop=0.728)\n",
    "cellphone_df = adata.uns[\"liana_res\"][[\"source\",\"target\",\"ligand\",\"receptor\",\"lr_means\"]].sort_values(\"lr_means\",ascending=False)\n",
    "cellchat(adata,groupby=\"label\",expr_prop=0.728)\n",
    "cellchat_df = adata.uns[\"liana_res\"][[\"source\",\"target\",\"ligand\",\"receptor\",\"lr_probs\"]].sort_values(\"lr_probs\",ascending=False)\n",
    "\n",
    "day0_list = [connectome_df,cellphone_df,cellchat_df]\n",
    "\n",
    "# Day 7_1\n",
    "matrix = pd.read_csv(\"../../data/CellGATv2_Input/Pre_Post/Day7_1/matrix.csv\",index_col=0)\n",
    "\n",
    "matrix.index = [str(i).upper() for i in matrix.index.tolist()]\n",
    "\n",
    "\n",
    "index = matrix.index.tolist()\n",
    "\n",
    "matrix = matrix.fillna(0)\n",
    "\n",
    "adata = anndata.AnnData(matrix.transpose())\n",
    "\n",
    "sc.pp.normalize_total(adata)\n",
    "sc.pp.neighbors(adata)\n",
    "sc.tl.leiden(adata)\n",
    "\n",
    "meta = pd.DataFrame({\"cell\":adata.obs[\"leiden\"].index.tolist(),\"label\":adata.obs[\"leiden\"].tolist()})\n",
    "\n",
    "meta.index = meta[\"cell\"].tolist()\n",
    "\n",
    "adata = anndata.AnnData(matrix.transpose())\n",
    "adata.raw = adata\n",
    "adata.obs = meta\n",
    "adata.obs[\"label\"] = adata.obs[\"label\"].astype(\"category\")\n",
    "sc.tl.rank_genes_groups(adata, 'label')\n",
    "\n",
    "connectome(adata,groupby=\"label\",expr_prop=0.728)\n",
    "connectome_df = adata.uns[\"liana_res\"][[\"source\",\"target\",\"ligand\",\"receptor\",\"expr_prod\"]].sort_values(\"expr_prod\",ascending=False)\n",
    "cellphonedb(adata,groupby=\"label\",expr_prop=0.728)\n",
    "cellphone_df = adata.uns[\"liana_res\"][[\"source\",\"target\",\"ligand\",\"receptor\",\"lr_means\"]].sort_values(\"lr_means\",ascending=False)\n",
    "cellchat(adata,groupby=\"label\",expr_prop=0.728)\n",
    "cellchat_df = adata.uns[\"liana_res\"][[\"source\",\"target\",\"ligand\",\"receptor\",\"lr_probs\"]].sort_values(\"lr_probs\",ascending=False)\n",
    "\n",
    "day7_rep1_list = [connectome_df,cellphone_df,cellchat_df]\n",
    "\n",
    "# Day 7_2\n",
    "matrix = pd.read_csv(\"../../data/CellGATv2_Input/Pre_Post/Day7_2/matrix.csv\",index_col=0)\n",
    "\n",
    "matrix.index = [str(i).upper() for i in matrix.index.tolist()]\n",
    "\n",
    "index = matrix.index.tolist()\n",
    "\n",
    "matrix = matrix.fillna(0)\n",
    "\n",
    "adata = anndata.AnnData(matrix.transpose())\n",
    "\n",
    "\n",
    "sc.pp.normalize_total(adata)\n",
    "sc.pp.neighbors(adata)\n",
    "sc.tl.leiden(adata)\n",
    "\n",
    "meta = pd.DataFrame({\"cell\":adata.obs[\"leiden\"].index.tolist(),\"label\":adata.obs[\"leiden\"].tolist()})\n",
    "\n",
    "meta.index = meta[\"cell\"].tolist()\n",
    "\n",
    "adata = anndata.AnnData(matrix.transpose())\n",
    "adata.raw = adata\n",
    "adata.obs = meta\n",
    "adata.obs[\"label\"] = adata.obs[\"label\"].astype(\"category\")\n",
    "sc.tl.rank_genes_groups(adata, 'label')\n",
    "pval_df = pd.DataFrame.from_records(adata.uns[\"rank_genes_groups\"][\"pvals\"])\n",
    "pval_df.index = matrix.index.tolist()\n",
    "cell_type_df = {}\n",
    "for i in pval_df.columns.tolist():\n",
    "    sub = pval_df[i]\n",
    "    sub = sub[sub < 0.05]\n",
    "    cell_type_df[i] = sub.index.tolist()\n",
    "    \n",
    "connectome(adata,groupby=\"label\",expr_prop=0.728)\n",
    "connectome_df = adata.uns[\"liana_res\"][[\"source\",\"target\",\"ligand\",\"receptor\",\"expr_prod\"]].sort_values(\"expr_prod\",ascending=False)\n",
    "cellphonedb(adata,groupby=\"label\",expr_prop=0.728)\n",
    "cellphone_df = adata.uns[\"liana_res\"][[\"source\",\"target\",\"ligand\",\"receptor\",\"lr_means\"]].sort_values(\"lr_means\",ascending=False)\n",
    "cellchat(adata,groupby=\"label\",expr_prop=0.728)\n",
    "cellchat_df = adata.uns[\"liana_res\"][[\"source\",\"target\",\"ligand\",\"receptor\",\"lr_probs\"]].sort_values(\"lr_probs\",ascending=False)\n",
    "\n",
    "day7_rep2_list = [connectome_df,cellphone_df,cellchat_df]\n",
    "\n",
    "# pathway analysis\n",
    "pathways = pd.read_csv(\"../../data/LR_database/kegg_pathways.csv\")\n",
    "Omnipath_db = pd.read_csv(\"../../data/LR_database/consensus_Omnipath.csv\",index_col=0)[[\"source\",\"target\"]].drop_duplicates()\n",
    "Omnipath_db.columns = [\"from\",\"to\"]\n",
    "Omnipath_db = Omnipath_db.drop_duplicates()\n",
    "\n",
    "day0_list = [i[(i[\"ligand\"].isin(Omnipath_db[\"from\"].tolist()))&(i[\"receptor\"].isin(Omnipath_db[\"to\"].tolist()))] for i in day0_list]\n",
    "day7_rep1_list = [i[(i[\"ligand\"].isin(Omnipath_db[\"from\"].tolist()))&(i[\"receptor\"].isin(Omnipath_db[\"to\"].tolist()))] for i in day7_rep1_list]\n",
    "day7_rep2_list = [i[(i[\"ligand\"].isin(Omnipath_db[\"from\"].tolist()))&(i[\"receptor\"].isin(Omnipath_db[\"to\"].tolist()))] for i in day7_rep2_list]\n",
    "\n",
    "total_day7_1 = pd.read_csv(f\"../../data/CellGATv2_100_times/Pre_Post/Day0/Day0_91_random.csv\",index_col=0)[[\"Src\",\"Dst\"]]\n",
    "total_day7_2 = pd.read_csv(f\"../../data/CellGATv2_100_times/Pre_Post/Day7_1/Rep1_91_random.csv\",index_col=0)[[\"Src\",\"Dst\"]]\n",
    "total_day0 = pd.read_csv(f\"../../data/CellGATv2_100_times/Pre_Post/Day7_2/Rep2_91_random.csv\",index_col=0)[[\"Src\",\"Dst\"]]\n",
    "\n",
    "total_day7_1 = total_day7_1[(total_day7_1[\"Src\"].isin(Omnipath_db[\"from\"].tolist()))&(total_day7_1[\"Dst\"].isin(Omnipath_db[\"to\"].tolist()))]\n",
    "total_day7_2 = total_day7_2[(total_day7_2[\"Src\"].isin(Omnipath_db[\"from\"].tolist()))&(total_day7_2[\"Dst\"].isin(Omnipath_db[\"to\"].tolist()))]\n",
    "total_day0 = total_day0[(total_day0[\"Src\"].isin(Omnipath_db[\"from\"].tolist()))&(total_day0[\"Dst\"].isin(Omnipath_db[\"to\"].tolist()))]\n",
    "pathways.index = pathways[\"genesymbol\"].tolist()\n",
    "day0_list = [i[(i[\"ligand\"].isin(pathways[\"genesymbol\"].tolist()))&(i[\"receptor\"].isin(pathways[\"genesymbol\"].tolist()))] for i in day0_list]\n",
    "day7_rep1_list = [i[(i[\"ligand\"].isin(pathways[\"genesymbol\"].tolist()))&(i[\"receptor\"].isin(pathways[\"genesymbol\"].tolist()))] for i in day7_rep1_list]\n",
    "day7_rep2_list = [i[(i[\"ligand\"].isin(pathways[\"genesymbol\"].tolist()))&(i[\"receptor\"].isin(pathways[\"genesymbol\"].tolist()))] for i in day7_rep2_list]\n",
    "\n",
    "total_day7_1 = pd.read_csv(f\"../../data/CellGATv2_100_times/Pre_Post/Day0/Day0_91_random.csv\",index_col=0)[[\"Src\",\"Dst\"]]\n",
    "total_day7_2 = pd.read_csv(f\"../../data/CellGATv2_100_times/Pre_Post/Day7_1/Rep1_91_random.csv\",index_col=0)[[\"Src\",\"Dst\"]]\n",
    "total_day0 = pd.read_csv(f\"../../data/CellGATv2_100_times/Pre_Post/Day7_2/Rep2_91_random.csv\",index_col=0)[[\"Src\",\"Dst\"]]\n",
    "\n",
    "total_day7_1 = total_day7_1[(total_day7_1[\"Src\"].isin(pathways[\"genesymbol\"].tolist()))&(total_day7_1[\"Dst\"].isin(pathways[\"genesymbol\"].tolist()))]\n",
    "total_day7_2 = total_day7_2[(total_day7_2[\"Src\"].isin(pathways[\"genesymbol\"].tolist()))&(total_day7_2[\"Dst\"].isin(pathways[\"genesymbol\"].tolist()))]\n",
    "total_day0 = total_day0[(total_day0[\"Src\"].isin(pathways[\"genesymbol\"].tolist()))&(total_day0[\"Dst\"].isin(pathways[\"genesymbol\"].tolist()))]\n",
    "pathways = pathways.drop_duplicates(\"genesymbol\")\n",
    "pathways.index = pathways[\"genesymbol\"].tolist()\n",
    "\n",
    "for i in day0_list:\n",
    "    i[\"Ligand Pathway\"] = pathways.loc[i[\"ligand\"].tolist()][\"pathway\"].tolist()\n",
    "    i[\"Receptor Pathway\"] = pathways.loc[i[\"receptor\"].tolist()][\"pathway\"].tolist()\n",
    "    \n",
    "for i in day7_rep1_list:\n",
    "    i[\"Ligand Pathway\"] = pathways.loc[i[\"ligand\"].tolist()][\"pathway\"].tolist()\n",
    "    i[\"Receptor Pathway\"] = pathways.loc[i[\"receptor\"].tolist()][\"pathway\"].tolist()\n",
    "    \n",
    "for i in day7_rep2_list:\n",
    "    i[\"Ligand Pathway\"] = pathways.loc[i[\"ligand\"].tolist()][\"pathway\"].tolist()\n",
    "    i[\"Receptor Pathway\"] = pathways.loc[i[\"receptor\"].tolist()][\"pathway\"].tolist()\n",
    "    \n",
    "total_day0[\"Ligand Pathway\"] = pathways.loc[total_day0[\"Src\"].tolist()][\"pathway\"].tolist()\n",
    "total_day0[\"Receptor Pathway\"] = pathways.loc[total_day0[\"Dst\"].tolist()][\"pathway\"].tolist()\n",
    "total_day7_1[\"Ligand Pathway\"] = pathways.loc[total_day7_1[\"Src\"].tolist()][\"pathway\"].tolist()\n",
    "total_day7_1[\"Receptor Pathway\"] = pathways.loc[total_day7_1[\"Dst\"].tolist()][\"pathway\"].tolist()\n",
    "total_day7_2[\"Ligand Pathway\"] = pathways.loc[total_day7_2[\"Src\"].tolist()][\"pathway\"].tolist()\n",
    "total_day7_2[\"Receptor Pathway\"] = pathways.loc[total_day7_2[\"Dst\"].tolist()][\"pathway\"].tolist()\n",
    "day0_list = [i.head(1000) for i in day0_list]\n",
    "day7_rep1_list = [i.head(1000) for i in day7_rep1_list]\n",
    "day7_rep2_list = [i.head(1000) for i in day7_rep2_list]\n",
    "\n",
    "total_day0 = total_day0.head(1000)\n",
    "total_day7_1 = total_day7_1.head(1000)\n",
    "total_day7_2 = total_day7_2.head(1000)\n",
    "grouped_day_7_1_list = [i.groupby(\"Receptor Pathway\").count().sort_values(\"ligand\",ascending=False) for i in day7_rep2_list]\n",
    "grouped_day_7_1 = total_day7_2.groupby(\"Receptor Pathway\").count().sort_values(\"Src\",ascending=False)\n",
    "grouped_day_7_1_list[0].to_csv(\"../../results/Pre_Post_1/connectome_day7_2_receptor.csv\")\n",
    "grouped_day_7_1_list[1].to_csv(\"../../results/Pre_Post_1/cellphone_day7_2_receptor.csv\")\n",
    "grouped_day_7_1_list[2].to_csv(\"../../results/Pre_Post_1/cellchat_day7_2_receptor.csv\")\n",
    "grouped_day_7_1.to_csv(\"../../results/Pre_Post_1/CellGATv2_day7_2_receptor.csv\")\n",
    "\n",
    "day0_list = [i[[\"ligand\",\"receptor\"]].drop_duplicates() for i in day0_list]\n",
    "day7_rep1_list = [i[[\"ligand\",\"receptor\"]].drop_duplicates() for i in day7_rep1_list]\n",
    "day7_rep2_list = [i[[\"ligand\",\"receptor\"]].drop_duplicates() for i in day7_rep2_list]   \n",
    "original_day0 = day0_list\n",
    "original_day7_rep1 = day7_rep1_list\n",
    "original_day7_rep2 = day7_rep2_list\n",
    "day0_list = [i.head(50) for i in day0_list]\n",
    "day7_rep1_list = [i.head(50) for i in day7_rep1_list]\n",
    "day7_rep2_list = [i.head(50) for i in day7_rep2_list]\n",
    "pathways = pd.read_csv(\"../../data/LR_database/kegg_pathways.csv\")\n",
    "for i in day0_list:\n",
    "    i[\"Ligand Pathway\"] = [pathways[pathways[\"genesymbol\"]==j][\"pathway\"] for j in i[\"ligand\"].tolist()]\n",
    "\n",
    "Omnipath_db = pd.read_csv(\"../../data/LR_database/consensus_Omnipath.csv\",index_col=0)[[\"source\",\"target\"]].drop_duplicates()\n",
    "Omnipath_db.columns = [\"from\",\"to\"]\n",
    "Omnipath_db = Omnipath_db.drop_duplicates()\n",
    "\n",
    "day0_list = [pd.merge(i,Omnipath_db,left_on=[\"ligand\",\"receptor\"],right_on=[\"from\",\"to\"]) for i in day0_list]\n",
    "day7_rep1_list = [pd.merge(i,Omnipath_db,left_on=[\"ligand\",\"receptor\"],right_on=[\"from\",\"to\"]) for i in day7_rep1_list]\n",
    "day7_rep2_list = [pd.merge(i,Omnipath_db,left_on=[\"ligand\",\"receptor\"],right_on=[\"from\",\"to\"]) for i in day7_rep2_list]\n",
    "\n",
    "day0_list = [i[[\"ligand\",\"receptor\"]] for i in day0_list]\n",
    "day7_rep1_list = [i[[\"ligand\",\"receptor\"]] for i in day7_rep1_list]\n",
    "day7_rep2_list = [i[[\"ligand\",\"receptor\"]] for i in day7_rep2_list]\n",
    "pre_post_list = []\n",
    "for i,j,k in zip(day0_list,day7_rep1_list,day7_rep2_list):\n",
    "    day0_day7_rep1_common = pd.merge(i,j).shape[0]/50\n",
    "    day0_day7_rep2_common = pd.merge(i,k).shape[0]/50\n",
    "    pre_post_list.append(min(1-day0_day7_rep1_common,1-day0_day7_rep2_common))\n",
    "total_day7_1 = pd.read_csv(f\"../../data/CellGATv2_100_times/Pre_Post/Day0/Day0_91_random.csv\",index_col=0)[[\"Src\",\"Dst\"]]\n",
    "total_day7_2 = pd.read_csv(f\"../../data/CellGATv2_100_times/Pre_Post/Day7_1/Rep1_91_random.csv\",index_col=0)[[\"Src\",\"Dst\"]]\n",
    "total_day0 = pd.read_csv(f\"../../data/CellGATv2_100_times/Pre_Post/Day7_2/Rep2_91_random.csv\",index_col=0)[[\"Src\",\"Dst\"]]\n",
    "\n",
    "total_day0 = pd.merge(total_day0,Omnipath_db,left_on=[\"Src\",\"Dst\"],right_on=[\"from\",\"to\"]).head(50)[[\"Src\",\"Dst\"]]\n",
    "total_day7_1 = pd.merge(total_day7_1,Omnipath_db,left_on=[\"Src\",\"Dst\"],right_on=[\"from\",\"to\"]).head(50)[[\"Src\",\"Dst\"]]\n",
    "total_day7_2 = pd.merge(total_day7_2,Omnipath_db,left_on=[\"Src\",\"Dst\"],right_on=[\"from\",\"to\"]).head(50)[[\"Src\",\"Dst\"]]\n",
    "\n",
    "total_day0_day7_1 = pd.merge(total_day0,total_day7_1).shape[0]/50\n",
    "total_day0_day7_2 = pd.merge(total_day0,total_day7_2).shape[0]/50\n",
    "total_pre_post = max(1-total_day0_day7_1,1-total_day0_day7_2)\n",
    "\n",
    "result = []\n",
    "result = [total_pre_post]+pre_post_list\n",
    "print(\"The result in dataset:\",result)"
   ]
  },
  {
   "cell_type": "code",
   "execution_count": 61,
   "id": "c7a2d5e3",
   "metadata": {},
   "outputs": [
    {
     "name": "stdout",
     "output_type": "stream",
     "text": [
      "92\n",
      "93\n",
      "94\n",
      "95\n",
      "96\n",
      "97\n",
      "98\n",
      "99\n",
      "100\n"
     ]
    }
   ],
   "source": [
    "w = 0\n",
    "for i in range(91,100,1):\n",
    "    w = i + 1\n",
    "    print(w)"
   ]
  },
  {
   "cell_type": "code",
   "execution_count": null,
   "id": "6e8a05e2-ab0b-4dc3-a0a9-9eeea5f6831d",
   "metadata": {},
   "outputs": [],
   "source": [
    "# 取出前四列数据\n",
    "selected_columns = df.iloc[:, :4]\n",
    "\n",
    "# 计算每一列的均值\n",
    "column_means = selected_columns.mean()\n",
    "\n",
    "# 打印每一列的均值\n",
    "print(\"CellGAT_average:\", column_means[1])\n",
    "print(\"Connectome_average:\", column_means[2])\n",
    "print(\"CellphoneDB_average:\", column_means[3])\n",
    "print(\"CellChat_average:\", column_means[4])"
   ]
  },
  {
   "cell_type": "code",
   "execution_count": null,
   "id": "216a6e33-b77c-4b15-9de8-dc9fa2e23322",
   "metadata": {},
   "outputs": [],
   "source": [
    "from scipy.stats import ttest_ind\n",
    "\n",
    "# 所有方法的结果列表\n",
    "all_results = [Connectome_PC9_result, CellphoneDB_PC9_result, CellChat_PC9_result]\n",
    "\n",
    "# 所有方法的名称\n",
    "methods = ['Connectome', 'CellphoneDB', 'CellChat']\n",
    "\n",
    "# 逐个比较 CellGAT 和其他方法\n",
    "for i, method in enumerate(methods):\n",
    "    t_statistic, p_value = ttest_ind(CellGAT_PC9_result, all_results[i])\n",
    "\n",
    "    # 输出 t 检验结果\n",
    "    print(f\"T 检验结果（{method} vs. CellGAT）:\")\n",
    "    print(\"t 值:\", t_statistic)\n",
    "    print(\"p 值:\", p_value)\n",
    "\n",
    "    # 判断是否拒绝原假设\n",
    "    alpha = 0.05\n",
    "    if p_value < alpha:\n",
    "        print(f\"拒绝原假设，{method} 和 CellGAT 的均值显著不同\")\n",
    "    else:\n",
    "        print(f\"未拒绝原假设，{method} 和 CellGAT 的均值无显著差异\")\n",
    "\n",
    "    print(\"\\n\")\n"
   ]
  },
  {
   "cell_type": "markdown",
   "id": "740275a0",
   "metadata": {},
   "source": [
    "# Mouse Brain"
   ]
  },
  {
   "cell_type": "code",
   "execution_count": 3,
   "id": "19a4d3ff",
   "metadata": {},
   "outputs": [
    {
     "name": "stdout",
     "output_type": "stream",
     "text": [
      "WARNING: You’re trying to run this on 9531 dimensions of `.X`, if you really want this, set `use_rep='X'`.\n",
      "         Falling back to preprocessing with `sc.pp.pca` and default params.\n"
     ]
    },
    {
     "name": "stderr",
     "output_type": "stream",
     "text": [
      "/tmp/ipykernel_25667/1624553327.py:26: FutureWarning: X.dtype being converted to np.float32 from float64. In the next version of anndata (0.9) conversion will not be automatic. Pass dtype explicitly to avoid this warning. Pass `AnnData(X, dtype=X.dtype, ...)` to get the future behavour.\n",
      "/tmp/ipykernel_25667/1624553327.py:36: FutureWarning: X.dtype being converted to np.float32 from float64. In the next version of anndata (0.9) conversion will not be automatic. Pass dtype explicitly to avoid this warning. Pass `AnnData(X, dtype=X.dtype, ...)` to get the future behavour.\n"
     ]
    },
    {
     "name": "stdout",
     "output_type": "stream",
     "text": [
      "WARNING: Default of the method has been changed to 't-test' from 't-test_overestim_var'\n",
      "368\n",
      "WARNING: You’re trying to run this on 9531 dimensions of `.X`, if you really want this, set `use_rep='X'`.\n",
      "         Falling back to preprocessing with `sc.pp.pca` and default params.\n"
     ]
    },
    {
     "name": "stderr",
     "output_type": "stream",
     "text": [
      "/tmp/ipykernel_25667/1624553327.py:26: FutureWarning: X.dtype being converted to np.float32 from float64. In the next version of anndata (0.9) conversion will not be automatic. Pass dtype explicitly to avoid this warning. Pass `AnnData(X, dtype=X.dtype, ...)` to get the future behavour.\n"
     ]
    },
    {
     "name": "stdout",
     "output_type": "stream",
     "text": [
      "WARNING: Default of the method has been changed to 't-test' from 't-test_overestim_var'\n"
     ]
    },
    {
     "name": "stderr",
     "output_type": "stream",
     "text": [
      "/tmp/ipykernel_25667/1624553327.py:36: FutureWarning: X.dtype being converted to np.float32 from float64. In the next version of anndata (0.9) conversion will not be automatic. Pass dtype explicitly to avoid this warning. Pass `AnnData(X, dtype=X.dtype, ...)` to get the future behavour.\n"
     ]
    },
    {
     "name": "stdout",
     "output_type": "stream",
     "text": [
      "368\n",
      "WARNING: You’re trying to run this on 9531 dimensions of `.X`, if you really want this, set `use_rep='X'`.\n",
      "         Falling back to preprocessing with `sc.pp.pca` and default params.\n"
     ]
    },
    {
     "name": "stderr",
     "output_type": "stream",
     "text": [
      "/tmp/ipykernel_25667/1624553327.py:26: FutureWarning: X.dtype being converted to np.float32 from float64. In the next version of anndata (0.9) conversion will not be automatic. Pass dtype explicitly to avoid this warning. Pass `AnnData(X, dtype=X.dtype, ...)` to get the future behavour.\n"
     ]
    },
    {
     "name": "stdout",
     "output_type": "stream",
     "text": [
      "WARNING: Default of the method has been changed to 't-test' from 't-test_overestim_var'\n"
     ]
    },
    {
     "name": "stderr",
     "output_type": "stream",
     "text": [
      "/tmp/ipykernel_25667/1624553327.py:36: FutureWarning: X.dtype being converted to np.float32 from float64. In the next version of anndata (0.9) conversion will not be automatic. Pass dtype explicitly to avoid this warning. Pass `AnnData(X, dtype=X.dtype, ...)` to get the future behavour.\n"
     ]
    },
    {
     "name": "stdout",
     "output_type": "stream",
     "text": [
      "368\n",
      "WARNING: You’re trying to run this on 9531 dimensions of `.X`, if you really want this, set `use_rep='X'`.\n",
      "         Falling back to preprocessing with `sc.pp.pca` and default params.\n"
     ]
    },
    {
     "name": "stderr",
     "output_type": "stream",
     "text": [
      "/tmp/ipykernel_25667/1624553327.py:26: FutureWarning: X.dtype being converted to np.float32 from float64. In the next version of anndata (0.9) conversion will not be automatic. Pass dtype explicitly to avoid this warning. Pass `AnnData(X, dtype=X.dtype, ...)` to get the future behavour.\n"
     ]
    },
    {
     "name": "stdout",
     "output_type": "stream",
     "text": [
      "WARNING: Default of the method has been changed to 't-test' from 't-test_overestim_var'\n"
     ]
    },
    {
     "name": "stderr",
     "output_type": "stream",
     "text": [
      "/tmp/ipykernel_25667/1624553327.py:36: FutureWarning: X.dtype being converted to np.float32 from float64. In the next version of anndata (0.9) conversion will not be automatic. Pass dtype explicitly to avoid this warning. Pass `AnnData(X, dtype=X.dtype, ...)` to get the future behavour.\n"
     ]
    },
    {
     "name": "stdout",
     "output_type": "stream",
     "text": [
      "368\n",
      "WARNING: You’re trying to run this on 9531 dimensions of `.X`, if you really want this, set `use_rep='X'`.\n",
      "         Falling back to preprocessing with `sc.pp.pca` and default params.\n"
     ]
    },
    {
     "name": "stderr",
     "output_type": "stream",
     "text": [
      "/tmp/ipykernel_25667/1624553327.py:26: FutureWarning: X.dtype being converted to np.float32 from float64. In the next version of anndata (0.9) conversion will not be automatic. Pass dtype explicitly to avoid this warning. Pass `AnnData(X, dtype=X.dtype, ...)` to get the future behavour.\n"
     ]
    },
    {
     "name": "stdout",
     "output_type": "stream",
     "text": [
      "WARNING: Default of the method has been changed to 't-test' from 't-test_overestim_var'\n"
     ]
    },
    {
     "name": "stderr",
     "output_type": "stream",
     "text": [
      "/tmp/ipykernel_25667/1624553327.py:36: FutureWarning: X.dtype being converted to np.float32 from float64. In the next version of anndata (0.9) conversion will not be automatic. Pass dtype explicitly to avoid this warning. Pass `AnnData(X, dtype=X.dtype, ...)` to get the future behavour.\n"
     ]
    },
    {
     "name": "stdout",
     "output_type": "stream",
     "text": [
      "368\n",
      "WARNING: You’re trying to run this on 9531 dimensions of `.X`, if you really want this, set `use_rep='X'`.\n",
      "         Falling back to preprocessing with `sc.pp.pca` and default params.\n"
     ]
    },
    {
     "name": "stderr",
     "output_type": "stream",
     "text": [
      "/tmp/ipykernel_25667/1624553327.py:26: FutureWarning: X.dtype being converted to np.float32 from float64. In the next version of anndata (0.9) conversion will not be automatic. Pass dtype explicitly to avoid this warning. Pass `AnnData(X, dtype=X.dtype, ...)` to get the future behavour.\n"
     ]
    },
    {
     "name": "stdout",
     "output_type": "stream",
     "text": [
      "WARNING: Default of the method has been changed to 't-test' from 't-test_overestim_var'\n"
     ]
    },
    {
     "name": "stderr",
     "output_type": "stream",
     "text": [
      "/tmp/ipykernel_25667/1624553327.py:36: FutureWarning: X.dtype being converted to np.float32 from float64. In the next version of anndata (0.9) conversion will not be automatic. Pass dtype explicitly to avoid this warning. Pass `AnnData(X, dtype=X.dtype, ...)` to get the future behavour.\n"
     ]
    },
    {
     "name": "stdout",
     "output_type": "stream",
     "text": [
      "368\n",
      "WARNING: You’re trying to run this on 9531 dimensions of `.X`, if you really want this, set `use_rep='X'`.\n",
      "         Falling back to preprocessing with `sc.pp.pca` and default params.\n"
     ]
    },
    {
     "name": "stderr",
     "output_type": "stream",
     "text": [
      "/tmp/ipykernel_25667/1624553327.py:26: FutureWarning: X.dtype being converted to np.float32 from float64. In the next version of anndata (0.9) conversion will not be automatic. Pass dtype explicitly to avoid this warning. Pass `AnnData(X, dtype=X.dtype, ...)` to get the future behavour.\n",
      "/tmp/ipykernel_25667/1624553327.py:36: FutureWarning: X.dtype being converted to np.float32 from float64. In the next version of anndata (0.9) conversion will not be automatic. Pass dtype explicitly to avoid this warning. Pass `AnnData(X, dtype=X.dtype, ...)` to get the future behavour.\n"
     ]
    },
    {
     "name": "stdout",
     "output_type": "stream",
     "text": [
      "WARNING: Default of the method has been changed to 't-test' from 't-test_overestim_var'\n",
      "368\n",
      "WARNING: You’re trying to run this on 9531 dimensions of `.X`, if you really want this, set `use_rep='X'`.\n",
      "         Falling back to preprocessing with `sc.pp.pca` and default params.\n"
     ]
    },
    {
     "name": "stderr",
     "output_type": "stream",
     "text": [
      "/tmp/ipykernel_25667/1624553327.py:26: FutureWarning: X.dtype being converted to np.float32 from float64. In the next version of anndata (0.9) conversion will not be automatic. Pass dtype explicitly to avoid this warning. Pass `AnnData(X, dtype=X.dtype, ...)` to get the future behavour.\n"
     ]
    },
    {
     "name": "stdout",
     "output_type": "stream",
     "text": [
      "WARNING: Default of the method has been changed to 't-test' from 't-test_overestim_var'\n"
     ]
    },
    {
     "name": "stderr",
     "output_type": "stream",
     "text": [
      "/tmp/ipykernel_25667/1624553327.py:36: FutureWarning: X.dtype being converted to np.float32 from float64. In the next version of anndata (0.9) conversion will not be automatic. Pass dtype explicitly to avoid this warning. Pass `AnnData(X, dtype=X.dtype, ...)` to get the future behavour.\n"
     ]
    },
    {
     "name": "stdout",
     "output_type": "stream",
     "text": [
      "368\n",
      "WARNING: You’re trying to run this on 9531 dimensions of `.X`, if you really want this, set `use_rep='X'`.\n",
      "         Falling back to preprocessing with `sc.pp.pca` and default params.\n"
     ]
    },
    {
     "name": "stderr",
     "output_type": "stream",
     "text": [
      "/tmp/ipykernel_25667/1624553327.py:26: FutureWarning: X.dtype being converted to np.float32 from float64. In the next version of anndata (0.9) conversion will not be automatic. Pass dtype explicitly to avoid this warning. Pass `AnnData(X, dtype=X.dtype, ...)` to get the future behavour.\n"
     ]
    },
    {
     "name": "stdout",
     "output_type": "stream",
     "text": [
      "WARNING: Default of the method has been changed to 't-test' from 't-test_overestim_var'\n"
     ]
    },
    {
     "name": "stderr",
     "output_type": "stream",
     "text": [
      "/tmp/ipykernel_25667/1624553327.py:36: FutureWarning: X.dtype being converted to np.float32 from float64. In the next version of anndata (0.9) conversion will not be automatic. Pass dtype explicitly to avoid this warning. Pass `AnnData(X, dtype=X.dtype, ...)` to get the future behavour.\n"
     ]
    },
    {
     "name": "stdout",
     "output_type": "stream",
     "text": [
      "368\n",
      "WARNING: You’re trying to run this on 9531 dimensions of `.X`, if you really want this, set `use_rep='X'`.\n",
      "         Falling back to preprocessing with `sc.pp.pca` and default params.\n"
     ]
    },
    {
     "name": "stderr",
     "output_type": "stream",
     "text": [
      "/tmp/ipykernel_25667/1624553327.py:26: FutureWarning: X.dtype being converted to np.float32 from float64. In the next version of anndata (0.9) conversion will not be automatic. Pass dtype explicitly to avoid this warning. Pass `AnnData(X, dtype=X.dtype, ...)` to get the future behavour.\n"
     ]
    },
    {
     "name": "stdout",
     "output_type": "stream",
     "text": [
      "WARNING: Default of the method has been changed to 't-test' from 't-test_overestim_var'\n"
     ]
    },
    {
     "name": "stderr",
     "output_type": "stream",
     "text": [
      "/tmp/ipykernel_25667/1624553327.py:36: FutureWarning: X.dtype being converted to np.float32 from float64. In the next version of anndata (0.9) conversion will not be automatic. Pass dtype explicitly to avoid this warning. Pass `AnnData(X, dtype=X.dtype, ...)` to get the future behavour.\n"
     ]
    },
    {
     "name": "stdout",
     "output_type": "stream",
     "text": [
      "368\n",
      "WARNING: You’re trying to run this on 9531 dimensions of `.X`, if you really want this, set `use_rep='X'`.\n",
      "         Falling back to preprocessing with `sc.pp.pca` and default params.\n"
     ]
    },
    {
     "name": "stderr",
     "output_type": "stream",
     "text": [
      "/tmp/ipykernel_25667/1624553327.py:26: FutureWarning: X.dtype being converted to np.float32 from float64. In the next version of anndata (0.9) conversion will not be automatic. Pass dtype explicitly to avoid this warning. Pass `AnnData(X, dtype=X.dtype, ...)` to get the future behavour.\n"
     ]
    },
    {
     "name": "stdout",
     "output_type": "stream",
     "text": [
      "WARNING: Default of the method has been changed to 't-test' from 't-test_overestim_var'\n"
     ]
    },
    {
     "name": "stderr",
     "output_type": "stream",
     "text": [
      "/tmp/ipykernel_25667/1624553327.py:36: FutureWarning: X.dtype being converted to np.float32 from float64. In the next version of anndata (0.9) conversion will not be automatic. Pass dtype explicitly to avoid this warning. Pass `AnnData(X, dtype=X.dtype, ...)` to get the future behavour.\n"
     ]
    },
    {
     "name": "stdout",
     "output_type": "stream",
     "text": [
      "368\n",
      "WARNING: You’re trying to run this on 9531 dimensions of `.X`, if you really want this, set `use_rep='X'`.\n",
      "         Falling back to preprocessing with `sc.pp.pca` and default params.\n"
     ]
    },
    {
     "name": "stderr",
     "output_type": "stream",
     "text": [
      "/tmp/ipykernel_25667/1624553327.py:26: FutureWarning: X.dtype being converted to np.float32 from float64. In the next version of anndata (0.9) conversion will not be automatic. Pass dtype explicitly to avoid this warning. Pass `AnnData(X, dtype=X.dtype, ...)` to get the future behavour.\n"
     ]
    },
    {
     "name": "stdout",
     "output_type": "stream",
     "text": [
      "WARNING: Default of the method has been changed to 't-test' from 't-test_overestim_var'\n"
     ]
    },
    {
     "name": "stderr",
     "output_type": "stream",
     "text": [
      "/tmp/ipykernel_25667/1624553327.py:36: FutureWarning: X.dtype being converted to np.float32 from float64. In the next version of anndata (0.9) conversion will not be automatic. Pass dtype explicitly to avoid this warning. Pass `AnnData(X, dtype=X.dtype, ...)` to get the future behavour.\n"
     ]
    },
    {
     "name": "stdout",
     "output_type": "stream",
     "text": [
      "368\n",
      "WARNING: You’re trying to run this on 9531 dimensions of `.X`, if you really want this, set `use_rep='X'`.\n",
      "         Falling back to preprocessing with `sc.pp.pca` and default params.\n"
     ]
    },
    {
     "name": "stderr",
     "output_type": "stream",
     "text": [
      "/tmp/ipykernel_25667/1624553327.py:26: FutureWarning: X.dtype being converted to np.float32 from float64. In the next version of anndata (0.9) conversion will not be automatic. Pass dtype explicitly to avoid this warning. Pass `AnnData(X, dtype=X.dtype, ...)` to get the future behavour.\n"
     ]
    },
    {
     "name": "stdout",
     "output_type": "stream",
     "text": [
      "WARNING: Default of the method has been changed to 't-test' from 't-test_overestim_var'\n"
     ]
    },
    {
     "name": "stderr",
     "output_type": "stream",
     "text": [
      "/tmp/ipykernel_25667/1624553327.py:36: FutureWarning: X.dtype being converted to np.float32 from float64. In the next version of anndata (0.9) conversion will not be automatic. Pass dtype explicitly to avoid this warning. Pass `AnnData(X, dtype=X.dtype, ...)` to get the future behavour.\n"
     ]
    },
    {
     "name": "stdout",
     "output_type": "stream",
     "text": [
      "368\n",
      "WARNING: You’re trying to run this on 9531 dimensions of `.X`, if you really want this, set `use_rep='X'`.\n",
      "         Falling back to preprocessing with `sc.pp.pca` and default params.\n"
     ]
    },
    {
     "name": "stderr",
     "output_type": "stream",
     "text": [
      "/tmp/ipykernel_25667/1624553327.py:26: FutureWarning: X.dtype being converted to np.float32 from float64. In the next version of anndata (0.9) conversion will not be automatic. Pass dtype explicitly to avoid this warning. Pass `AnnData(X, dtype=X.dtype, ...)` to get the future behavour.\n"
     ]
    },
    {
     "name": "stdout",
     "output_type": "stream",
     "text": [
      "WARNING: Default of the method has been changed to 't-test' from 't-test_overestim_var'\n"
     ]
    },
    {
     "name": "stderr",
     "output_type": "stream",
     "text": [
      "/tmp/ipykernel_25667/1624553327.py:36: FutureWarning: X.dtype being converted to np.float32 from float64. In the next version of anndata (0.9) conversion will not be automatic. Pass dtype explicitly to avoid this warning. Pass `AnnData(X, dtype=X.dtype, ...)` to get the future behavour.\n"
     ]
    },
    {
     "name": "stdout",
     "output_type": "stream",
     "text": [
      "368\n",
      "WARNING: You’re trying to run this on 9531 dimensions of `.X`, if you really want this, set `use_rep='X'`.\n",
      "         Falling back to preprocessing with `sc.pp.pca` and default params.\n"
     ]
    },
    {
     "name": "stderr",
     "output_type": "stream",
     "text": [
      "/tmp/ipykernel_25667/1624553327.py:26: FutureWarning: X.dtype being converted to np.float32 from float64. In the next version of anndata (0.9) conversion will not be automatic. Pass dtype explicitly to avoid this warning. Pass `AnnData(X, dtype=X.dtype, ...)` to get the future behavour.\n"
     ]
    },
    {
     "name": "stdout",
     "output_type": "stream",
     "text": [
      "WARNING: Default of the method has been changed to 't-test' from 't-test_overestim_var'\n"
     ]
    },
    {
     "name": "stderr",
     "output_type": "stream",
     "text": [
      "/tmp/ipykernel_25667/1624553327.py:36: FutureWarning: X.dtype being converted to np.float32 from float64. In the next version of anndata (0.9) conversion will not be automatic. Pass dtype explicitly to avoid this warning. Pass `AnnData(X, dtype=X.dtype, ...)` to get the future behavour.\n"
     ]
    },
    {
     "name": "stdout",
     "output_type": "stream",
     "text": [
      "368\n",
      "WARNING: You’re trying to run this on 9531 dimensions of `.X`, if you really want this, set `use_rep='X'`.\n",
      "         Falling back to preprocessing with `sc.pp.pca` and default params.\n"
     ]
    },
    {
     "name": "stderr",
     "output_type": "stream",
     "text": [
      "/tmp/ipykernel_25667/1624553327.py:26: FutureWarning: X.dtype being converted to np.float32 from float64. In the next version of anndata (0.9) conversion will not be automatic. Pass dtype explicitly to avoid this warning. Pass `AnnData(X, dtype=X.dtype, ...)` to get the future behavour.\n"
     ]
    },
    {
     "name": "stdout",
     "output_type": "stream",
     "text": [
      "WARNING: Default of the method has been changed to 't-test' from 't-test_overestim_var'\n"
     ]
    },
    {
     "name": "stderr",
     "output_type": "stream",
     "text": [
      "/tmp/ipykernel_25667/1624553327.py:36: FutureWarning: X.dtype being converted to np.float32 from float64. In the next version of anndata (0.9) conversion will not be automatic. Pass dtype explicitly to avoid this warning. Pass `AnnData(X, dtype=X.dtype, ...)` to get the future behavour.\n"
     ]
    },
    {
     "name": "stdout",
     "output_type": "stream",
     "text": [
      "368\n",
      "WARNING: You’re trying to run this on 9531 dimensions of `.X`, if you really want this, set `use_rep='X'`.\n",
      "         Falling back to preprocessing with `sc.pp.pca` and default params.\n"
     ]
    },
    {
     "name": "stderr",
     "output_type": "stream",
     "text": [
      "/tmp/ipykernel_25667/1624553327.py:26: FutureWarning: X.dtype being converted to np.float32 from float64. In the next version of anndata (0.9) conversion will not be automatic. Pass dtype explicitly to avoid this warning. Pass `AnnData(X, dtype=X.dtype, ...)` to get the future behavour.\n"
     ]
    },
    {
     "name": "stdout",
     "output_type": "stream",
     "text": [
      "WARNING: Default of the method has been changed to 't-test' from 't-test_overestim_var'\n"
     ]
    },
    {
     "name": "stderr",
     "output_type": "stream",
     "text": [
      "/tmp/ipykernel_25667/1624553327.py:36: FutureWarning: X.dtype being converted to np.float32 from float64. In the next version of anndata (0.9) conversion will not be automatic. Pass dtype explicitly to avoid this warning. Pass `AnnData(X, dtype=X.dtype, ...)` to get the future behavour.\n"
     ]
    },
    {
     "name": "stdout",
     "output_type": "stream",
     "text": [
      "368\n",
      "WARNING: You’re trying to run this on 9531 dimensions of `.X`, if you really want this, set `use_rep='X'`.\n",
      "         Falling back to preprocessing with `sc.pp.pca` and default params.\n"
     ]
    },
    {
     "name": "stderr",
     "output_type": "stream",
     "text": [
      "/tmp/ipykernel_25667/1624553327.py:26: FutureWarning: X.dtype being converted to np.float32 from float64. In the next version of anndata (0.9) conversion will not be automatic. Pass dtype explicitly to avoid this warning. Pass `AnnData(X, dtype=X.dtype, ...)` to get the future behavour.\n"
     ]
    },
    {
     "name": "stdout",
     "output_type": "stream",
     "text": [
      "WARNING: Default of the method has been changed to 't-test' from 't-test_overestim_var'\n"
     ]
    },
    {
     "name": "stderr",
     "output_type": "stream",
     "text": [
      "/tmp/ipykernel_25667/1624553327.py:36: FutureWarning: X.dtype being converted to np.float32 from float64. In the next version of anndata (0.9) conversion will not be automatic. Pass dtype explicitly to avoid this warning. Pass `AnnData(X, dtype=X.dtype, ...)` to get the future behavour.\n"
     ]
    },
    {
     "name": "stdout",
     "output_type": "stream",
     "text": [
      "368\n",
      "WARNING: You’re trying to run this on 9531 dimensions of `.X`, if you really want this, set `use_rep='X'`.\n",
      "         Falling back to preprocessing with `sc.pp.pca` and default params.\n"
     ]
    },
    {
     "name": "stderr",
     "output_type": "stream",
     "text": [
      "/tmp/ipykernel_25667/1624553327.py:26: FutureWarning: X.dtype being converted to np.float32 from float64. In the next version of anndata (0.9) conversion will not be automatic. Pass dtype explicitly to avoid this warning. Pass `AnnData(X, dtype=X.dtype, ...)` to get the future behavour.\n"
     ]
    },
    {
     "name": "stdout",
     "output_type": "stream",
     "text": [
      "WARNING: Default of the method has been changed to 't-test' from 't-test_overestim_var'\n"
     ]
    },
    {
     "name": "stderr",
     "output_type": "stream",
     "text": [
      "/tmp/ipykernel_25667/1624553327.py:36: FutureWarning: X.dtype being converted to np.float32 from float64. In the next version of anndata (0.9) conversion will not be automatic. Pass dtype explicitly to avoid this warning. Pass `AnnData(X, dtype=X.dtype, ...)` to get the future behavour.\n"
     ]
    },
    {
     "name": "stdout",
     "output_type": "stream",
     "text": [
      "368\n",
      "WARNING: You’re trying to run this on 9531 dimensions of `.X`, if you really want this, set `use_rep='X'`.\n",
      "         Falling back to preprocessing with `sc.pp.pca` and default params.\n"
     ]
    },
    {
     "name": "stderr",
     "output_type": "stream",
     "text": [
      "/tmp/ipykernel_25667/1624553327.py:26: FutureWarning: X.dtype being converted to np.float32 from float64. In the next version of anndata (0.9) conversion will not be automatic. Pass dtype explicitly to avoid this warning. Pass `AnnData(X, dtype=X.dtype, ...)` to get the future behavour.\n"
     ]
    },
    {
     "name": "stdout",
     "output_type": "stream",
     "text": [
      "WARNING: Default of the method has been changed to 't-test' from 't-test_overestim_var'\n"
     ]
    },
    {
     "name": "stderr",
     "output_type": "stream",
     "text": [
      "/tmp/ipykernel_25667/1624553327.py:36: FutureWarning: X.dtype being converted to np.float32 from float64. In the next version of anndata (0.9) conversion will not be automatic. Pass dtype explicitly to avoid this warning. Pass `AnnData(X, dtype=X.dtype, ...)` to get the future behavour.\n"
     ]
    },
    {
     "name": "stdout",
     "output_type": "stream",
     "text": [
      "368\n",
      "WARNING: You’re trying to run this on 9531 dimensions of `.X`, if you really want this, set `use_rep='X'`.\n",
      "         Falling back to preprocessing with `sc.pp.pca` and default params.\n"
     ]
    },
    {
     "name": "stderr",
     "output_type": "stream",
     "text": [
      "/tmp/ipykernel_25667/1624553327.py:26: FutureWarning: X.dtype being converted to np.float32 from float64. In the next version of anndata (0.9) conversion will not be automatic. Pass dtype explicitly to avoid this warning. Pass `AnnData(X, dtype=X.dtype, ...)` to get the future behavour.\n"
     ]
    },
    {
     "name": "stdout",
     "output_type": "stream",
     "text": [
      "WARNING: Default of the method has been changed to 't-test' from 't-test_overestim_var'\n"
     ]
    },
    {
     "name": "stderr",
     "output_type": "stream",
     "text": [
      "/tmp/ipykernel_25667/1624553327.py:36: FutureWarning: X.dtype being converted to np.float32 from float64. In the next version of anndata (0.9) conversion will not be automatic. Pass dtype explicitly to avoid this warning. Pass `AnnData(X, dtype=X.dtype, ...)` to get the future behavour.\n"
     ]
    },
    {
     "name": "stdout",
     "output_type": "stream",
     "text": [
      "368\n",
      "WARNING: You’re trying to run this on 9531 dimensions of `.X`, if you really want this, set `use_rep='X'`.\n",
      "         Falling back to preprocessing with `sc.pp.pca` and default params.\n"
     ]
    },
    {
     "name": "stderr",
     "output_type": "stream",
     "text": [
      "/tmp/ipykernel_25667/1624553327.py:26: FutureWarning: X.dtype being converted to np.float32 from float64. In the next version of anndata (0.9) conversion will not be automatic. Pass dtype explicitly to avoid this warning. Pass `AnnData(X, dtype=X.dtype, ...)` to get the future behavour.\n"
     ]
    },
    {
     "name": "stdout",
     "output_type": "stream",
     "text": [
      "WARNING: Default of the method has been changed to 't-test' from 't-test_overestim_var'\n"
     ]
    },
    {
     "name": "stderr",
     "output_type": "stream",
     "text": [
      "/tmp/ipykernel_25667/1624553327.py:36: FutureWarning: X.dtype being converted to np.float32 from float64. In the next version of anndata (0.9) conversion will not be automatic. Pass dtype explicitly to avoid this warning. Pass `AnnData(X, dtype=X.dtype, ...)` to get the future behavour.\n"
     ]
    },
    {
     "name": "stdout",
     "output_type": "stream",
     "text": [
      "368\n",
      "WARNING: You’re trying to run this on 9531 dimensions of `.X`, if you really want this, set `use_rep='X'`.\n",
      "         Falling back to preprocessing with `sc.pp.pca` and default params.\n"
     ]
    },
    {
     "name": "stderr",
     "output_type": "stream",
     "text": [
      "/tmp/ipykernel_25667/1624553327.py:26: FutureWarning: X.dtype being converted to np.float32 from float64. In the next version of anndata (0.9) conversion will not be automatic. Pass dtype explicitly to avoid this warning. Pass `AnnData(X, dtype=X.dtype, ...)` to get the future behavour.\n"
     ]
    },
    {
     "name": "stdout",
     "output_type": "stream",
     "text": [
      "WARNING: Default of the method has been changed to 't-test' from 't-test_overestim_var'\n"
     ]
    },
    {
     "name": "stderr",
     "output_type": "stream",
     "text": [
      "/tmp/ipykernel_25667/1624553327.py:36: FutureWarning: X.dtype being converted to np.float32 from float64. In the next version of anndata (0.9) conversion will not be automatic. Pass dtype explicitly to avoid this warning. Pass `AnnData(X, dtype=X.dtype, ...)` to get the future behavour.\n"
     ]
    },
    {
     "name": "stdout",
     "output_type": "stream",
     "text": [
      "368\n",
      "WARNING: You’re trying to run this on 9531 dimensions of `.X`, if you really want this, set `use_rep='X'`.\n",
      "         Falling back to preprocessing with `sc.pp.pca` and default params.\n"
     ]
    },
    {
     "name": "stderr",
     "output_type": "stream",
     "text": [
      "/tmp/ipykernel_25667/1624553327.py:26: FutureWarning: X.dtype being converted to np.float32 from float64. In the next version of anndata (0.9) conversion will not be automatic. Pass dtype explicitly to avoid this warning. Pass `AnnData(X, dtype=X.dtype, ...)` to get the future behavour.\n"
     ]
    },
    {
     "name": "stdout",
     "output_type": "stream",
     "text": [
      "WARNING: Default of the method has been changed to 't-test' from 't-test_overestim_var'\n"
     ]
    },
    {
     "name": "stderr",
     "output_type": "stream",
     "text": [
      "/tmp/ipykernel_25667/1624553327.py:36: FutureWarning: X.dtype being converted to np.float32 from float64. In the next version of anndata (0.9) conversion will not be automatic. Pass dtype explicitly to avoid this warning. Pass `AnnData(X, dtype=X.dtype, ...)` to get the future behavour.\n"
     ]
    },
    {
     "name": "stdout",
     "output_type": "stream",
     "text": [
      "368\n",
      "WARNING: You’re trying to run this on 9531 dimensions of `.X`, if you really want this, set `use_rep='X'`.\n",
      "         Falling back to preprocessing with `sc.pp.pca` and default params.\n"
     ]
    },
    {
     "name": "stderr",
     "output_type": "stream",
     "text": [
      "/tmp/ipykernel_25667/1624553327.py:26: FutureWarning: X.dtype being converted to np.float32 from float64. In the next version of anndata (0.9) conversion will not be automatic. Pass dtype explicitly to avoid this warning. Pass `AnnData(X, dtype=X.dtype, ...)` to get the future behavour.\n"
     ]
    },
    {
     "name": "stdout",
     "output_type": "stream",
     "text": [
      "WARNING: Default of the method has been changed to 't-test' from 't-test_overestim_var'\n"
     ]
    },
    {
     "name": "stderr",
     "output_type": "stream",
     "text": [
      "/tmp/ipykernel_25667/1624553327.py:36: FutureWarning: X.dtype being converted to np.float32 from float64. In the next version of anndata (0.9) conversion will not be automatic. Pass dtype explicitly to avoid this warning. Pass `AnnData(X, dtype=X.dtype, ...)` to get the future behavour.\n"
     ]
    },
    {
     "name": "stdout",
     "output_type": "stream",
     "text": [
      "368\n",
      "WARNING: You’re trying to run this on 9531 dimensions of `.X`, if you really want this, set `use_rep='X'`.\n",
      "         Falling back to preprocessing with `sc.pp.pca` and default params.\n"
     ]
    },
    {
     "name": "stderr",
     "output_type": "stream",
     "text": [
      "/tmp/ipykernel_25667/1624553327.py:26: FutureWarning: X.dtype being converted to np.float32 from float64. In the next version of anndata (0.9) conversion will not be automatic. Pass dtype explicitly to avoid this warning. Pass `AnnData(X, dtype=X.dtype, ...)` to get the future behavour.\n"
     ]
    },
    {
     "name": "stdout",
     "output_type": "stream",
     "text": [
      "WARNING: Default of the method has been changed to 't-test' from 't-test_overestim_var'\n"
     ]
    },
    {
     "name": "stderr",
     "output_type": "stream",
     "text": [
      "/tmp/ipykernel_25667/1624553327.py:36: FutureWarning: X.dtype being converted to np.float32 from float64. In the next version of anndata (0.9) conversion will not be automatic. Pass dtype explicitly to avoid this warning. Pass `AnnData(X, dtype=X.dtype, ...)` to get the future behavour.\n"
     ]
    },
    {
     "name": "stdout",
     "output_type": "stream",
     "text": [
      "368\n",
      "WARNING: You’re trying to run this on 9531 dimensions of `.X`, if you really want this, set `use_rep='X'`.\n",
      "         Falling back to preprocessing with `sc.pp.pca` and default params.\n"
     ]
    },
    {
     "name": "stderr",
     "output_type": "stream",
     "text": [
      "/tmp/ipykernel_25667/1624553327.py:26: FutureWarning: X.dtype being converted to np.float32 from float64. In the next version of anndata (0.9) conversion will not be automatic. Pass dtype explicitly to avoid this warning. Pass `AnnData(X, dtype=X.dtype, ...)` to get the future behavour.\n"
     ]
    },
    {
     "name": "stdout",
     "output_type": "stream",
     "text": [
      "WARNING: Default of the method has been changed to 't-test' from 't-test_overestim_var'\n"
     ]
    },
    {
     "name": "stderr",
     "output_type": "stream",
     "text": [
      "/tmp/ipykernel_25667/1624553327.py:36: FutureWarning: X.dtype being converted to np.float32 from float64. In the next version of anndata (0.9) conversion will not be automatic. Pass dtype explicitly to avoid this warning. Pass `AnnData(X, dtype=X.dtype, ...)` to get the future behavour.\n"
     ]
    },
    {
     "name": "stdout",
     "output_type": "stream",
     "text": [
      "368\n",
      "WARNING: You’re trying to run this on 9531 dimensions of `.X`, if you really want this, set `use_rep='X'`.\n",
      "         Falling back to preprocessing with `sc.pp.pca` and default params.\n"
     ]
    },
    {
     "name": "stderr",
     "output_type": "stream",
     "text": [
      "/tmp/ipykernel_25667/1624553327.py:26: FutureWarning: X.dtype being converted to np.float32 from float64. In the next version of anndata (0.9) conversion will not be automatic. Pass dtype explicitly to avoid this warning. Pass `AnnData(X, dtype=X.dtype, ...)` to get the future behavour.\n"
     ]
    },
    {
     "name": "stdout",
     "output_type": "stream",
     "text": [
      "WARNING: Default of the method has been changed to 't-test' from 't-test_overestim_var'\n"
     ]
    },
    {
     "name": "stderr",
     "output_type": "stream",
     "text": [
      "/tmp/ipykernel_25667/1624553327.py:36: FutureWarning: X.dtype being converted to np.float32 from float64. In the next version of anndata (0.9) conversion will not be automatic. Pass dtype explicitly to avoid this warning. Pass `AnnData(X, dtype=X.dtype, ...)` to get the future behavour.\n"
     ]
    },
    {
     "name": "stdout",
     "output_type": "stream",
     "text": [
      "368\n",
      "WARNING: You’re trying to run this on 9531 dimensions of `.X`, if you really want this, set `use_rep='X'`.\n",
      "         Falling back to preprocessing with `sc.pp.pca` and default params.\n"
     ]
    },
    {
     "name": "stderr",
     "output_type": "stream",
     "text": [
      "/tmp/ipykernel_25667/1624553327.py:26: FutureWarning: X.dtype being converted to np.float32 from float64. In the next version of anndata (0.9) conversion will not be automatic. Pass dtype explicitly to avoid this warning. Pass `AnnData(X, dtype=X.dtype, ...)` to get the future behavour.\n"
     ]
    },
    {
     "name": "stdout",
     "output_type": "stream",
     "text": [
      "WARNING: Default of the method has been changed to 't-test' from 't-test_overestim_var'\n"
     ]
    },
    {
     "name": "stderr",
     "output_type": "stream",
     "text": [
      "/tmp/ipykernel_25667/1624553327.py:36: FutureWarning: X.dtype being converted to np.float32 from float64. In the next version of anndata (0.9) conversion will not be automatic. Pass dtype explicitly to avoid this warning. Pass `AnnData(X, dtype=X.dtype, ...)` to get the future behavour.\n"
     ]
    },
    {
     "name": "stdout",
     "output_type": "stream",
     "text": [
      "368\n",
      "WARNING: You’re trying to run this on 9531 dimensions of `.X`, if you really want this, set `use_rep='X'`.\n",
      "         Falling back to preprocessing with `sc.pp.pca` and default params.\n"
     ]
    },
    {
     "name": "stderr",
     "output_type": "stream",
     "text": [
      "/tmp/ipykernel_25667/1624553327.py:26: FutureWarning: X.dtype being converted to np.float32 from float64. In the next version of anndata (0.9) conversion will not be automatic. Pass dtype explicitly to avoid this warning. Pass `AnnData(X, dtype=X.dtype, ...)` to get the future behavour.\n"
     ]
    },
    {
     "name": "stdout",
     "output_type": "stream",
     "text": [
      "WARNING: Default of the method has been changed to 't-test' from 't-test_overestim_var'\n"
     ]
    },
    {
     "name": "stderr",
     "output_type": "stream",
     "text": [
      "/tmp/ipykernel_25667/1624553327.py:36: FutureWarning: X.dtype being converted to np.float32 from float64. In the next version of anndata (0.9) conversion will not be automatic. Pass dtype explicitly to avoid this warning. Pass `AnnData(X, dtype=X.dtype, ...)` to get the future behavour.\n"
     ]
    },
    {
     "name": "stdout",
     "output_type": "stream",
     "text": [
      "368\n",
      "WARNING: You’re trying to run this on 9531 dimensions of `.X`, if you really want this, set `use_rep='X'`.\n",
      "         Falling back to preprocessing with `sc.pp.pca` and default params.\n"
     ]
    },
    {
     "name": "stderr",
     "output_type": "stream",
     "text": [
      "/tmp/ipykernel_25667/1624553327.py:26: FutureWarning: X.dtype being converted to np.float32 from float64. In the next version of anndata (0.9) conversion will not be automatic. Pass dtype explicitly to avoid this warning. Pass `AnnData(X, dtype=X.dtype, ...)` to get the future behavour.\n"
     ]
    },
    {
     "name": "stdout",
     "output_type": "stream",
     "text": [
      "WARNING: Default of the method has been changed to 't-test' from 't-test_overestim_var'\n"
     ]
    },
    {
     "name": "stderr",
     "output_type": "stream",
     "text": [
      "/tmp/ipykernel_25667/1624553327.py:36: FutureWarning: X.dtype being converted to np.float32 from float64. In the next version of anndata (0.9) conversion will not be automatic. Pass dtype explicitly to avoid this warning. Pass `AnnData(X, dtype=X.dtype, ...)` to get the future behavour.\n"
     ]
    },
    {
     "name": "stdout",
     "output_type": "stream",
     "text": [
      "368\n",
      "WARNING: You’re trying to run this on 9531 dimensions of `.X`, if you really want this, set `use_rep='X'`.\n",
      "         Falling back to preprocessing with `sc.pp.pca` and default params.\n"
     ]
    },
    {
     "name": "stderr",
     "output_type": "stream",
     "text": [
      "/tmp/ipykernel_25667/1624553327.py:26: FutureWarning: X.dtype being converted to np.float32 from float64. In the next version of anndata (0.9) conversion will not be automatic. Pass dtype explicitly to avoid this warning. Pass `AnnData(X, dtype=X.dtype, ...)` to get the future behavour.\n"
     ]
    },
    {
     "name": "stdout",
     "output_type": "stream",
     "text": [
      "WARNING: Default of the method has been changed to 't-test' from 't-test_overestim_var'\n"
     ]
    },
    {
     "name": "stderr",
     "output_type": "stream",
     "text": [
      "/tmp/ipykernel_25667/1624553327.py:36: FutureWarning: X.dtype being converted to np.float32 from float64. In the next version of anndata (0.9) conversion will not be automatic. Pass dtype explicitly to avoid this warning. Pass `AnnData(X, dtype=X.dtype, ...)` to get the future behavour.\n"
     ]
    },
    {
     "name": "stdout",
     "output_type": "stream",
     "text": [
      "368\n",
      "WARNING: You’re trying to run this on 9531 dimensions of `.X`, if you really want this, set `use_rep='X'`.\n",
      "         Falling back to preprocessing with `sc.pp.pca` and default params.\n"
     ]
    },
    {
     "name": "stderr",
     "output_type": "stream",
     "text": [
      "/tmp/ipykernel_25667/1624553327.py:26: FutureWarning: X.dtype being converted to np.float32 from float64. In the next version of anndata (0.9) conversion will not be automatic. Pass dtype explicitly to avoid this warning. Pass `AnnData(X, dtype=X.dtype, ...)` to get the future behavour.\n"
     ]
    },
    {
     "name": "stdout",
     "output_type": "stream",
     "text": [
      "WARNING: Default of the method has been changed to 't-test' from 't-test_overestim_var'\n"
     ]
    },
    {
     "name": "stderr",
     "output_type": "stream",
     "text": [
      "/tmp/ipykernel_25667/1624553327.py:36: FutureWarning: X.dtype being converted to np.float32 from float64. In the next version of anndata (0.9) conversion will not be automatic. Pass dtype explicitly to avoid this warning. Pass `AnnData(X, dtype=X.dtype, ...)` to get the future behavour.\n"
     ]
    },
    {
     "name": "stdout",
     "output_type": "stream",
     "text": [
      "368\n",
      "WARNING: You’re trying to run this on 9531 dimensions of `.X`, if you really want this, set `use_rep='X'`.\n",
      "         Falling back to preprocessing with `sc.pp.pca` and default params.\n"
     ]
    },
    {
     "name": "stderr",
     "output_type": "stream",
     "text": [
      "/tmp/ipykernel_25667/1624553327.py:26: FutureWarning: X.dtype being converted to np.float32 from float64. In the next version of anndata (0.9) conversion will not be automatic. Pass dtype explicitly to avoid this warning. Pass `AnnData(X, dtype=X.dtype, ...)` to get the future behavour.\n"
     ]
    },
    {
     "name": "stdout",
     "output_type": "stream",
     "text": [
      "WARNING: Default of the method has been changed to 't-test' from 't-test_overestim_var'\n"
     ]
    },
    {
     "name": "stderr",
     "output_type": "stream",
     "text": [
      "/tmp/ipykernel_25667/1624553327.py:36: FutureWarning: X.dtype being converted to np.float32 from float64. In the next version of anndata (0.9) conversion will not be automatic. Pass dtype explicitly to avoid this warning. Pass `AnnData(X, dtype=X.dtype, ...)` to get the future behavour.\n"
     ]
    },
    {
     "name": "stdout",
     "output_type": "stream",
     "text": [
      "368\n",
      "WARNING: You’re trying to run this on 9531 dimensions of `.X`, if you really want this, set `use_rep='X'`.\n",
      "         Falling back to preprocessing with `sc.pp.pca` and default params.\n"
     ]
    },
    {
     "name": "stderr",
     "output_type": "stream",
     "text": [
      "/tmp/ipykernel_25667/1624553327.py:26: FutureWarning: X.dtype being converted to np.float32 from float64. In the next version of anndata (0.9) conversion will not be automatic. Pass dtype explicitly to avoid this warning. Pass `AnnData(X, dtype=X.dtype, ...)` to get the future behavour.\n"
     ]
    },
    {
     "name": "stdout",
     "output_type": "stream",
     "text": [
      "WARNING: Default of the method has been changed to 't-test' from 't-test_overestim_var'\n"
     ]
    },
    {
     "name": "stderr",
     "output_type": "stream",
     "text": [
      "/tmp/ipykernel_25667/1624553327.py:36: FutureWarning: X.dtype being converted to np.float32 from float64. In the next version of anndata (0.9) conversion will not be automatic. Pass dtype explicitly to avoid this warning. Pass `AnnData(X, dtype=X.dtype, ...)` to get the future behavour.\n"
     ]
    },
    {
     "name": "stdout",
     "output_type": "stream",
     "text": [
      "368\n",
      "WARNING: You’re trying to run this on 9531 dimensions of `.X`, if you really want this, set `use_rep='X'`.\n",
      "         Falling back to preprocessing with `sc.pp.pca` and default params.\n"
     ]
    },
    {
     "name": "stderr",
     "output_type": "stream",
     "text": [
      "/tmp/ipykernel_25667/1624553327.py:26: FutureWarning: X.dtype being converted to np.float32 from float64. In the next version of anndata (0.9) conversion will not be automatic. Pass dtype explicitly to avoid this warning. Pass `AnnData(X, dtype=X.dtype, ...)` to get the future behavour.\n"
     ]
    },
    {
     "name": "stdout",
     "output_type": "stream",
     "text": [
      "WARNING: Default of the method has been changed to 't-test' from 't-test_overestim_var'\n"
     ]
    },
    {
     "name": "stderr",
     "output_type": "stream",
     "text": [
      "/tmp/ipykernel_25667/1624553327.py:36: FutureWarning: X.dtype being converted to np.float32 from float64. In the next version of anndata (0.9) conversion will not be automatic. Pass dtype explicitly to avoid this warning. Pass `AnnData(X, dtype=X.dtype, ...)` to get the future behavour.\n"
     ]
    },
    {
     "name": "stdout",
     "output_type": "stream",
     "text": [
      "368\n",
      "WARNING: You’re trying to run this on 9531 dimensions of `.X`, if you really want this, set `use_rep='X'`.\n",
      "         Falling back to preprocessing with `sc.pp.pca` and default params.\n"
     ]
    },
    {
     "name": "stderr",
     "output_type": "stream",
     "text": [
      "/tmp/ipykernel_25667/1624553327.py:26: FutureWarning: X.dtype being converted to np.float32 from float64. In the next version of anndata (0.9) conversion will not be automatic. Pass dtype explicitly to avoid this warning. Pass `AnnData(X, dtype=X.dtype, ...)` to get the future behavour.\n"
     ]
    },
    {
     "name": "stdout",
     "output_type": "stream",
     "text": [
      "WARNING: Default of the method has been changed to 't-test' from 't-test_overestim_var'\n"
     ]
    },
    {
     "name": "stderr",
     "output_type": "stream",
     "text": [
      "/tmp/ipykernel_25667/1624553327.py:36: FutureWarning: X.dtype being converted to np.float32 from float64. In the next version of anndata (0.9) conversion will not be automatic. Pass dtype explicitly to avoid this warning. Pass `AnnData(X, dtype=X.dtype, ...)` to get the future behavour.\n"
     ]
    },
    {
     "name": "stdout",
     "output_type": "stream",
     "text": [
      "368\n",
      "WARNING: You’re trying to run this on 9531 dimensions of `.X`, if you really want this, set `use_rep='X'`.\n",
      "         Falling back to preprocessing with `sc.pp.pca` and default params.\n"
     ]
    },
    {
     "name": "stderr",
     "output_type": "stream",
     "text": [
      "/tmp/ipykernel_25667/1624553327.py:26: FutureWarning: X.dtype being converted to np.float32 from float64. In the next version of anndata (0.9) conversion will not be automatic. Pass dtype explicitly to avoid this warning. Pass `AnnData(X, dtype=X.dtype, ...)` to get the future behavour.\n"
     ]
    },
    {
     "name": "stdout",
     "output_type": "stream",
     "text": [
      "WARNING: Default of the method has been changed to 't-test' from 't-test_overestim_var'\n"
     ]
    },
    {
     "name": "stderr",
     "output_type": "stream",
     "text": [
      "/tmp/ipykernel_25667/1624553327.py:36: FutureWarning: X.dtype being converted to np.float32 from float64. In the next version of anndata (0.9) conversion will not be automatic. Pass dtype explicitly to avoid this warning. Pass `AnnData(X, dtype=X.dtype, ...)` to get the future behavour.\n"
     ]
    },
    {
     "name": "stdout",
     "output_type": "stream",
     "text": [
      "368\n",
      "WARNING: You’re trying to run this on 9531 dimensions of `.X`, if you really want this, set `use_rep='X'`.\n",
      "         Falling back to preprocessing with `sc.pp.pca` and default params.\n"
     ]
    },
    {
     "name": "stderr",
     "output_type": "stream",
     "text": [
      "/tmp/ipykernel_25667/1624553327.py:26: FutureWarning: X.dtype being converted to np.float32 from float64. In the next version of anndata (0.9) conversion will not be automatic. Pass dtype explicitly to avoid this warning. Pass `AnnData(X, dtype=X.dtype, ...)` to get the future behavour.\n"
     ]
    },
    {
     "name": "stdout",
     "output_type": "stream",
     "text": [
      "WARNING: Default of the method has been changed to 't-test' from 't-test_overestim_var'\n"
     ]
    },
    {
     "name": "stderr",
     "output_type": "stream",
     "text": [
      "/tmp/ipykernel_25667/1624553327.py:36: FutureWarning: X.dtype being converted to np.float32 from float64. In the next version of anndata (0.9) conversion will not be automatic. Pass dtype explicitly to avoid this warning. Pass `AnnData(X, dtype=X.dtype, ...)` to get the future behavour.\n"
     ]
    },
    {
     "name": "stdout",
     "output_type": "stream",
     "text": [
      "368\n",
      "WARNING: You’re trying to run this on 9531 dimensions of `.X`, if you really want this, set `use_rep='X'`.\n",
      "         Falling back to preprocessing with `sc.pp.pca` and default params.\n"
     ]
    },
    {
     "name": "stderr",
     "output_type": "stream",
     "text": [
      "/tmp/ipykernel_25667/1624553327.py:26: FutureWarning: X.dtype being converted to np.float32 from float64. In the next version of anndata (0.9) conversion will not be automatic. Pass dtype explicitly to avoid this warning. Pass `AnnData(X, dtype=X.dtype, ...)` to get the future behavour.\n"
     ]
    },
    {
     "name": "stdout",
     "output_type": "stream",
     "text": [
      "WARNING: Default of the method has been changed to 't-test' from 't-test_overestim_var'\n"
     ]
    },
    {
     "name": "stderr",
     "output_type": "stream",
     "text": [
      "/tmp/ipykernel_25667/1624553327.py:36: FutureWarning: X.dtype being converted to np.float32 from float64. In the next version of anndata (0.9) conversion will not be automatic. Pass dtype explicitly to avoid this warning. Pass `AnnData(X, dtype=X.dtype, ...)` to get the future behavour.\n"
     ]
    },
    {
     "name": "stdout",
     "output_type": "stream",
     "text": [
      "368\n",
      "WARNING: You’re trying to run this on 9531 dimensions of `.X`, if you really want this, set `use_rep='X'`.\n",
      "         Falling back to preprocessing with `sc.pp.pca` and default params.\n"
     ]
    },
    {
     "name": "stderr",
     "output_type": "stream",
     "text": [
      "/tmp/ipykernel_25667/1624553327.py:26: FutureWarning: X.dtype being converted to np.float32 from float64. In the next version of anndata (0.9) conversion will not be automatic. Pass dtype explicitly to avoid this warning. Pass `AnnData(X, dtype=X.dtype, ...)` to get the future behavour.\n"
     ]
    },
    {
     "name": "stdout",
     "output_type": "stream",
     "text": [
      "WARNING: Default of the method has been changed to 't-test' from 't-test_overestim_var'\n"
     ]
    },
    {
     "name": "stderr",
     "output_type": "stream",
     "text": [
      "/tmp/ipykernel_25667/1624553327.py:36: FutureWarning: X.dtype being converted to np.float32 from float64. In the next version of anndata (0.9) conversion will not be automatic. Pass dtype explicitly to avoid this warning. Pass `AnnData(X, dtype=X.dtype, ...)` to get the future behavour.\n"
     ]
    },
    {
     "name": "stdout",
     "output_type": "stream",
     "text": [
      "368\n",
      "WARNING: You’re trying to run this on 9531 dimensions of `.X`, if you really want this, set `use_rep='X'`.\n",
      "         Falling back to preprocessing with `sc.pp.pca` and default params.\n"
     ]
    },
    {
     "name": "stderr",
     "output_type": "stream",
     "text": [
      "/tmp/ipykernel_25667/1624553327.py:26: FutureWarning: X.dtype being converted to np.float32 from float64. In the next version of anndata (0.9) conversion will not be automatic. Pass dtype explicitly to avoid this warning. Pass `AnnData(X, dtype=X.dtype, ...)` to get the future behavour.\n"
     ]
    },
    {
     "name": "stdout",
     "output_type": "stream",
     "text": [
      "WARNING: Default of the method has been changed to 't-test' from 't-test_overestim_var'\n"
     ]
    },
    {
     "name": "stderr",
     "output_type": "stream",
     "text": [
      "/tmp/ipykernel_25667/1624553327.py:36: FutureWarning: X.dtype being converted to np.float32 from float64. In the next version of anndata (0.9) conversion will not be automatic. Pass dtype explicitly to avoid this warning. Pass `AnnData(X, dtype=X.dtype, ...)` to get the future behavour.\n"
     ]
    },
    {
     "name": "stdout",
     "output_type": "stream",
     "text": [
      "368\n",
      "WARNING: You’re trying to run this on 9531 dimensions of `.X`, if you really want this, set `use_rep='X'`.\n",
      "         Falling back to preprocessing with `sc.pp.pca` and default params.\n"
     ]
    },
    {
     "name": "stderr",
     "output_type": "stream",
     "text": [
      "/tmp/ipykernel_25667/1624553327.py:26: FutureWarning: X.dtype being converted to np.float32 from float64. In the next version of anndata (0.9) conversion will not be automatic. Pass dtype explicitly to avoid this warning. Pass `AnnData(X, dtype=X.dtype, ...)` to get the future behavour.\n"
     ]
    },
    {
     "name": "stdout",
     "output_type": "stream",
     "text": [
      "WARNING: Default of the method has been changed to 't-test' from 't-test_overestim_var'\n"
     ]
    },
    {
     "name": "stderr",
     "output_type": "stream",
     "text": [
      "/tmp/ipykernel_25667/1624553327.py:36: FutureWarning: X.dtype being converted to np.float32 from float64. In the next version of anndata (0.9) conversion will not be automatic. Pass dtype explicitly to avoid this warning. Pass `AnnData(X, dtype=X.dtype, ...)` to get the future behavour.\n"
     ]
    },
    {
     "name": "stdout",
     "output_type": "stream",
     "text": [
      "368\n",
      "WARNING: You’re trying to run this on 9531 dimensions of `.X`, if you really want this, set `use_rep='X'`.\n",
      "         Falling back to preprocessing with `sc.pp.pca` and default params.\n"
     ]
    },
    {
     "name": "stderr",
     "output_type": "stream",
     "text": [
      "/tmp/ipykernel_25667/1624553327.py:26: FutureWarning: X.dtype being converted to np.float32 from float64. In the next version of anndata (0.9) conversion will not be automatic. Pass dtype explicitly to avoid this warning. Pass `AnnData(X, dtype=X.dtype, ...)` to get the future behavour.\n"
     ]
    },
    {
     "name": "stdout",
     "output_type": "stream",
     "text": [
      "WARNING: Default of the method has been changed to 't-test' from 't-test_overestim_var'\n"
     ]
    },
    {
     "name": "stderr",
     "output_type": "stream",
     "text": [
      "/tmp/ipykernel_25667/1624553327.py:36: FutureWarning: X.dtype being converted to np.float32 from float64. In the next version of anndata (0.9) conversion will not be automatic. Pass dtype explicitly to avoid this warning. Pass `AnnData(X, dtype=X.dtype, ...)` to get the future behavour.\n"
     ]
    },
    {
     "name": "stdout",
     "output_type": "stream",
     "text": [
      "368\n",
      "WARNING: You’re trying to run this on 9531 dimensions of `.X`, if you really want this, set `use_rep='X'`.\n",
      "         Falling back to preprocessing with `sc.pp.pca` and default params.\n"
     ]
    },
    {
     "name": "stderr",
     "output_type": "stream",
     "text": [
      "/tmp/ipykernel_25667/1624553327.py:26: FutureWarning: X.dtype being converted to np.float32 from float64. In the next version of anndata (0.9) conversion will not be automatic. Pass dtype explicitly to avoid this warning. Pass `AnnData(X, dtype=X.dtype, ...)` to get the future behavour.\n"
     ]
    },
    {
     "name": "stdout",
     "output_type": "stream",
     "text": [
      "WARNING: Default of the method has been changed to 't-test' from 't-test_overestim_var'\n"
     ]
    },
    {
     "name": "stderr",
     "output_type": "stream",
     "text": [
      "/tmp/ipykernel_25667/1624553327.py:36: FutureWarning: X.dtype being converted to np.float32 from float64. In the next version of anndata (0.9) conversion will not be automatic. Pass dtype explicitly to avoid this warning. Pass `AnnData(X, dtype=X.dtype, ...)` to get the future behavour.\n"
     ]
    },
    {
     "name": "stdout",
     "output_type": "stream",
     "text": [
      "368\n",
      "WARNING: You’re trying to run this on 9531 dimensions of `.X`, if you really want this, set `use_rep='X'`.\n",
      "         Falling back to preprocessing with `sc.pp.pca` and default params.\n"
     ]
    },
    {
     "name": "stderr",
     "output_type": "stream",
     "text": [
      "/tmp/ipykernel_25667/1624553327.py:26: FutureWarning: X.dtype being converted to np.float32 from float64. In the next version of anndata (0.9) conversion will not be automatic. Pass dtype explicitly to avoid this warning. Pass `AnnData(X, dtype=X.dtype, ...)` to get the future behavour.\n"
     ]
    },
    {
     "name": "stdout",
     "output_type": "stream",
     "text": [
      "WARNING: Default of the method has been changed to 't-test' from 't-test_overestim_var'\n"
     ]
    },
    {
     "name": "stderr",
     "output_type": "stream",
     "text": [
      "/tmp/ipykernel_25667/1624553327.py:36: FutureWarning: X.dtype being converted to np.float32 from float64. In the next version of anndata (0.9) conversion will not be automatic. Pass dtype explicitly to avoid this warning. Pass `AnnData(X, dtype=X.dtype, ...)` to get the future behavour.\n"
     ]
    },
    {
     "name": "stdout",
     "output_type": "stream",
     "text": [
      "368\n",
      "WARNING: You’re trying to run this on 9531 dimensions of `.X`, if you really want this, set `use_rep='X'`.\n",
      "         Falling back to preprocessing with `sc.pp.pca` and default params.\n"
     ]
    },
    {
     "name": "stderr",
     "output_type": "stream",
     "text": [
      "/tmp/ipykernel_25667/1624553327.py:26: FutureWarning: X.dtype being converted to np.float32 from float64. In the next version of anndata (0.9) conversion will not be automatic. Pass dtype explicitly to avoid this warning. Pass `AnnData(X, dtype=X.dtype, ...)` to get the future behavour.\n"
     ]
    },
    {
     "name": "stdout",
     "output_type": "stream",
     "text": [
      "WARNING: Default of the method has been changed to 't-test' from 't-test_overestim_var'\n"
     ]
    },
    {
     "name": "stderr",
     "output_type": "stream",
     "text": [
      "/tmp/ipykernel_25667/1624553327.py:36: FutureWarning: X.dtype being converted to np.float32 from float64. In the next version of anndata (0.9) conversion will not be automatic. Pass dtype explicitly to avoid this warning. Pass `AnnData(X, dtype=X.dtype, ...)` to get the future behavour.\n"
     ]
    },
    {
     "name": "stdout",
     "output_type": "stream",
     "text": [
      "368\n",
      "WARNING: You’re trying to run this on 9531 dimensions of `.X`, if you really want this, set `use_rep='X'`.\n",
      "         Falling back to preprocessing with `sc.pp.pca` and default params.\n"
     ]
    },
    {
     "name": "stderr",
     "output_type": "stream",
     "text": [
      "/tmp/ipykernel_25667/1624553327.py:26: FutureWarning: X.dtype being converted to np.float32 from float64. In the next version of anndata (0.9) conversion will not be automatic. Pass dtype explicitly to avoid this warning. Pass `AnnData(X, dtype=X.dtype, ...)` to get the future behavour.\n"
     ]
    },
    {
     "name": "stdout",
     "output_type": "stream",
     "text": [
      "WARNING: Default of the method has been changed to 't-test' from 't-test_overestim_var'\n"
     ]
    },
    {
     "name": "stderr",
     "output_type": "stream",
     "text": [
      "/tmp/ipykernel_25667/1624553327.py:36: FutureWarning: X.dtype being converted to np.float32 from float64. In the next version of anndata (0.9) conversion will not be automatic. Pass dtype explicitly to avoid this warning. Pass `AnnData(X, dtype=X.dtype, ...)` to get the future behavour.\n"
     ]
    },
    {
     "name": "stdout",
     "output_type": "stream",
     "text": [
      "368\n",
      "WARNING: You’re trying to run this on 9531 dimensions of `.X`, if you really want this, set `use_rep='X'`.\n",
      "         Falling back to preprocessing with `sc.pp.pca` and default params.\n"
     ]
    },
    {
     "name": "stderr",
     "output_type": "stream",
     "text": [
      "/tmp/ipykernel_25667/1624553327.py:26: FutureWarning: X.dtype being converted to np.float32 from float64. In the next version of anndata (0.9) conversion will not be automatic. Pass dtype explicitly to avoid this warning. Pass `AnnData(X, dtype=X.dtype, ...)` to get the future behavour.\n"
     ]
    },
    {
     "name": "stdout",
     "output_type": "stream",
     "text": [
      "WARNING: Default of the method has been changed to 't-test' from 't-test_overestim_var'\n"
     ]
    },
    {
     "name": "stderr",
     "output_type": "stream",
     "text": [
      "/tmp/ipykernel_25667/1624553327.py:36: FutureWarning: X.dtype being converted to np.float32 from float64. In the next version of anndata (0.9) conversion will not be automatic. Pass dtype explicitly to avoid this warning. Pass `AnnData(X, dtype=X.dtype, ...)` to get the future behavour.\n"
     ]
    },
    {
     "name": "stdout",
     "output_type": "stream",
     "text": [
      "368\n",
      "WARNING: You’re trying to run this on 9531 dimensions of `.X`, if you really want this, set `use_rep='X'`.\n",
      "         Falling back to preprocessing with `sc.pp.pca` and default params.\n"
     ]
    },
    {
     "name": "stderr",
     "output_type": "stream",
     "text": [
      "/tmp/ipykernel_25667/1624553327.py:26: FutureWarning: X.dtype being converted to np.float32 from float64. In the next version of anndata (0.9) conversion will not be automatic. Pass dtype explicitly to avoid this warning. Pass `AnnData(X, dtype=X.dtype, ...)` to get the future behavour.\n"
     ]
    },
    {
     "name": "stdout",
     "output_type": "stream",
     "text": [
      "WARNING: Default of the method has been changed to 't-test' from 't-test_overestim_var'\n"
     ]
    },
    {
     "name": "stderr",
     "output_type": "stream",
     "text": [
      "/tmp/ipykernel_25667/1624553327.py:36: FutureWarning: X.dtype being converted to np.float32 from float64. In the next version of anndata (0.9) conversion will not be automatic. Pass dtype explicitly to avoid this warning. Pass `AnnData(X, dtype=X.dtype, ...)` to get the future behavour.\n"
     ]
    },
    {
     "name": "stdout",
     "output_type": "stream",
     "text": [
      "368\n",
      "WARNING: You’re trying to run this on 9531 dimensions of `.X`, if you really want this, set `use_rep='X'`.\n",
      "         Falling back to preprocessing with `sc.pp.pca` and default params.\n"
     ]
    },
    {
     "name": "stderr",
     "output_type": "stream",
     "text": [
      "/tmp/ipykernel_25667/1624553327.py:26: FutureWarning: X.dtype being converted to np.float32 from float64. In the next version of anndata (0.9) conversion will not be automatic. Pass dtype explicitly to avoid this warning. Pass `AnnData(X, dtype=X.dtype, ...)` to get the future behavour.\n"
     ]
    },
    {
     "name": "stdout",
     "output_type": "stream",
     "text": [
      "WARNING: Default of the method has been changed to 't-test' from 't-test_overestim_var'\n"
     ]
    },
    {
     "name": "stderr",
     "output_type": "stream",
     "text": [
      "/tmp/ipykernel_25667/1624553327.py:36: FutureWarning: X.dtype being converted to np.float32 from float64. In the next version of anndata (0.9) conversion will not be automatic. Pass dtype explicitly to avoid this warning. Pass `AnnData(X, dtype=X.dtype, ...)` to get the future behavour.\n"
     ]
    },
    {
     "name": "stdout",
     "output_type": "stream",
     "text": [
      "368\n",
      "WARNING: You’re trying to run this on 9531 dimensions of `.X`, if you really want this, set `use_rep='X'`.\n",
      "         Falling back to preprocessing with `sc.pp.pca` and default params.\n"
     ]
    },
    {
     "name": "stderr",
     "output_type": "stream",
     "text": [
      "/tmp/ipykernel_25667/1624553327.py:26: FutureWarning: X.dtype being converted to np.float32 from float64. In the next version of anndata (0.9) conversion will not be automatic. Pass dtype explicitly to avoid this warning. Pass `AnnData(X, dtype=X.dtype, ...)` to get the future behavour.\n"
     ]
    },
    {
     "name": "stdout",
     "output_type": "stream",
     "text": [
      "WARNING: Default of the method has been changed to 't-test' from 't-test_overestim_var'\n"
     ]
    },
    {
     "name": "stderr",
     "output_type": "stream",
     "text": [
      "/tmp/ipykernel_25667/1624553327.py:36: FutureWarning: X.dtype being converted to np.float32 from float64. In the next version of anndata (0.9) conversion will not be automatic. Pass dtype explicitly to avoid this warning. Pass `AnnData(X, dtype=X.dtype, ...)` to get the future behavour.\n"
     ]
    },
    {
     "name": "stdout",
     "output_type": "stream",
     "text": [
      "368\n",
      "WARNING: You’re trying to run this on 9531 dimensions of `.X`, if you really want this, set `use_rep='X'`.\n",
      "         Falling back to preprocessing with `sc.pp.pca` and default params.\n"
     ]
    },
    {
     "name": "stderr",
     "output_type": "stream",
     "text": [
      "/tmp/ipykernel_25667/1624553327.py:26: FutureWarning: X.dtype being converted to np.float32 from float64. In the next version of anndata (0.9) conversion will not be automatic. Pass dtype explicitly to avoid this warning. Pass `AnnData(X, dtype=X.dtype, ...)` to get the future behavour.\n"
     ]
    },
    {
     "name": "stdout",
     "output_type": "stream",
     "text": [
      "WARNING: Default of the method has been changed to 't-test' from 't-test_overestim_var'\n"
     ]
    },
    {
     "name": "stderr",
     "output_type": "stream",
     "text": [
      "/tmp/ipykernel_25667/1624553327.py:36: FutureWarning: X.dtype being converted to np.float32 from float64. In the next version of anndata (0.9) conversion will not be automatic. Pass dtype explicitly to avoid this warning. Pass `AnnData(X, dtype=X.dtype, ...)` to get the future behavour.\n"
     ]
    },
    {
     "name": "stdout",
     "output_type": "stream",
     "text": [
      "368\n",
      "WARNING: You’re trying to run this on 9531 dimensions of `.X`, if you really want this, set `use_rep='X'`.\n",
      "         Falling back to preprocessing with `sc.pp.pca` and default params.\n"
     ]
    },
    {
     "name": "stderr",
     "output_type": "stream",
     "text": [
      "/tmp/ipykernel_25667/1624553327.py:26: FutureWarning: X.dtype being converted to np.float32 from float64. In the next version of anndata (0.9) conversion will not be automatic. Pass dtype explicitly to avoid this warning. Pass `AnnData(X, dtype=X.dtype, ...)` to get the future behavour.\n"
     ]
    },
    {
     "name": "stdout",
     "output_type": "stream",
     "text": [
      "WARNING: Default of the method has been changed to 't-test' from 't-test_overestim_var'\n"
     ]
    },
    {
     "name": "stderr",
     "output_type": "stream",
     "text": [
      "/tmp/ipykernel_25667/1624553327.py:36: FutureWarning: X.dtype being converted to np.float32 from float64. In the next version of anndata (0.9) conversion will not be automatic. Pass dtype explicitly to avoid this warning. Pass `AnnData(X, dtype=X.dtype, ...)` to get the future behavour.\n"
     ]
    },
    {
     "name": "stdout",
     "output_type": "stream",
     "text": [
      "368\n",
      "WARNING: You’re trying to run this on 9531 dimensions of `.X`, if you really want this, set `use_rep='X'`.\n",
      "         Falling back to preprocessing with `sc.pp.pca` and default params.\n"
     ]
    },
    {
     "name": "stderr",
     "output_type": "stream",
     "text": [
      "/tmp/ipykernel_25667/1624553327.py:26: FutureWarning: X.dtype being converted to np.float32 from float64. In the next version of anndata (0.9) conversion will not be automatic. Pass dtype explicitly to avoid this warning. Pass `AnnData(X, dtype=X.dtype, ...)` to get the future behavour.\n"
     ]
    },
    {
     "name": "stdout",
     "output_type": "stream",
     "text": [
      "WARNING: Default of the method has been changed to 't-test' from 't-test_overestim_var'\n"
     ]
    },
    {
     "name": "stderr",
     "output_type": "stream",
     "text": [
      "/tmp/ipykernel_25667/1624553327.py:36: FutureWarning: X.dtype being converted to np.float32 from float64. In the next version of anndata (0.9) conversion will not be automatic. Pass dtype explicitly to avoid this warning. Pass `AnnData(X, dtype=X.dtype, ...)` to get the future behavour.\n"
     ]
    },
    {
     "name": "stdout",
     "output_type": "stream",
     "text": [
      "368\n",
      "WARNING: You’re trying to run this on 9531 dimensions of `.X`, if you really want this, set `use_rep='X'`.\n",
      "         Falling back to preprocessing with `sc.pp.pca` and default params.\n"
     ]
    },
    {
     "name": "stderr",
     "output_type": "stream",
     "text": [
      "/tmp/ipykernel_25667/1624553327.py:26: FutureWarning: X.dtype being converted to np.float32 from float64. In the next version of anndata (0.9) conversion will not be automatic. Pass dtype explicitly to avoid this warning. Pass `AnnData(X, dtype=X.dtype, ...)` to get the future behavour.\n"
     ]
    },
    {
     "name": "stdout",
     "output_type": "stream",
     "text": [
      "WARNING: Default of the method has been changed to 't-test' from 't-test_overestim_var'\n"
     ]
    },
    {
     "name": "stderr",
     "output_type": "stream",
     "text": [
      "/tmp/ipykernel_25667/1624553327.py:36: FutureWarning: X.dtype being converted to np.float32 from float64. In the next version of anndata (0.9) conversion will not be automatic. Pass dtype explicitly to avoid this warning. Pass `AnnData(X, dtype=X.dtype, ...)` to get the future behavour.\n"
     ]
    },
    {
     "name": "stdout",
     "output_type": "stream",
     "text": [
      "368\n",
      "WARNING: You’re trying to run this on 9531 dimensions of `.X`, if you really want this, set `use_rep='X'`.\n",
      "         Falling back to preprocessing with `sc.pp.pca` and default params.\n"
     ]
    },
    {
     "name": "stderr",
     "output_type": "stream",
     "text": [
      "/tmp/ipykernel_25667/1624553327.py:26: FutureWarning: X.dtype being converted to np.float32 from float64. In the next version of anndata (0.9) conversion will not be automatic. Pass dtype explicitly to avoid this warning. Pass `AnnData(X, dtype=X.dtype, ...)` to get the future behavour.\n"
     ]
    },
    {
     "name": "stdout",
     "output_type": "stream",
     "text": [
      "WARNING: Default of the method has been changed to 't-test' from 't-test_overestim_var'\n"
     ]
    },
    {
     "name": "stderr",
     "output_type": "stream",
     "text": [
      "/tmp/ipykernel_25667/1624553327.py:36: FutureWarning: X.dtype being converted to np.float32 from float64. In the next version of anndata (0.9) conversion will not be automatic. Pass dtype explicitly to avoid this warning. Pass `AnnData(X, dtype=X.dtype, ...)` to get the future behavour.\n"
     ]
    },
    {
     "name": "stdout",
     "output_type": "stream",
     "text": [
      "368\n",
      "WARNING: You’re trying to run this on 9531 dimensions of `.X`, if you really want this, set `use_rep='X'`.\n",
      "         Falling back to preprocessing with `sc.pp.pca` and default params.\n"
     ]
    },
    {
     "name": "stderr",
     "output_type": "stream",
     "text": [
      "/tmp/ipykernel_25667/1624553327.py:26: FutureWarning: X.dtype being converted to np.float32 from float64. In the next version of anndata (0.9) conversion will not be automatic. Pass dtype explicitly to avoid this warning. Pass `AnnData(X, dtype=X.dtype, ...)` to get the future behavour.\n"
     ]
    },
    {
     "name": "stdout",
     "output_type": "stream",
     "text": [
      "WARNING: Default of the method has been changed to 't-test' from 't-test_overestim_var'\n"
     ]
    },
    {
     "name": "stderr",
     "output_type": "stream",
     "text": [
      "/tmp/ipykernel_25667/1624553327.py:36: FutureWarning: X.dtype being converted to np.float32 from float64. In the next version of anndata (0.9) conversion will not be automatic. Pass dtype explicitly to avoid this warning. Pass `AnnData(X, dtype=X.dtype, ...)` to get the future behavour.\n"
     ]
    },
    {
     "name": "stdout",
     "output_type": "stream",
     "text": [
      "368\n",
      "WARNING: You’re trying to run this on 9531 dimensions of `.X`, if you really want this, set `use_rep='X'`.\n",
      "         Falling back to preprocessing with `sc.pp.pca` and default params.\n"
     ]
    },
    {
     "name": "stderr",
     "output_type": "stream",
     "text": [
      "/tmp/ipykernel_25667/1624553327.py:26: FutureWarning: X.dtype being converted to np.float32 from float64. In the next version of anndata (0.9) conversion will not be automatic. Pass dtype explicitly to avoid this warning. Pass `AnnData(X, dtype=X.dtype, ...)` to get the future behavour.\n"
     ]
    },
    {
     "name": "stdout",
     "output_type": "stream",
     "text": [
      "WARNING: Default of the method has been changed to 't-test' from 't-test_overestim_var'\n"
     ]
    },
    {
     "name": "stderr",
     "output_type": "stream",
     "text": [
      "/tmp/ipykernel_25667/1624553327.py:36: FutureWarning: X.dtype being converted to np.float32 from float64. In the next version of anndata (0.9) conversion will not be automatic. Pass dtype explicitly to avoid this warning. Pass `AnnData(X, dtype=X.dtype, ...)` to get the future behavour.\n"
     ]
    },
    {
     "name": "stdout",
     "output_type": "stream",
     "text": [
      "368\n",
      "WARNING: You’re trying to run this on 9531 dimensions of `.X`, if you really want this, set `use_rep='X'`.\n",
      "         Falling back to preprocessing with `sc.pp.pca` and default params.\n"
     ]
    },
    {
     "name": "stderr",
     "output_type": "stream",
     "text": [
      "/tmp/ipykernel_25667/1624553327.py:26: FutureWarning: X.dtype being converted to np.float32 from float64. In the next version of anndata (0.9) conversion will not be automatic. Pass dtype explicitly to avoid this warning. Pass `AnnData(X, dtype=X.dtype, ...)` to get the future behavour.\n"
     ]
    },
    {
     "name": "stdout",
     "output_type": "stream",
     "text": [
      "WARNING: Default of the method has been changed to 't-test' from 't-test_overestim_var'\n"
     ]
    },
    {
     "name": "stderr",
     "output_type": "stream",
     "text": [
      "/tmp/ipykernel_25667/1624553327.py:36: FutureWarning: X.dtype being converted to np.float32 from float64. In the next version of anndata (0.9) conversion will not be automatic. Pass dtype explicitly to avoid this warning. Pass `AnnData(X, dtype=X.dtype, ...)` to get the future behavour.\n"
     ]
    },
    {
     "name": "stdout",
     "output_type": "stream",
     "text": [
      "368\n",
      "WARNING: You’re trying to run this on 9531 dimensions of `.X`, if you really want this, set `use_rep='X'`.\n",
      "         Falling back to preprocessing with `sc.pp.pca` and default params.\n"
     ]
    },
    {
     "name": "stderr",
     "output_type": "stream",
     "text": [
      "/tmp/ipykernel_25667/1624553327.py:26: FutureWarning: X.dtype being converted to np.float32 from float64. In the next version of anndata (0.9) conversion will not be automatic. Pass dtype explicitly to avoid this warning. Pass `AnnData(X, dtype=X.dtype, ...)` to get the future behavour.\n"
     ]
    },
    {
     "name": "stdout",
     "output_type": "stream",
     "text": [
      "WARNING: Default of the method has been changed to 't-test' from 't-test_overestim_var'\n"
     ]
    },
    {
     "name": "stderr",
     "output_type": "stream",
     "text": [
      "/tmp/ipykernel_25667/1624553327.py:36: FutureWarning: X.dtype being converted to np.float32 from float64. In the next version of anndata (0.9) conversion will not be automatic. Pass dtype explicitly to avoid this warning. Pass `AnnData(X, dtype=X.dtype, ...)` to get the future behavour.\n"
     ]
    },
    {
     "name": "stdout",
     "output_type": "stream",
     "text": [
      "368\n",
      "WARNING: You’re trying to run this on 9531 dimensions of `.X`, if you really want this, set `use_rep='X'`.\n",
      "         Falling back to preprocessing with `sc.pp.pca` and default params.\n"
     ]
    },
    {
     "name": "stderr",
     "output_type": "stream",
     "text": [
      "/tmp/ipykernel_25667/1624553327.py:26: FutureWarning: X.dtype being converted to np.float32 from float64. In the next version of anndata (0.9) conversion will not be automatic. Pass dtype explicitly to avoid this warning. Pass `AnnData(X, dtype=X.dtype, ...)` to get the future behavour.\n"
     ]
    },
    {
     "name": "stdout",
     "output_type": "stream",
     "text": [
      "WARNING: Default of the method has been changed to 't-test' from 't-test_overestim_var'\n"
     ]
    },
    {
     "name": "stderr",
     "output_type": "stream",
     "text": [
      "/tmp/ipykernel_25667/1624553327.py:36: FutureWarning: X.dtype being converted to np.float32 from float64. In the next version of anndata (0.9) conversion will not be automatic. Pass dtype explicitly to avoid this warning. Pass `AnnData(X, dtype=X.dtype, ...)` to get the future behavour.\n"
     ]
    },
    {
     "name": "stdout",
     "output_type": "stream",
     "text": [
      "368\n",
      "WARNING: You’re trying to run this on 9531 dimensions of `.X`, if you really want this, set `use_rep='X'`.\n",
      "         Falling back to preprocessing with `sc.pp.pca` and default params.\n"
     ]
    },
    {
     "name": "stderr",
     "output_type": "stream",
     "text": [
      "/tmp/ipykernel_25667/1624553327.py:26: FutureWarning: X.dtype being converted to np.float32 from float64. In the next version of anndata (0.9) conversion will not be automatic. Pass dtype explicitly to avoid this warning. Pass `AnnData(X, dtype=X.dtype, ...)` to get the future behavour.\n"
     ]
    },
    {
     "name": "stdout",
     "output_type": "stream",
     "text": [
      "WARNING: Default of the method has been changed to 't-test' from 't-test_overestim_var'\n"
     ]
    },
    {
     "name": "stderr",
     "output_type": "stream",
     "text": [
      "/tmp/ipykernel_25667/1624553327.py:36: FutureWarning: X.dtype being converted to np.float32 from float64. In the next version of anndata (0.9) conversion will not be automatic. Pass dtype explicitly to avoid this warning. Pass `AnnData(X, dtype=X.dtype, ...)` to get the future behavour.\n"
     ]
    },
    {
     "name": "stdout",
     "output_type": "stream",
     "text": [
      "368\n",
      "WARNING: You’re trying to run this on 9531 dimensions of `.X`, if you really want this, set `use_rep='X'`.\n",
      "         Falling back to preprocessing with `sc.pp.pca` and default params.\n"
     ]
    },
    {
     "name": "stderr",
     "output_type": "stream",
     "text": [
      "/tmp/ipykernel_25667/1624553327.py:26: FutureWarning: X.dtype being converted to np.float32 from float64. In the next version of anndata (0.9) conversion will not be automatic. Pass dtype explicitly to avoid this warning. Pass `AnnData(X, dtype=X.dtype, ...)` to get the future behavour.\n"
     ]
    },
    {
     "name": "stdout",
     "output_type": "stream",
     "text": [
      "WARNING: Default of the method has been changed to 't-test' from 't-test_overestim_var'\n"
     ]
    },
    {
     "name": "stderr",
     "output_type": "stream",
     "text": [
      "/tmp/ipykernel_25667/1624553327.py:36: FutureWarning: X.dtype being converted to np.float32 from float64. In the next version of anndata (0.9) conversion will not be automatic. Pass dtype explicitly to avoid this warning. Pass `AnnData(X, dtype=X.dtype, ...)` to get the future behavour.\n"
     ]
    },
    {
     "name": "stdout",
     "output_type": "stream",
     "text": [
      "368\n",
      "WARNING: You’re trying to run this on 9531 dimensions of `.X`, if you really want this, set `use_rep='X'`.\n",
      "         Falling back to preprocessing with `sc.pp.pca` and default params.\n"
     ]
    },
    {
     "name": "stderr",
     "output_type": "stream",
     "text": [
      "/tmp/ipykernel_25667/1624553327.py:26: FutureWarning: X.dtype being converted to np.float32 from float64. In the next version of anndata (0.9) conversion will not be automatic. Pass dtype explicitly to avoid this warning. Pass `AnnData(X, dtype=X.dtype, ...)` to get the future behavour.\n"
     ]
    },
    {
     "name": "stdout",
     "output_type": "stream",
     "text": [
      "WARNING: Default of the method has been changed to 't-test' from 't-test_overestim_var'\n"
     ]
    },
    {
     "name": "stderr",
     "output_type": "stream",
     "text": [
      "/tmp/ipykernel_25667/1624553327.py:36: FutureWarning: X.dtype being converted to np.float32 from float64. In the next version of anndata (0.9) conversion will not be automatic. Pass dtype explicitly to avoid this warning. Pass `AnnData(X, dtype=X.dtype, ...)` to get the future behavour.\n"
     ]
    },
    {
     "name": "stdout",
     "output_type": "stream",
     "text": [
      "368\n",
      "WARNING: You’re trying to run this on 9531 dimensions of `.X`, if you really want this, set `use_rep='X'`.\n",
      "         Falling back to preprocessing with `sc.pp.pca` and default params.\n"
     ]
    },
    {
     "name": "stderr",
     "output_type": "stream",
     "text": [
      "/tmp/ipykernel_25667/1624553327.py:26: FutureWarning: X.dtype being converted to np.float32 from float64. In the next version of anndata (0.9) conversion will not be automatic. Pass dtype explicitly to avoid this warning. Pass `AnnData(X, dtype=X.dtype, ...)` to get the future behavour.\n"
     ]
    },
    {
     "name": "stdout",
     "output_type": "stream",
     "text": [
      "WARNING: Default of the method has been changed to 't-test' from 't-test_overestim_var'\n"
     ]
    },
    {
     "name": "stderr",
     "output_type": "stream",
     "text": [
      "/tmp/ipykernel_25667/1624553327.py:36: FutureWarning: X.dtype being converted to np.float32 from float64. In the next version of anndata (0.9) conversion will not be automatic. Pass dtype explicitly to avoid this warning. Pass `AnnData(X, dtype=X.dtype, ...)` to get the future behavour.\n"
     ]
    },
    {
     "name": "stdout",
     "output_type": "stream",
     "text": [
      "368\n",
      "WARNING: You’re trying to run this on 9531 dimensions of `.X`, if you really want this, set `use_rep='X'`.\n",
      "         Falling back to preprocessing with `sc.pp.pca` and default params.\n"
     ]
    },
    {
     "name": "stderr",
     "output_type": "stream",
     "text": [
      "/tmp/ipykernel_25667/1624553327.py:26: FutureWarning: X.dtype being converted to np.float32 from float64. In the next version of anndata (0.9) conversion will not be automatic. Pass dtype explicitly to avoid this warning. Pass `AnnData(X, dtype=X.dtype, ...)` to get the future behavour.\n"
     ]
    },
    {
     "name": "stdout",
     "output_type": "stream",
     "text": [
      "WARNING: Default of the method has been changed to 't-test' from 't-test_overestim_var'\n"
     ]
    },
    {
     "name": "stderr",
     "output_type": "stream",
     "text": [
      "/tmp/ipykernel_25667/1624553327.py:36: FutureWarning: X.dtype being converted to np.float32 from float64. In the next version of anndata (0.9) conversion will not be automatic. Pass dtype explicitly to avoid this warning. Pass `AnnData(X, dtype=X.dtype, ...)` to get the future behavour.\n"
     ]
    },
    {
     "name": "stdout",
     "output_type": "stream",
     "text": [
      "368\n",
      "WARNING: You’re trying to run this on 9531 dimensions of `.X`, if you really want this, set `use_rep='X'`.\n",
      "         Falling back to preprocessing with `sc.pp.pca` and default params.\n"
     ]
    },
    {
     "name": "stderr",
     "output_type": "stream",
     "text": [
      "/tmp/ipykernel_25667/1624553327.py:26: FutureWarning: X.dtype being converted to np.float32 from float64. In the next version of anndata (0.9) conversion will not be automatic. Pass dtype explicitly to avoid this warning. Pass `AnnData(X, dtype=X.dtype, ...)` to get the future behavour.\n"
     ]
    },
    {
     "name": "stdout",
     "output_type": "stream",
     "text": [
      "WARNING: Default of the method has been changed to 't-test' from 't-test_overestim_var'\n"
     ]
    },
    {
     "name": "stderr",
     "output_type": "stream",
     "text": [
      "/tmp/ipykernel_25667/1624553327.py:36: FutureWarning: X.dtype being converted to np.float32 from float64. In the next version of anndata (0.9) conversion will not be automatic. Pass dtype explicitly to avoid this warning. Pass `AnnData(X, dtype=X.dtype, ...)` to get the future behavour.\n"
     ]
    },
    {
     "name": "stdout",
     "output_type": "stream",
     "text": [
      "368\n",
      "WARNING: You’re trying to run this on 9531 dimensions of `.X`, if you really want this, set `use_rep='X'`.\n",
      "         Falling back to preprocessing with `sc.pp.pca` and default params.\n"
     ]
    },
    {
     "name": "stderr",
     "output_type": "stream",
     "text": [
      "/tmp/ipykernel_25667/1624553327.py:26: FutureWarning: X.dtype being converted to np.float32 from float64. In the next version of anndata (0.9) conversion will not be automatic. Pass dtype explicitly to avoid this warning. Pass `AnnData(X, dtype=X.dtype, ...)` to get the future behavour.\n"
     ]
    },
    {
     "name": "stdout",
     "output_type": "stream",
     "text": [
      "WARNING: Default of the method has been changed to 't-test' from 't-test_overestim_var'\n"
     ]
    },
    {
     "name": "stderr",
     "output_type": "stream",
     "text": [
      "/tmp/ipykernel_25667/1624553327.py:36: FutureWarning: X.dtype being converted to np.float32 from float64. In the next version of anndata (0.9) conversion will not be automatic. Pass dtype explicitly to avoid this warning. Pass `AnnData(X, dtype=X.dtype, ...)` to get the future behavour.\n"
     ]
    },
    {
     "name": "stdout",
     "output_type": "stream",
     "text": [
      "368\n",
      "WARNING: You’re trying to run this on 9531 dimensions of `.X`, if you really want this, set `use_rep='X'`.\n",
      "         Falling back to preprocessing with `sc.pp.pca` and default params.\n"
     ]
    },
    {
     "name": "stderr",
     "output_type": "stream",
     "text": [
      "/tmp/ipykernel_25667/1624553327.py:26: FutureWarning: X.dtype being converted to np.float32 from float64. In the next version of anndata (0.9) conversion will not be automatic. Pass dtype explicitly to avoid this warning. Pass `AnnData(X, dtype=X.dtype, ...)` to get the future behavour.\n"
     ]
    },
    {
     "name": "stdout",
     "output_type": "stream",
     "text": [
      "WARNING: Default of the method has been changed to 't-test' from 't-test_overestim_var'\n"
     ]
    },
    {
     "name": "stderr",
     "output_type": "stream",
     "text": [
      "/tmp/ipykernel_25667/1624553327.py:36: FutureWarning: X.dtype being converted to np.float32 from float64. In the next version of anndata (0.9) conversion will not be automatic. Pass dtype explicitly to avoid this warning. Pass `AnnData(X, dtype=X.dtype, ...)` to get the future behavour.\n"
     ]
    },
    {
     "name": "stdout",
     "output_type": "stream",
     "text": [
      "368\n",
      "WARNING: You’re trying to run this on 9531 dimensions of `.X`, if you really want this, set `use_rep='X'`.\n",
      "         Falling back to preprocessing with `sc.pp.pca` and default params.\n"
     ]
    },
    {
     "name": "stderr",
     "output_type": "stream",
     "text": [
      "/tmp/ipykernel_25667/1624553327.py:26: FutureWarning: X.dtype being converted to np.float32 from float64. In the next version of anndata (0.9) conversion will not be automatic. Pass dtype explicitly to avoid this warning. Pass `AnnData(X, dtype=X.dtype, ...)` to get the future behavour.\n"
     ]
    },
    {
     "name": "stdout",
     "output_type": "stream",
     "text": [
      "WARNING: Default of the method has been changed to 't-test' from 't-test_overestim_var'\n"
     ]
    },
    {
     "name": "stderr",
     "output_type": "stream",
     "text": [
      "/tmp/ipykernel_25667/1624553327.py:36: FutureWarning: X.dtype being converted to np.float32 from float64. In the next version of anndata (0.9) conversion will not be automatic. Pass dtype explicitly to avoid this warning. Pass `AnnData(X, dtype=X.dtype, ...)` to get the future behavour.\n"
     ]
    },
    {
     "name": "stdout",
     "output_type": "stream",
     "text": [
      "368\n",
      "WARNING: You’re trying to run this on 9531 dimensions of `.X`, if you really want this, set `use_rep='X'`.\n",
      "         Falling back to preprocessing with `sc.pp.pca` and default params.\n"
     ]
    },
    {
     "name": "stderr",
     "output_type": "stream",
     "text": [
      "/tmp/ipykernel_25667/1624553327.py:26: FutureWarning: X.dtype being converted to np.float32 from float64. In the next version of anndata (0.9) conversion will not be automatic. Pass dtype explicitly to avoid this warning. Pass `AnnData(X, dtype=X.dtype, ...)` to get the future behavour.\n"
     ]
    },
    {
     "name": "stdout",
     "output_type": "stream",
     "text": [
      "WARNING: Default of the method has been changed to 't-test' from 't-test_overestim_var'\n"
     ]
    },
    {
     "name": "stderr",
     "output_type": "stream",
     "text": [
      "/tmp/ipykernel_25667/1624553327.py:36: FutureWarning: X.dtype being converted to np.float32 from float64. In the next version of anndata (0.9) conversion will not be automatic. Pass dtype explicitly to avoid this warning. Pass `AnnData(X, dtype=X.dtype, ...)` to get the future behavour.\n"
     ]
    },
    {
     "name": "stdout",
     "output_type": "stream",
     "text": [
      "368\n",
      "WARNING: You’re trying to run this on 9531 dimensions of `.X`, if you really want this, set `use_rep='X'`.\n",
      "         Falling back to preprocessing with `sc.pp.pca` and default params.\n"
     ]
    },
    {
     "name": "stderr",
     "output_type": "stream",
     "text": [
      "/tmp/ipykernel_25667/1624553327.py:26: FutureWarning: X.dtype being converted to np.float32 from float64. In the next version of anndata (0.9) conversion will not be automatic. Pass dtype explicitly to avoid this warning. Pass `AnnData(X, dtype=X.dtype, ...)` to get the future behavour.\n"
     ]
    },
    {
     "name": "stdout",
     "output_type": "stream",
     "text": [
      "WARNING: Default of the method has been changed to 't-test' from 't-test_overestim_var'\n"
     ]
    },
    {
     "name": "stderr",
     "output_type": "stream",
     "text": [
      "/tmp/ipykernel_25667/1624553327.py:36: FutureWarning: X.dtype being converted to np.float32 from float64. In the next version of anndata (0.9) conversion will not be automatic. Pass dtype explicitly to avoid this warning. Pass `AnnData(X, dtype=X.dtype, ...)` to get the future behavour.\n"
     ]
    },
    {
     "name": "stdout",
     "output_type": "stream",
     "text": [
      "368\n",
      "WARNING: You’re trying to run this on 9531 dimensions of `.X`, if you really want this, set `use_rep='X'`.\n",
      "         Falling back to preprocessing with `sc.pp.pca` and default params.\n"
     ]
    },
    {
     "name": "stderr",
     "output_type": "stream",
     "text": [
      "/tmp/ipykernel_25667/1624553327.py:26: FutureWarning: X.dtype being converted to np.float32 from float64. In the next version of anndata (0.9) conversion will not be automatic. Pass dtype explicitly to avoid this warning. Pass `AnnData(X, dtype=X.dtype, ...)` to get the future behavour.\n"
     ]
    },
    {
     "name": "stdout",
     "output_type": "stream",
     "text": [
      "WARNING: Default of the method has been changed to 't-test' from 't-test_overestim_var'\n"
     ]
    },
    {
     "name": "stderr",
     "output_type": "stream",
     "text": [
      "/tmp/ipykernel_25667/1624553327.py:36: FutureWarning: X.dtype being converted to np.float32 from float64. In the next version of anndata (0.9) conversion will not be automatic. Pass dtype explicitly to avoid this warning. Pass `AnnData(X, dtype=X.dtype, ...)` to get the future behavour.\n"
     ]
    },
    {
     "name": "stdout",
     "output_type": "stream",
     "text": [
      "368\n",
      "WARNING: You’re trying to run this on 9531 dimensions of `.X`, if you really want this, set `use_rep='X'`.\n",
      "         Falling back to preprocessing with `sc.pp.pca` and default params.\n"
     ]
    },
    {
     "name": "stderr",
     "output_type": "stream",
     "text": [
      "/tmp/ipykernel_25667/1624553327.py:26: FutureWarning: X.dtype being converted to np.float32 from float64. In the next version of anndata (0.9) conversion will not be automatic. Pass dtype explicitly to avoid this warning. Pass `AnnData(X, dtype=X.dtype, ...)` to get the future behavour.\n"
     ]
    },
    {
     "name": "stdout",
     "output_type": "stream",
     "text": [
      "WARNING: Default of the method has been changed to 't-test' from 't-test_overestim_var'\n"
     ]
    },
    {
     "name": "stderr",
     "output_type": "stream",
     "text": [
      "/tmp/ipykernel_25667/1624553327.py:36: FutureWarning: X.dtype being converted to np.float32 from float64. In the next version of anndata (0.9) conversion will not be automatic. Pass dtype explicitly to avoid this warning. Pass `AnnData(X, dtype=X.dtype, ...)` to get the future behavour.\n"
     ]
    },
    {
     "name": "stdout",
     "output_type": "stream",
     "text": [
      "368\n",
      "WARNING: You’re trying to run this on 9531 dimensions of `.X`, if you really want this, set `use_rep='X'`.\n",
      "         Falling back to preprocessing with `sc.pp.pca` and default params.\n"
     ]
    },
    {
     "name": "stderr",
     "output_type": "stream",
     "text": [
      "/tmp/ipykernel_25667/1624553327.py:26: FutureWarning: X.dtype being converted to np.float32 from float64. In the next version of anndata (0.9) conversion will not be automatic. Pass dtype explicitly to avoid this warning. Pass `AnnData(X, dtype=X.dtype, ...)` to get the future behavour.\n"
     ]
    },
    {
     "name": "stdout",
     "output_type": "stream",
     "text": [
      "WARNING: Default of the method has been changed to 't-test' from 't-test_overestim_var'\n"
     ]
    },
    {
     "name": "stderr",
     "output_type": "stream",
     "text": [
      "/tmp/ipykernel_25667/1624553327.py:36: FutureWarning: X.dtype being converted to np.float32 from float64. In the next version of anndata (0.9) conversion will not be automatic. Pass dtype explicitly to avoid this warning. Pass `AnnData(X, dtype=X.dtype, ...)` to get the future behavour.\n"
     ]
    },
    {
     "name": "stdout",
     "output_type": "stream",
     "text": [
      "368\n",
      "WARNING: You’re trying to run this on 9531 dimensions of `.X`, if you really want this, set `use_rep='X'`.\n",
      "         Falling back to preprocessing with `sc.pp.pca` and default params.\n"
     ]
    },
    {
     "name": "stderr",
     "output_type": "stream",
     "text": [
      "/tmp/ipykernel_25667/1624553327.py:26: FutureWarning: X.dtype being converted to np.float32 from float64. In the next version of anndata (0.9) conversion will not be automatic. Pass dtype explicitly to avoid this warning. Pass `AnnData(X, dtype=X.dtype, ...)` to get the future behavour.\n"
     ]
    },
    {
     "name": "stdout",
     "output_type": "stream",
     "text": [
      "WARNING: Default of the method has been changed to 't-test' from 't-test_overestim_var'\n"
     ]
    },
    {
     "name": "stderr",
     "output_type": "stream",
     "text": [
      "/tmp/ipykernel_25667/1624553327.py:36: FutureWarning: X.dtype being converted to np.float32 from float64. In the next version of anndata (0.9) conversion will not be automatic. Pass dtype explicitly to avoid this warning. Pass `AnnData(X, dtype=X.dtype, ...)` to get the future behavour.\n"
     ]
    },
    {
     "name": "stdout",
     "output_type": "stream",
     "text": [
      "368\n",
      "WARNING: You’re trying to run this on 9531 dimensions of `.X`, if you really want this, set `use_rep='X'`.\n",
      "         Falling back to preprocessing with `sc.pp.pca` and default params.\n"
     ]
    },
    {
     "name": "stderr",
     "output_type": "stream",
     "text": [
      "/tmp/ipykernel_25667/1624553327.py:26: FutureWarning: X.dtype being converted to np.float32 from float64. In the next version of anndata (0.9) conversion will not be automatic. Pass dtype explicitly to avoid this warning. Pass `AnnData(X, dtype=X.dtype, ...)` to get the future behavour.\n"
     ]
    },
    {
     "name": "stdout",
     "output_type": "stream",
     "text": [
      "WARNING: Default of the method has been changed to 't-test' from 't-test_overestim_var'\n"
     ]
    },
    {
     "name": "stderr",
     "output_type": "stream",
     "text": [
      "/tmp/ipykernel_25667/1624553327.py:36: FutureWarning: X.dtype being converted to np.float32 from float64. In the next version of anndata (0.9) conversion will not be automatic. Pass dtype explicitly to avoid this warning. Pass `AnnData(X, dtype=X.dtype, ...)` to get the future behavour.\n"
     ]
    },
    {
     "name": "stdout",
     "output_type": "stream",
     "text": [
      "368\n",
      "WARNING: You’re trying to run this on 9531 dimensions of `.X`, if you really want this, set `use_rep='X'`.\n",
      "         Falling back to preprocessing with `sc.pp.pca` and default params.\n"
     ]
    },
    {
     "name": "stderr",
     "output_type": "stream",
     "text": [
      "/tmp/ipykernel_25667/1624553327.py:26: FutureWarning: X.dtype being converted to np.float32 from float64. In the next version of anndata (0.9) conversion will not be automatic. Pass dtype explicitly to avoid this warning. Pass `AnnData(X, dtype=X.dtype, ...)` to get the future behavour.\n"
     ]
    },
    {
     "name": "stdout",
     "output_type": "stream",
     "text": [
      "WARNING: Default of the method has been changed to 't-test' from 't-test_overestim_var'\n"
     ]
    },
    {
     "name": "stderr",
     "output_type": "stream",
     "text": [
      "/tmp/ipykernel_25667/1624553327.py:36: FutureWarning: X.dtype being converted to np.float32 from float64. In the next version of anndata (0.9) conversion will not be automatic. Pass dtype explicitly to avoid this warning. Pass `AnnData(X, dtype=X.dtype, ...)` to get the future behavour.\n"
     ]
    },
    {
     "name": "stdout",
     "output_type": "stream",
     "text": [
      "368\n",
      "WARNING: You’re trying to run this on 9531 dimensions of `.X`, if you really want this, set `use_rep='X'`.\n",
      "         Falling back to preprocessing with `sc.pp.pca` and default params.\n"
     ]
    },
    {
     "name": "stderr",
     "output_type": "stream",
     "text": [
      "/tmp/ipykernel_25667/1624553327.py:26: FutureWarning: X.dtype being converted to np.float32 from float64. In the next version of anndata (0.9) conversion will not be automatic. Pass dtype explicitly to avoid this warning. Pass `AnnData(X, dtype=X.dtype, ...)` to get the future behavour.\n"
     ]
    },
    {
     "name": "stdout",
     "output_type": "stream",
     "text": [
      "WARNING: Default of the method has been changed to 't-test' from 't-test_overestim_var'\n"
     ]
    },
    {
     "name": "stderr",
     "output_type": "stream",
     "text": [
      "/tmp/ipykernel_25667/1624553327.py:36: FutureWarning: X.dtype being converted to np.float32 from float64. In the next version of anndata (0.9) conversion will not be automatic. Pass dtype explicitly to avoid this warning. Pass `AnnData(X, dtype=X.dtype, ...)` to get the future behavour.\n"
     ]
    },
    {
     "name": "stdout",
     "output_type": "stream",
     "text": [
      "368\n",
      "WARNING: You’re trying to run this on 9531 dimensions of `.X`, if you really want this, set `use_rep='X'`.\n",
      "         Falling back to preprocessing with `sc.pp.pca` and default params.\n"
     ]
    },
    {
     "name": "stderr",
     "output_type": "stream",
     "text": [
      "/tmp/ipykernel_25667/1624553327.py:26: FutureWarning: X.dtype being converted to np.float32 from float64. In the next version of anndata (0.9) conversion will not be automatic. Pass dtype explicitly to avoid this warning. Pass `AnnData(X, dtype=X.dtype, ...)` to get the future behavour.\n"
     ]
    },
    {
     "name": "stdout",
     "output_type": "stream",
     "text": [
      "WARNING: Default of the method has been changed to 't-test' from 't-test_overestim_var'\n"
     ]
    },
    {
     "name": "stderr",
     "output_type": "stream",
     "text": [
      "/tmp/ipykernel_25667/1624553327.py:36: FutureWarning: X.dtype being converted to np.float32 from float64. In the next version of anndata (0.9) conversion will not be automatic. Pass dtype explicitly to avoid this warning. Pass `AnnData(X, dtype=X.dtype, ...)` to get the future behavour.\n"
     ]
    },
    {
     "name": "stdout",
     "output_type": "stream",
     "text": [
      "368\n",
      "WARNING: You’re trying to run this on 9531 dimensions of `.X`, if you really want this, set `use_rep='X'`.\n",
      "         Falling back to preprocessing with `sc.pp.pca` and default params.\n"
     ]
    },
    {
     "name": "stderr",
     "output_type": "stream",
     "text": [
      "/tmp/ipykernel_25667/1624553327.py:26: FutureWarning: X.dtype being converted to np.float32 from float64. In the next version of anndata (0.9) conversion will not be automatic. Pass dtype explicitly to avoid this warning. Pass `AnnData(X, dtype=X.dtype, ...)` to get the future behavour.\n"
     ]
    },
    {
     "name": "stdout",
     "output_type": "stream",
     "text": [
      "WARNING: Default of the method has been changed to 't-test' from 't-test_overestim_var'\n"
     ]
    },
    {
     "name": "stderr",
     "output_type": "stream",
     "text": [
      "/tmp/ipykernel_25667/1624553327.py:36: FutureWarning: X.dtype being converted to np.float32 from float64. In the next version of anndata (0.9) conversion will not be automatic. Pass dtype explicitly to avoid this warning. Pass `AnnData(X, dtype=X.dtype, ...)` to get the future behavour.\n"
     ]
    },
    {
     "name": "stdout",
     "output_type": "stream",
     "text": [
      "368\n",
      "WARNING: You’re trying to run this on 9531 dimensions of `.X`, if you really want this, set `use_rep='X'`.\n",
      "         Falling back to preprocessing with `sc.pp.pca` and default params.\n"
     ]
    },
    {
     "name": "stderr",
     "output_type": "stream",
     "text": [
      "/tmp/ipykernel_25667/1624553327.py:26: FutureWarning: X.dtype being converted to np.float32 from float64. In the next version of anndata (0.9) conversion will not be automatic. Pass dtype explicitly to avoid this warning. Pass `AnnData(X, dtype=X.dtype, ...)` to get the future behavour.\n"
     ]
    },
    {
     "name": "stdout",
     "output_type": "stream",
     "text": [
      "WARNING: Default of the method has been changed to 't-test' from 't-test_overestim_var'\n"
     ]
    },
    {
     "name": "stderr",
     "output_type": "stream",
     "text": [
      "/tmp/ipykernel_25667/1624553327.py:36: FutureWarning: X.dtype being converted to np.float32 from float64. In the next version of anndata (0.9) conversion will not be automatic. Pass dtype explicitly to avoid this warning. Pass `AnnData(X, dtype=X.dtype, ...)` to get the future behavour.\n"
     ]
    },
    {
     "name": "stdout",
     "output_type": "stream",
     "text": [
      "368\n",
      "WARNING: You’re trying to run this on 9531 dimensions of `.X`, if you really want this, set `use_rep='X'`.\n",
      "         Falling back to preprocessing with `sc.pp.pca` and default params.\n"
     ]
    },
    {
     "name": "stderr",
     "output_type": "stream",
     "text": [
      "/tmp/ipykernel_25667/1624553327.py:26: FutureWarning: X.dtype being converted to np.float32 from float64. In the next version of anndata (0.9) conversion will not be automatic. Pass dtype explicitly to avoid this warning. Pass `AnnData(X, dtype=X.dtype, ...)` to get the future behavour.\n"
     ]
    },
    {
     "name": "stdout",
     "output_type": "stream",
     "text": [
      "WARNING: Default of the method has been changed to 't-test' from 't-test_overestim_var'\n"
     ]
    },
    {
     "name": "stderr",
     "output_type": "stream",
     "text": [
      "/tmp/ipykernel_25667/1624553327.py:36: FutureWarning: X.dtype being converted to np.float32 from float64. In the next version of anndata (0.9) conversion will not be automatic. Pass dtype explicitly to avoid this warning. Pass `AnnData(X, dtype=X.dtype, ...)` to get the future behavour.\n"
     ]
    },
    {
     "name": "stdout",
     "output_type": "stream",
     "text": [
      "368\n",
      "WARNING: You’re trying to run this on 9531 dimensions of `.X`, if you really want this, set `use_rep='X'`.\n",
      "         Falling back to preprocessing with `sc.pp.pca` and default params.\n"
     ]
    },
    {
     "name": "stderr",
     "output_type": "stream",
     "text": [
      "/tmp/ipykernel_25667/1624553327.py:26: FutureWarning: X.dtype being converted to np.float32 from float64. In the next version of anndata (0.9) conversion will not be automatic. Pass dtype explicitly to avoid this warning. Pass `AnnData(X, dtype=X.dtype, ...)` to get the future behavour.\n"
     ]
    },
    {
     "name": "stdout",
     "output_type": "stream",
     "text": [
      "WARNING: Default of the method has been changed to 't-test' from 't-test_overestim_var'\n"
     ]
    },
    {
     "name": "stderr",
     "output_type": "stream",
     "text": [
      "/tmp/ipykernel_25667/1624553327.py:36: FutureWarning: X.dtype being converted to np.float32 from float64. In the next version of anndata (0.9) conversion will not be automatic. Pass dtype explicitly to avoid this warning. Pass `AnnData(X, dtype=X.dtype, ...)` to get the future behavour.\n"
     ]
    },
    {
     "name": "stdout",
     "output_type": "stream",
     "text": [
      "368\n",
      "WARNING: You’re trying to run this on 9531 dimensions of `.X`, if you really want this, set `use_rep='X'`.\n",
      "         Falling back to preprocessing with `sc.pp.pca` and default params.\n"
     ]
    },
    {
     "name": "stderr",
     "output_type": "stream",
     "text": [
      "/tmp/ipykernel_25667/1624553327.py:26: FutureWarning: X.dtype being converted to np.float32 from float64. In the next version of anndata (0.9) conversion will not be automatic. Pass dtype explicitly to avoid this warning. Pass `AnnData(X, dtype=X.dtype, ...)` to get the future behavour.\n"
     ]
    },
    {
     "name": "stdout",
     "output_type": "stream",
     "text": [
      "WARNING: Default of the method has been changed to 't-test' from 't-test_overestim_var'\n"
     ]
    },
    {
     "name": "stderr",
     "output_type": "stream",
     "text": [
      "/tmp/ipykernel_25667/1624553327.py:36: FutureWarning: X.dtype being converted to np.float32 from float64. In the next version of anndata (0.9) conversion will not be automatic. Pass dtype explicitly to avoid this warning. Pass `AnnData(X, dtype=X.dtype, ...)` to get the future behavour.\n"
     ]
    },
    {
     "name": "stdout",
     "output_type": "stream",
     "text": [
      "368\n",
      "WARNING: You’re trying to run this on 9531 dimensions of `.X`, if you really want this, set `use_rep='X'`.\n",
      "         Falling back to preprocessing with `sc.pp.pca` and default params.\n"
     ]
    },
    {
     "name": "stderr",
     "output_type": "stream",
     "text": [
      "/tmp/ipykernel_25667/1624553327.py:26: FutureWarning: X.dtype being converted to np.float32 from float64. In the next version of anndata (0.9) conversion will not be automatic. Pass dtype explicitly to avoid this warning. Pass `AnnData(X, dtype=X.dtype, ...)` to get the future behavour.\n"
     ]
    },
    {
     "name": "stdout",
     "output_type": "stream",
     "text": [
      "WARNING: Default of the method has been changed to 't-test' from 't-test_overestim_var'\n"
     ]
    },
    {
     "name": "stderr",
     "output_type": "stream",
     "text": [
      "/tmp/ipykernel_25667/1624553327.py:36: FutureWarning: X.dtype being converted to np.float32 from float64. In the next version of anndata (0.9) conversion will not be automatic. Pass dtype explicitly to avoid this warning. Pass `AnnData(X, dtype=X.dtype, ...)` to get the future behavour.\n"
     ]
    },
    {
     "name": "stdout",
     "output_type": "stream",
     "text": [
      "368\n",
      "WARNING: You’re trying to run this on 9531 dimensions of `.X`, if you really want this, set `use_rep='X'`.\n",
      "         Falling back to preprocessing with `sc.pp.pca` and default params.\n"
     ]
    },
    {
     "name": "stderr",
     "output_type": "stream",
     "text": [
      "/tmp/ipykernel_25667/1624553327.py:26: FutureWarning: X.dtype being converted to np.float32 from float64. In the next version of anndata (0.9) conversion will not be automatic. Pass dtype explicitly to avoid this warning. Pass `AnnData(X, dtype=X.dtype, ...)` to get the future behavour.\n"
     ]
    },
    {
     "name": "stdout",
     "output_type": "stream",
     "text": [
      "WARNING: Default of the method has been changed to 't-test' from 't-test_overestim_var'\n"
     ]
    },
    {
     "name": "stderr",
     "output_type": "stream",
     "text": [
      "/tmp/ipykernel_25667/1624553327.py:36: FutureWarning: X.dtype being converted to np.float32 from float64. In the next version of anndata (0.9) conversion will not be automatic. Pass dtype explicitly to avoid this warning. Pass `AnnData(X, dtype=X.dtype, ...)` to get the future behavour.\n"
     ]
    },
    {
     "name": "stdout",
     "output_type": "stream",
     "text": [
      "368\n",
      "WARNING: You’re trying to run this on 9531 dimensions of `.X`, if you really want this, set `use_rep='X'`.\n",
      "         Falling back to preprocessing with `sc.pp.pca` and default params.\n"
     ]
    },
    {
     "name": "stderr",
     "output_type": "stream",
     "text": [
      "/tmp/ipykernel_25667/1624553327.py:26: FutureWarning: X.dtype being converted to np.float32 from float64. In the next version of anndata (0.9) conversion will not be automatic. Pass dtype explicitly to avoid this warning. Pass `AnnData(X, dtype=X.dtype, ...)` to get the future behavour.\n"
     ]
    },
    {
     "name": "stdout",
     "output_type": "stream",
     "text": [
      "WARNING: Default of the method has been changed to 't-test' from 't-test_overestim_var'\n"
     ]
    },
    {
     "name": "stderr",
     "output_type": "stream",
     "text": [
      "/tmp/ipykernel_25667/1624553327.py:36: FutureWarning: X.dtype being converted to np.float32 from float64. In the next version of anndata (0.9) conversion will not be automatic. Pass dtype explicitly to avoid this warning. Pass `AnnData(X, dtype=X.dtype, ...)` to get the future behavour.\n"
     ]
    },
    {
     "name": "stdout",
     "output_type": "stream",
     "text": [
      "368\n",
      "WARNING: You’re trying to run this on 9531 dimensions of `.X`, if you really want this, set `use_rep='X'`.\n",
      "         Falling back to preprocessing with `sc.pp.pca` and default params.\n"
     ]
    },
    {
     "name": "stderr",
     "output_type": "stream",
     "text": [
      "/tmp/ipykernel_25667/1624553327.py:26: FutureWarning: X.dtype being converted to np.float32 from float64. In the next version of anndata (0.9) conversion will not be automatic. Pass dtype explicitly to avoid this warning. Pass `AnnData(X, dtype=X.dtype, ...)` to get the future behavour.\n"
     ]
    },
    {
     "name": "stdout",
     "output_type": "stream",
     "text": [
      "WARNING: Default of the method has been changed to 't-test' from 't-test_overestim_var'\n"
     ]
    },
    {
     "name": "stderr",
     "output_type": "stream",
     "text": [
      "/tmp/ipykernel_25667/1624553327.py:36: FutureWarning: X.dtype being converted to np.float32 from float64. In the next version of anndata (0.9) conversion will not be automatic. Pass dtype explicitly to avoid this warning. Pass `AnnData(X, dtype=X.dtype, ...)` to get the future behavour.\n"
     ]
    },
    {
     "name": "stdout",
     "output_type": "stream",
     "text": [
      "368\n",
      "WARNING: You’re trying to run this on 9531 dimensions of `.X`, if you really want this, set `use_rep='X'`.\n",
      "         Falling back to preprocessing with `sc.pp.pca` and default params.\n"
     ]
    },
    {
     "name": "stderr",
     "output_type": "stream",
     "text": [
      "/tmp/ipykernel_25667/1624553327.py:26: FutureWarning: X.dtype being converted to np.float32 from float64. In the next version of anndata (0.9) conversion will not be automatic. Pass dtype explicitly to avoid this warning. Pass `AnnData(X, dtype=X.dtype, ...)` to get the future behavour.\n"
     ]
    },
    {
     "name": "stdout",
     "output_type": "stream",
     "text": [
      "WARNING: Default of the method has been changed to 't-test' from 't-test_overestim_var'\n"
     ]
    },
    {
     "name": "stderr",
     "output_type": "stream",
     "text": [
      "/tmp/ipykernel_25667/1624553327.py:36: FutureWarning: X.dtype being converted to np.float32 from float64. In the next version of anndata (0.9) conversion will not be automatic. Pass dtype explicitly to avoid this warning. Pass `AnnData(X, dtype=X.dtype, ...)` to get the future behavour.\n"
     ]
    },
    {
     "name": "stdout",
     "output_type": "stream",
     "text": [
      "368\n",
      "WARNING: You’re trying to run this on 9531 dimensions of `.X`, if you really want this, set `use_rep='X'`.\n",
      "         Falling back to preprocessing with `sc.pp.pca` and default params.\n"
     ]
    },
    {
     "name": "stderr",
     "output_type": "stream",
     "text": [
      "/tmp/ipykernel_25667/1624553327.py:26: FutureWarning: X.dtype being converted to np.float32 from float64. In the next version of anndata (0.9) conversion will not be automatic. Pass dtype explicitly to avoid this warning. Pass `AnnData(X, dtype=X.dtype, ...)` to get the future behavour.\n"
     ]
    },
    {
     "name": "stdout",
     "output_type": "stream",
     "text": [
      "WARNING: Default of the method has been changed to 't-test' from 't-test_overestim_var'\n"
     ]
    },
    {
     "name": "stderr",
     "output_type": "stream",
     "text": [
      "/tmp/ipykernel_25667/1624553327.py:36: FutureWarning: X.dtype being converted to np.float32 from float64. In the next version of anndata (0.9) conversion will not be automatic. Pass dtype explicitly to avoid this warning. Pass `AnnData(X, dtype=X.dtype, ...)` to get the future behavour.\n"
     ]
    },
    {
     "name": "stdout",
     "output_type": "stream",
     "text": [
      "368\n",
      "WARNING: You’re trying to run this on 9531 dimensions of `.X`, if you really want this, set `use_rep='X'`.\n",
      "         Falling back to preprocessing with `sc.pp.pca` and default params.\n"
     ]
    },
    {
     "name": "stderr",
     "output_type": "stream",
     "text": [
      "/tmp/ipykernel_25667/1624553327.py:26: FutureWarning: X.dtype being converted to np.float32 from float64. In the next version of anndata (0.9) conversion will not be automatic. Pass dtype explicitly to avoid this warning. Pass `AnnData(X, dtype=X.dtype, ...)` to get the future behavour.\n"
     ]
    },
    {
     "name": "stdout",
     "output_type": "stream",
     "text": [
      "WARNING: Default of the method has been changed to 't-test' from 't-test_overestim_var'\n"
     ]
    },
    {
     "name": "stderr",
     "output_type": "stream",
     "text": [
      "/tmp/ipykernel_25667/1624553327.py:36: FutureWarning: X.dtype being converted to np.float32 from float64. In the next version of anndata (0.9) conversion will not be automatic. Pass dtype explicitly to avoid this warning. Pass `AnnData(X, dtype=X.dtype, ...)` to get the future behavour.\n"
     ]
    },
    {
     "name": "stdout",
     "output_type": "stream",
     "text": [
      "368\n",
      "WARNING: You’re trying to run this on 9531 dimensions of `.X`, if you really want this, set `use_rep='X'`.\n",
      "         Falling back to preprocessing with `sc.pp.pca` and default params.\n"
     ]
    },
    {
     "name": "stderr",
     "output_type": "stream",
     "text": [
      "/tmp/ipykernel_25667/1624553327.py:26: FutureWarning: X.dtype being converted to np.float32 from float64. In the next version of anndata (0.9) conversion will not be automatic. Pass dtype explicitly to avoid this warning. Pass `AnnData(X, dtype=X.dtype, ...)` to get the future behavour.\n"
     ]
    },
    {
     "name": "stdout",
     "output_type": "stream",
     "text": [
      "WARNING: Default of the method has been changed to 't-test' from 't-test_overestim_var'\n"
     ]
    },
    {
     "name": "stderr",
     "output_type": "stream",
     "text": [
      "/tmp/ipykernel_25667/1624553327.py:36: FutureWarning: X.dtype being converted to np.float32 from float64. In the next version of anndata (0.9) conversion will not be automatic. Pass dtype explicitly to avoid this warning. Pass `AnnData(X, dtype=X.dtype, ...)` to get the future behavour.\n"
     ]
    },
    {
     "name": "stdout",
     "output_type": "stream",
     "text": [
      "368\n",
      "WARNING: You’re trying to run this on 9531 dimensions of `.X`, if you really want this, set `use_rep='X'`.\n",
      "         Falling back to preprocessing with `sc.pp.pca` and default params.\n"
     ]
    },
    {
     "name": "stderr",
     "output_type": "stream",
     "text": [
      "/tmp/ipykernel_25667/1624553327.py:26: FutureWarning: X.dtype being converted to np.float32 from float64. In the next version of anndata (0.9) conversion will not be automatic. Pass dtype explicitly to avoid this warning. Pass `AnnData(X, dtype=X.dtype, ...)` to get the future behavour.\n"
     ]
    },
    {
     "name": "stdout",
     "output_type": "stream",
     "text": [
      "WARNING: Default of the method has been changed to 't-test' from 't-test_overestim_var'\n"
     ]
    },
    {
     "name": "stderr",
     "output_type": "stream",
     "text": [
      "/tmp/ipykernel_25667/1624553327.py:36: FutureWarning: X.dtype being converted to np.float32 from float64. In the next version of anndata (0.9) conversion will not be automatic. Pass dtype explicitly to avoid this warning. Pass `AnnData(X, dtype=X.dtype, ...)` to get the future behavour.\n"
     ]
    },
    {
     "name": "stdout",
     "output_type": "stream",
     "text": [
      "368\n",
      "WARNING: You’re trying to run this on 9531 dimensions of `.X`, if you really want this, set `use_rep='X'`.\n",
      "         Falling back to preprocessing with `sc.pp.pca` and default params.\n"
     ]
    },
    {
     "name": "stderr",
     "output_type": "stream",
     "text": [
      "/tmp/ipykernel_25667/1624553327.py:26: FutureWarning: X.dtype being converted to np.float32 from float64. In the next version of anndata (0.9) conversion will not be automatic. Pass dtype explicitly to avoid this warning. Pass `AnnData(X, dtype=X.dtype, ...)` to get the future behavour.\n"
     ]
    },
    {
     "name": "stdout",
     "output_type": "stream",
     "text": [
      "WARNING: Default of the method has been changed to 't-test' from 't-test_overestim_var'\n"
     ]
    },
    {
     "name": "stderr",
     "output_type": "stream",
     "text": [
      "/tmp/ipykernel_25667/1624553327.py:36: FutureWarning: X.dtype being converted to np.float32 from float64. In the next version of anndata (0.9) conversion will not be automatic. Pass dtype explicitly to avoid this warning. Pass `AnnData(X, dtype=X.dtype, ...)` to get the future behavour.\n"
     ]
    },
    {
     "name": "stdout",
     "output_type": "stream",
     "text": [
      "368\n",
      "WARNING: You’re trying to run this on 9531 dimensions of `.X`, if you really want this, set `use_rep='X'`.\n",
      "         Falling back to preprocessing with `sc.pp.pca` and default params.\n"
     ]
    },
    {
     "name": "stderr",
     "output_type": "stream",
     "text": [
      "/tmp/ipykernel_25667/1624553327.py:26: FutureWarning: X.dtype being converted to np.float32 from float64. In the next version of anndata (0.9) conversion will not be automatic. Pass dtype explicitly to avoid this warning. Pass `AnnData(X, dtype=X.dtype, ...)` to get the future behavour.\n"
     ]
    },
    {
     "name": "stdout",
     "output_type": "stream",
     "text": [
      "WARNING: Default of the method has been changed to 't-test' from 't-test_overestim_var'\n"
     ]
    },
    {
     "name": "stderr",
     "output_type": "stream",
     "text": [
      "/tmp/ipykernel_25667/1624553327.py:36: FutureWarning: X.dtype being converted to np.float32 from float64. In the next version of anndata (0.9) conversion will not be automatic. Pass dtype explicitly to avoid this warning. Pass `AnnData(X, dtype=X.dtype, ...)` to get the future behavour.\n"
     ]
    },
    {
     "name": "stdout",
     "output_type": "stream",
     "text": [
      "368\n",
      "WARNING: You’re trying to run this on 9531 dimensions of `.X`, if you really want this, set `use_rep='X'`.\n",
      "         Falling back to preprocessing with `sc.pp.pca` and default params.\n"
     ]
    },
    {
     "name": "stderr",
     "output_type": "stream",
     "text": [
      "/tmp/ipykernel_25667/1624553327.py:26: FutureWarning: X.dtype being converted to np.float32 from float64. In the next version of anndata (0.9) conversion will not be automatic. Pass dtype explicitly to avoid this warning. Pass `AnnData(X, dtype=X.dtype, ...)` to get the future behavour.\n"
     ]
    },
    {
     "name": "stdout",
     "output_type": "stream",
     "text": [
      "WARNING: Default of the method has been changed to 't-test' from 't-test_overestim_var'\n"
     ]
    },
    {
     "name": "stderr",
     "output_type": "stream",
     "text": [
      "/tmp/ipykernel_25667/1624553327.py:36: FutureWarning: X.dtype being converted to np.float32 from float64. In the next version of anndata (0.9) conversion will not be automatic. Pass dtype explicitly to avoid this warning. Pass `AnnData(X, dtype=X.dtype, ...)` to get the future behavour.\n"
     ]
    },
    {
     "name": "stdout",
     "output_type": "stream",
     "text": [
      "368\n",
      "WARNING: You’re trying to run this on 9531 dimensions of `.X`, if you really want this, set `use_rep='X'`.\n",
      "         Falling back to preprocessing with `sc.pp.pca` and default params.\n"
     ]
    },
    {
     "name": "stderr",
     "output_type": "stream",
     "text": [
      "/tmp/ipykernel_25667/1624553327.py:26: FutureWarning: X.dtype being converted to np.float32 from float64. In the next version of anndata (0.9) conversion will not be automatic. Pass dtype explicitly to avoid this warning. Pass `AnnData(X, dtype=X.dtype, ...)` to get the future behavour.\n"
     ]
    },
    {
     "name": "stdout",
     "output_type": "stream",
     "text": [
      "WARNING: Default of the method has been changed to 't-test' from 't-test_overestim_var'\n"
     ]
    },
    {
     "name": "stderr",
     "output_type": "stream",
     "text": [
      "/tmp/ipykernel_25667/1624553327.py:36: FutureWarning: X.dtype being converted to np.float32 from float64. In the next version of anndata (0.9) conversion will not be automatic. Pass dtype explicitly to avoid this warning. Pass `AnnData(X, dtype=X.dtype, ...)` to get the future behavour.\n"
     ]
    },
    {
     "name": "stdout",
     "output_type": "stream",
     "text": [
      "368\n",
      "WARNING: You’re trying to run this on 9531 dimensions of `.X`, if you really want this, set `use_rep='X'`.\n",
      "         Falling back to preprocessing with `sc.pp.pca` and default params.\n"
     ]
    },
    {
     "name": "stderr",
     "output_type": "stream",
     "text": [
      "/tmp/ipykernel_25667/1624553327.py:26: FutureWarning: X.dtype being converted to np.float32 from float64. In the next version of anndata (0.9) conversion will not be automatic. Pass dtype explicitly to avoid this warning. Pass `AnnData(X, dtype=X.dtype, ...)` to get the future behavour.\n"
     ]
    },
    {
     "name": "stdout",
     "output_type": "stream",
     "text": [
      "WARNING: Default of the method has been changed to 't-test' from 't-test_overestim_var'\n"
     ]
    },
    {
     "name": "stderr",
     "output_type": "stream",
     "text": [
      "/tmp/ipykernel_25667/1624553327.py:36: FutureWarning: X.dtype being converted to np.float32 from float64. In the next version of anndata (0.9) conversion will not be automatic. Pass dtype explicitly to avoid this warning. Pass `AnnData(X, dtype=X.dtype, ...)` to get the future behavour.\n"
     ]
    },
    {
     "name": "stdout",
     "output_type": "stream",
     "text": [
      "368\n"
     ]
    }
   ],
   "source": [
    "\n",
    "from scipy.stats import wilcoxon\n",
    "import anndata\n",
    "import scanpy as sc\n",
    "import pandas as pd\n",
    "\n",
    "CellGAT_mouse_result = []\n",
    "Connectome_mouse_result = []\n",
    "CellphoneDB_mouse_result = []\n",
    "CellChat_mouse_result = []\n",
    "B = 0\n",
    "for w in range (0,100,1):\n",
    "    B += 1 \n",
    "    expr_prop_value =  w/1000\n",
    "    matrix = pd.read_csv(\"../../data/CellGATv2_Input/Mouse/matrix.csv\",index_col=0)\n",
    "\n",
    "    matrix.index = [str(i).upper() for i in matrix.index.tolist()]\n",
    "\n",
    "    from scipy.stats import wilcoxon\n",
    "    import anndata\n",
    "    import scanpy as sc\n",
    "\n",
    "    index = matrix.index.tolist()\n",
    "\n",
    "    matrix = matrix.fillna(0)\n",
    "\n",
    "    adata = anndata.AnnData(matrix.transpose())\n",
    "\n",
    "    sc.pp.normalize_total(adata)\n",
    "    sc.pp.neighbors(adata)\n",
    "    sc.tl.leiden(adata)\n",
    "\n",
    "    meta = pd.DataFrame({\"cell\":adata.obs[\"leiden\"].index.tolist(),\"label\":adata.obs[\"leiden\"].tolist()})\n",
    "\n",
    "    meta.index = meta[\"cell\"].tolist()\n",
    "\n",
    "    adata = anndata.AnnData(matrix.transpose())\n",
    "    adata.raw = adata\n",
    "    adata.obs = meta\n",
    "    adata.obs[\"label\"] = adata.obs[\"label\"].astype(\"category\")\n",
    "    sc.tl.rank_genes_groups(adata, 'label')\n",
    "\n",
    "    cellphonedb(adata,groupby=\"label\",expr_prop=expr_prop_value)\n",
    "    cellphone_df = adata.uns[\"liana_res\"][[\"source\",\"target\",\"ligand\",\"receptor\",\"lr_means\"]].sort_values(\"lr_means\",ascending=False)\n",
    "    connectome(adata,groupby=\"label\",expr_prop=expr_prop_value)\n",
    "    connectome_df = adata.uns[\"liana_res\"][[\"source\",\"target\",\"ligand\",\"receptor\",\"expr_prod\"]].sort_values(\"expr_prod\",ascending=False)\n",
    "    cellchat(adata,groupby=\"label\",expr_prop=expr_prop_value)\n",
    "    cellchat_df = adata.uns[\"liana_res\"][[\"source\",\"target\",\"ligand\",\"receptor\",\"lr_probs\"]].sort_values(\"lr_probs\",ascending=False)\n",
    "\n",
    "\n",
    "    input_data=pd.read_csv(f\"../../data/CellGATv2_100_times/Mouse/Mouse_{w+1}_random.csv\")\n",
    "\n",
    "\n",
    "    connectome_df = connectome_df[[\"ligand\",\"receptor\",\"expr_prod\"]][[\"ligand\",\"receptor\"]]\n",
    "    cellchat_df = cellchat_df[[\"ligand\",\"receptor\",\"lr_probs\"]][[\"ligand\",\"receptor\"]]\n",
    "    cellphone_df = cellphone_df[[\"ligand\",\"receptor\",\"lr_means\"]][[\"ligand\",\"receptor\"]]\n",
    "\n",
    "    connectome_df = connectome_df.drop_duplicates([\"ligand\",\"receptor\"],keep=\"first\")\n",
    "    cellchat_df = cellchat_df.drop_duplicates([\"ligand\",\"receptor\"],keep=\"first\")\n",
    "    cellphone_df = cellphone_df.drop_duplicates([\"ligand\",\"receptor\"],keep=\"first\")\n",
    "\n",
    "\n",
    "    intercell = pd.read_csv(\"../../data/LR_database/consensus_Omnipath.csv\",index_col=0)\n",
    "    intercell.columns = [\"source\",\"target\"]\n",
    "\n",
    "    input_data=pd.merge(input_data,intercell,left_on=[\"Src\",\"Dst\"],right_on=[\"source\",\"target\"])\n",
    "    connectome_df=pd.merge(connectome_df,intercell,left_on=[\"ligand\",\"receptor\"],right_on=[\"source\",\"target\"])\n",
    "    cellchat_df=pd.merge(cellchat_df,intercell,left_on=[\"ligand\",\"receptor\"],right_on=[\"source\",\"target\"])\n",
    "    cellphone_df=pd.merge(cellphone_df,intercell,left_on=[\"ligand\",\"receptor\"],right_on=[\"source\",\"target\"])\n",
    "\n",
    "    truth = pd.read_csv(\"../../data/raw_data/Mouse/truth_interactions.csv\")[[\"Ligand\",\"Receptor\"]]\n",
    "    truth[\"Ligand\"] = [i.upper() for i in truth[\"Ligand\"].tolist()]\n",
    "    truth[\"Receptor\"] = [i.upper() for i in truth[\"Receptor\"].tolist()]\n",
    "\n",
    "\n",
    "    new_input_data=pd.merge(input_data,truth,left_on=[\"Src\",\"Dst\"],right_on=[\"Ligand\",\"Receptor\"])\n",
    "    new_connectome_df=pd.merge(connectome_df,truth,left_on=[\"ligand\",\"receptor\"],right_on=[\"Ligand\",\"Receptor\"])\n",
    "    new_cellchat_df=pd.merge(cellchat_df,truth,left_on=[\"ligand\",\"receptor\"],right_on=[\"Ligand\",\"Receptor\"])\n",
    "    new_cellphone_df=pd.merge(cellphone_df,truth,left_on=[\"ligand\",\"receptor\"],right_on=[\"Ligand\",\"Receptor\"])\n",
    "    print(input_data.shape[0])\n",
    "    input_shape = new_input_data.shape[0]/input_data.shape[0]\n",
    " \n",
    "    connectome_shape = new_connectome_df.shape[0]/connectome_df.shape[0]\n",
    "    cellchat_shape = new_cellchat_df.shape[0]/cellchat_df.shape[0]\n",
    "    cellphone_shape = new_cellphone_df.shape[0]/cellphone_df.shape[0]\n",
    "    \n",
    "    CellGAT_mouse_result.append(input_shape)\n",
    "    Connectome_mouse_result.append(connectome_shape)\n",
    "    CellphoneDB_mouse_result.append(cellchat_shape)\n",
    "    CellChat_mouse_result.append(cellphone_shape)\n",
    "\n",
    "# 将四个结果列表和对应的方法名称整合为 DataFrame\n",
    "data = {'CellGAT': CellGAT_mouse_result,\n",
    "        'Connectome': Connectome_mouse_result,\n",
    "        'CellphoneDB': CellphoneDB_mouse_result,\n",
    "        'CellChat': CellChat_mouse_result}\n",
    "\n",
    "df = pd.DataFrame(data)\n",
    "\n",
    "# 输出 DataFrame 到 CSV 文件\n",
    "df.to_csv('../../results/result_100_comparison.csv', index=False)\n",
    "\n"
   ]
  },
  {
   "cell_type": "code",
   "execution_count": 12,
   "id": "d3f702e0",
   "metadata": {},
   "outputs": [
    {
     "name": "stdout",
     "output_type": "stream",
     "text": [
      "The CellGAT_average is: 0.5353260869565228\n",
      "The Connectome_average is: 0.526778800182013\n",
      "The CellphoneDB_average is: 0.526778800182013\n",
      "The CellChat_average is: 0.526778800182013\n"
     ]
    }
   ],
   "source": [
    "# 计算平均值\n",
    "CellGAT_average = sum(CellGAT_mouse_result) / len(CellGAT_mouse_result)\n",
    "# 打印结果\n",
    "print(f\"The CellGAT_average is: {CellGAT_average}\")\n",
    "\n",
    "# 计算平均值\n",
    "Connectome_average = sum(Connectome_mouse_result) / len(Connectome_mouse_result)\n",
    "# 打印结果\n",
    "print(f\"The Connectome_average is: {Connectome_average}\")\n",
    "\n",
    "# 计算平均值\n",
    "CellphoneDB_average = sum(CellphoneDB_mouse_result) / len(CellphoneDB_mouse_result)\n",
    "# 打印结果\n",
    "print(f\"The CellphoneDB_average is: {CellphoneDB_average}\")\n",
    "\n",
    "# 计算平均值\n",
    "CellChat_average = sum(CellChat_mouse_result) / len(CellChat_mouse_result)\n",
    "# 打印结果\n",
    "print(f\"The CellChat_average is: {CellChat_average}\")\n"
   ]
  },
  {
   "cell_type": "code",
   "execution_count": 6,
   "id": "0777a6bc",
   "metadata": {},
   "outputs": [
    {
     "name": "stdout",
     "output_type": "stream",
     "text": [
      "T 检验结果（Connectome vs. CellGAT）:\n",
      "t 值: 12.749379668695038\n",
      "p 值: 1.4259668036615518e-27\n",
      "拒绝原假设，Connectome 和 CellGAT 的均值显著不同\n",
      "\n",
      "\n",
      "T 检验结果（CellphoneDB vs. CellGAT）:\n",
      "t 值: 12.749379668695038\n",
      "p 值: 1.4259668036615518e-27\n",
      "拒绝原假设，CellphoneDB 和 CellGAT 的均值显著不同\n",
      "\n",
      "\n",
      "T 检验结果（CellChat vs. CellGAT）:\n",
      "t 值: 12.749379668695038\n",
      "p 值: 1.4259668036615518e-27\n",
      "拒绝原假设，CellChat 和 CellGAT 的均值显著不同\n",
      "\n",
      "\n"
     ]
    },
    {
     "name": "stderr",
     "output_type": "stream",
     "text": [
      "/home/tjzhang01/miniconda3/envs/GraphComm/lib/python3.9/site-packages/scipy/stats/_axis_nan_policy.py:523: RuntimeWarning: Precision loss occurred in moment calculation due to catastrophic cancellation. This occurs when the data are nearly identical. Results may be unreliable.\n"
     ]
    }
   ],
   "source": [
    "from scipy.stats import ttest_ind\n",
    "\n",
    "# 所有方法的结果列表\n",
    "\n",
    "all_results = [Connectome_mouse_result, CellphoneDB_mouse_result, CellChat_mouse_result]\n",
    "\n",
    "# 所有方法的名称\n",
    "methods = ['Connectome', 'CellphoneDB', 'CellChat']\n",
    "\n",
    "# 逐个比较 CellGAT 和其他方法\n",
    "for i, method in enumerate(methods):\n",
    "    t_statistic, p_value = ttest_ind(CellGAT_mouse_result, all_results[i])\n",
    "\n",
    "    # 输出 t 检验结果\n",
    "    print(f\"T 检验结果（{method} vs. CellGAT）:\")\n",
    "    print(\"t 值:\", t_statistic)\n",
    "    print(\"p 值:\", p_value)\n",
    "\n",
    "    # 判断是否拒绝原假设\n",
    "    alpha = 0.05\n",
    "    if p_value < alpha:\n",
    "        print(f\"拒绝原假设，{method} 和 CellGAT 的均值显著不同\")\n",
    "    else:\n",
    "        print(f\"未拒绝原假设，{method} 和 CellGAT 的均值无显著差异\")\n",
    "\n",
    "    print(\"\\n\")\n"
   ]
  },
  {
   "cell_type": "markdown",
   "id": "f2d10bfb-3d32-4289-bcb6-c5d027296e2f",
   "metadata": {},
   "source": [
    "# 100 rounds of space visualization comparison"
   ]
  },
  {
   "cell_type": "code",
   "execution_count": 2,
   "id": "b44f3bd8-4d63-4e70-9f35-c81f30a824db",
   "metadata": {
    "tags": []
   },
   "outputs": [],
   "source": [
    "adata = sc.read_h5ad(\"../../data/raw_data/Cardiac_cells/Visium-FZ_GT_P19.h5ad\")\n",
    "\n",
    "meta = pd.DataFrame({\"cell\":adata.obs.index.tolist(),\"label\":adata.obs[\"cell_type_original\"].tolist()})\n",
    "meta = meta[meta[\"label\"] != \"Lymphoid\"]\n",
    "meta.index = meta[\"cell\"].tolist()\n",
    "\n",
    "adata = adata[meta.index.tolist()]\n",
    "spatial_coordinates = adata.obsm[\"X_spatial\"]\n",
    "spatial_df = pd.DataFrame({\"x\":spatial_coordinates[:,0],\"y\":spatial_coordinates[:,1]},index=meta.index.tolist())\n",
    "cell_groups = meta[\"label\"].unique().tolist()"
   ]
  },
  {
   "cell_type": "code",
   "execution_count": 3,
   "id": "af8a483f-5dff-4410-a966-cbd48c296598",
   "metadata": {
    "tags": []
   },
   "outputs": [
    {
     "name": "stderr",
     "output_type": "stream",
     "text": [
      "/home/tjzhang01/miniconda3/envs/GraphComm/lib/python3.9/site-packages/numpy/core/fromnumeric.py:3474: RuntimeWarning: Mean of empty slice.\n",
      "/home/tjzhang01/miniconda3/envs/GraphComm/lib/python3.9/site-packages/numpy/core/_methods.py:189: RuntimeWarning: invalid value encountered in double_scalars\n"
     ]
    },
    {
     "data": {
      "text/plain": [
       "[0.4669589761259052,\n",
       " 0.4591386732398775,\n",
       " 0.46415943863758,\n",
       " 0.45168834648440265,\n",
       " 0.4441976865123041,\n",
       " 0.4469610730293247,\n",
       " 0.4540584204549616,\n",
       " 0.4424331097197641,\n",
       " 0.44861644708281895,\n",
       " 0.4557249464034678]"
      ]
     },
     "execution_count": 3,
     "metadata": {},
     "output_type": "execute_result"
    }
   ],
   "source": [
    "CellGAT_list = []\n",
    "for i in range(100):\n",
    "    CellGAT_list.append(pd.read_csv(f\"../../data/CellGATv2_100_times/Cardiac_Cells/spatial_{i+1}_random.csv\",index_col=0).drop_duplicates([\"Src Cell\",\"Dst Cell\"]))\n",
    "CellGAT_spatial = []\n",
    "for i in CellGAT_list:\n",
    "    temp_input = i\n",
    "    input_spatial = []\n",
    "    for one,two in zip(temp_input[\"Src Cell\"].tolist(),temp_input[\"Dst Cell\"].tolist()):\n",
    "        cells = meta[meta[\"label\"]==one].index.tolist()\n",
    "        spatial_coords = [(i,j) for i,j in zip(spatial_df.loc[cells][\"x\"].tolist(),spatial_df.loc[cells][\"y\"].tolist())]\n",
    "        if two != one:\n",
    "            second_cells = meta[meta[\"label\"]==two].index.tolist()\n",
    "            second_spatial_coords = [(i,j) for i,j in zip(spatial_df.loc[second_cells][\"x\"].tolist(),spatial_df.loc[second_cells][\"y\"].tolist())]\n",
    "            min_list = []\n",
    "            for k in spatial_coords:\n",
    "                min_list.append(np.mean([math.dist(k,l) for l in second_spatial_coords]))\n",
    "            input_spatial.append(np.mean(min_list))\n",
    "    CellGAT_spatial.append(input_spatial)\n",
    "new_CellGAT_spatial = []\n",
    "for i in CellGAT_spatial:\n",
    "    new_CellGAT_spatial.append([min([k for k in i if not np.isnan(k)]) if np.isnan(j) else j for j in i])\n",
    "CellGAT_average = []\n",
    "for i in range(10):\n",
    "    CellGAT_average.append(np.mean([j[i] for j in new_CellGAT_spatial]))\n",
    "CellGAT_average"
   ]
  },
  {
   "cell_type": "code",
   "execution_count": 4,
   "id": "f4d9dbe3-2fcf-405c-aeb7-7b566d87d82e",
   "metadata": {
    "tags": []
   },
   "outputs": [
    {
     "data": {
      "text/plain": [
       "[0.5066372920681943,\n",
       " 0.5776458535243085,\n",
       " 0.4363176187206919,\n",
       " 0.40909236607611155,\n",
       " 0.48390933296765914,\n",
       " 0.4972730108251104,\n",
       " 0.4321258470074045,\n",
       " 0.44941151008107383,\n",
       " 0.42241081331790364,\n",
       " 0.47578512907014137]"
      ]
     },
     "execution_count": 4,
     "metadata": {},
     "output_type": "execute_result"
    }
   ],
   "source": [
    "cellphonedb_list = []\n",
    "for i in range(100):\n",
    "    cellphonedb_list.append(pd.read_csv(f\"../../results/spatial/cellphonedb/cellphonedb_{i+1}_random.csv\",index_col=0).drop_duplicates([\"source\",\"target\"]))\n",
    "\n",
    "cellphonedb_spatial = []\n",
    "for i in cellphonedb_list:\n",
    "    temp_input = i\n",
    "    input_spatial = []\n",
    "    for one,two in zip(temp_input[\"source\"].tolist(),temp_input[\"target\"].tolist()):\n",
    "        cells = meta[meta[\"label\"]==one].index.tolist()\n",
    "        spatial_coords = [(i,j) for i,j in zip(spatial_df.loc[cells][\"x\"].tolist(),spatial_df.loc[cells][\"y\"].tolist())]\n",
    "        if two != one:\n",
    "            second_cells = meta[meta[\"label\"]==two].index.tolist()\n",
    "            second_spatial_coords = [(i,j) for i,j in zip(spatial_df.loc[second_cells][\"x\"].tolist(),spatial_df.loc[second_cells][\"y\"].tolist())]\n",
    "            min_list = []\n",
    "            for k in spatial_coords:\n",
    "                min_list.append(np.mean([math.dist(k,l) for l in second_spatial_coords]))\n",
    "            input_spatial.append(np.mean(min_list))\n",
    "    cellphonedb_spatial.append(input_spatial)\n",
    "\n",
    "new_cellphonedb_spatial = []\n",
    "for i in cellphonedb_spatial:\n",
    "    new_cellphonedb_spatial.append([max([k for k in i if not np.isnan(k)]) if np.isnan(j) else j for j in i])\n",
    "    \n",
    "cellphonedb_average = []\n",
    "max_length = min(10, max(len(i) for i in new_cellphonedb_spatial))  # Adjusted for the maximum available length\n",
    "\n",
    "for i in range(max_length):\n",
    "    valid_sublists = [j for j in new_cellphonedb_spatial if len(j) > i]\n",
    "    if valid_sublists:\n",
    "        cellphonedb_average.append(np.mean([j[i] for j in valid_sublists]))\n",
    "    else:\n",
    "        # 如果没有有效的子列表，可以选择插入一个默认值，如0\n",
    "        cellphonedb_average.append(0)   \n",
    "# The top 10 in result\n",
    "cellphonedb_average"
   ]
  },
  {
   "cell_type": "code",
   "execution_count": 5,
   "id": "3ca98954-6082-4321-a2d1-6b70a06b4c80",
   "metadata": {},
   "outputs": [
    {
     "data": {
      "text/plain": [
       "[0.5066372920681943,\n",
       " 0.5776458535243085,\n",
       " 0.44399976291622767,\n",
       " 0.5099690498167601,\n",
       " 0.43363400816733433,\n",
       " 0.4481065614463783,\n",
       " 0.4849165427747641,\n",
       " 0.503707381133661,\n",
       " 0.476681979010205,\n",
       " 0.38811407361209505]"
      ]
     },
     "execution_count": 5,
     "metadata": {},
     "output_type": "execute_result"
    }
   ],
   "source": [
    "connectome_list = []\n",
    "for i in range(100):\n",
    "    connectome_list.append(pd.read_csv(f\"../../results/spatial/connectome/connectome_{i+1}_random.csv\",index_col=0).drop_duplicates([\"source\",\"target\"]))\n",
    "\n",
    "connectome_spatial = []\n",
    "for i in connectome_list:\n",
    "    temp_input = i\n",
    "    input_spatial = []\n",
    "    for one,two in zip(temp_input[\"source\"].tolist(),temp_input[\"target\"].tolist()):\n",
    "        cells = meta[meta[\"label\"]==one].index.tolist()\n",
    "        spatial_coords = [(i,j) for i,j in zip(spatial_df.loc[cells][\"x\"].tolist(),spatial_df.loc[cells][\"y\"].tolist())]\n",
    "        if two != one:\n",
    "            second_cells = meta[meta[\"label\"]==two].index.tolist()\n",
    "            second_spatial_coords = [(i,j) for i,j in zip(spatial_df.loc[second_cells][\"x\"].tolist(),spatial_df.loc[second_cells][\"y\"].tolist())]\n",
    "            min_list = []\n",
    "            for k in spatial_coords:\n",
    "                min_list.append(np.mean([math.dist(k,l) for l in second_spatial_coords]))\n",
    "            input_spatial.append(np.mean(min_list))\n",
    "    connectome_spatial.append(input_spatial)\n",
    "\n",
    "new_connectome_spatial = []\n",
    "for i in connectome_spatial:\n",
    "    new_connectome_spatial.append([max([k for k in i if not np.isnan(k)]) if np.isnan(j) else j for j in i])\n",
    "    \n",
    "connectome_average = []\n",
    "max_length = min(10, max(len(i) for i in new_connectome_spatial))  # Adjusted for the maximum available length\n",
    "\n",
    "for i in range(max_length):\n",
    "    valid_sublists = [j for j in new_connectome_spatial if len(j) > i]\n",
    "    if valid_sublists:\n",
    "        connectome_average.append(np.mean([j[i] for j in valid_sublists]))\n",
    "    else:\n",
    "        # 如果没有有效的子列表，可以选择插入一个默认值，如0\n",
    "        connectome_average.append(0)   \n",
    "# The top 10 in result\n",
    "connectome_average"
   ]
  },
  {
   "cell_type": "code",
   "execution_count": 6,
   "id": "018ef7d0-3825-4492-9168-7f4aa5d6033c",
   "metadata": {
    "tags": []
   },
   "outputs": [
    {
     "data": {
      "text/plain": [
       "[0.5795517528601996,\n",
       " 0.5080763201309404,\n",
       " 0.44304794421949767,\n",
       " 0.51040047093544,\n",
       " 0.43310672037375403,\n",
       " 0.506779233254774,\n",
       " 0.483841382415499,\n",
       " 0.47240746231848446,\n",
       " 0.49430716882269166,\n",
       " 0.3871234908348212]"
      ]
     },
     "execution_count": 6,
     "metadata": {},
     "output_type": "execute_result"
    }
   ],
   "source": [
    "cellchat_list = []\n",
    "for i in range(100):\n",
    "    cellchat_list.append(pd.read_csv(f\"../../results/spatial/cellchat/cellchat_{i+1}_random.csv\",index_col=0).drop_duplicates([\"source\",\"target\"]))\n",
    "\n",
    "cellchat_spatial = []\n",
    "for i in cellchat_list:\n",
    "    temp_input = i\n",
    "    input_spatial = []\n",
    "    for one,two in zip(temp_input[\"source\"].tolist(),temp_input[\"target\"].tolist()):\n",
    "        cells = meta[meta[\"label\"]==one].index.tolist()\n",
    "        spatial_coords = [(i,j) for i,j in zip(spatial_df.loc[cells][\"x\"].tolist(),spatial_df.loc[cells][\"y\"].tolist())]\n",
    "        if two != one:\n",
    "            second_cells = meta[meta[\"label\"]==two].index.tolist()\n",
    "            second_spatial_coords = [(i,j) for i,j in zip(spatial_df.loc[second_cells][\"x\"].tolist(),spatial_df.loc[second_cells][\"y\"].tolist())]\n",
    "            min_list = []\n",
    "            for k in spatial_coords:\n",
    "                min_list.append(np.mean([math.dist(k,l) for l in second_spatial_coords]))\n",
    "            input_spatial.append(np.mean(min_list))\n",
    "    cellchat_spatial.append(input_spatial)\n",
    "\n",
    "new_cellchat_spatial = []\n",
    "for i in cellchat_spatial:\n",
    "    new_cellchat_spatial.append([max([k for k in i if not np.isnan(k)]) if np.isnan(j) else j for j in i])\n",
    "    \n",
    "cellchat_average = []\n",
    "max_length = min(10, max(len(i) for i in new_cellchat_spatial))  # Adjusted for the maximum available length\n",
    "\n",
    "for i in range(max_length):\n",
    "    valid_sublists = [j for j in new_cellchat_spatial if len(j) > i]\n",
    "    if valid_sublists:\n",
    "        cellchat_average.append(np.mean([j[i] for j in valid_sublists]))\n",
    "    else:\n",
    "        # 如果没有有效的子列表，可以选择插入一个默认值，如0\n",
    "        cellchat_average.append(0)   \n",
    "# The top 10 in result\n",
    "cellchat_average"
   ]
  },
  {
   "cell_type": "code",
   "execution_count": 23,
   "id": "1c8b2d48-b7b3-4c6d-83ad-8979045fd814",
   "metadata": {
    "tags": []
   },
   "outputs": [],
   "source": [
    "CellGAT = pd.DataFrame([CellGAT_average]).T\n",
    "CellGAT.columns = [\"CellGAT\"]\n",
    "\n",
    "Connectome = pd.DataFrame([connectome_average]).T\n",
    "Connectome.columns = [\"Connectome\"]\n",
    "\n",
    "CellChat = pd.DataFrame([cellchat_average]).T\n",
    "cellchat.columns = [\"CellChat\"]\n",
    "\n",
    "CellphoneDB = pd.DataFrame([cellphonedb_average]).T\n",
    "CellphoneDB.columns = [\"CellphoneDB\"]\n",
    "\n",
    "\n",
    "df_list = [Connectome, CellChat, CellphoneDB, CellGAT]"
   ]
  },
  {
   "cell_type": "code",
   "execution_count": 32,
   "id": "4c356d6e-1555-4a69-954a-c15aadf1e9ec",
   "metadata": {
    "tags": []
   },
   "outputs": [],
   "source": [
    "CellGAT = pd.DataFrame([CellGAT_average]).T\n",
    "CellGAT.columns = [\"CellGAT\"]\n",
    "\n",
    "Connectome = pd.DataFrame([connectome_average]).T\n",
    "Connectome.columns = [\"Connectome\"]\n",
    "\n",
    "CellChat = pd.DataFrame([cellchat_average]).T\n",
    "CellChat.columns = [\"CellChat\"]\n",
    "\n",
    "CellphoneDB = pd.DataFrame([cellphonedb_average]).T\n",
    "CellphoneDB.columns = [\"CellphoneDB\"]\n",
    "\n",
    "\n",
    "df_list = [Connectome, CellChat, CellphoneDB, CellGAT]\n",
    "\n",
    "x = [connectome_average, cellchat_average, cellphonedb_average,CellGAT_average]\n",
    "comparison_labels = ['Connectome',\"CellChat\",\"CellphoneDB\",\"CellGAT\"]\n",
    "df = pd.DataFrame(x, index=comparison_labels)"
   ]
  },
  {
   "cell_type": "code",
   "execution_count": 33,
   "id": "fbe9878b-2c22-44dd-889e-571be88e721c",
   "metadata": {
    "tags": []
   },
   "outputs": [
    {
     "data": {
      "text/html": [
       "<div>\n",
       "<style scoped>\n",
       "    .dataframe tbody tr th:only-of-type {\n",
       "        vertical-align: middle;\n",
       "    }\n",
       "\n",
       "    .dataframe tbody tr th {\n",
       "        vertical-align: top;\n",
       "    }\n",
       "\n",
       "    .dataframe thead th {\n",
       "        text-align: right;\n",
       "    }\n",
       "</style>\n",
       "<table border=\"1\" class=\"dataframe\">\n",
       "  <thead>\n",
       "    <tr style=\"text-align: right;\">\n",
       "      <th></th>\n",
       "      <th>0</th>\n",
       "      <th>1</th>\n",
       "      <th>2</th>\n",
       "      <th>3</th>\n",
       "      <th>4</th>\n",
       "      <th>5</th>\n",
       "      <th>6</th>\n",
       "      <th>7</th>\n",
       "      <th>8</th>\n",
       "      <th>9</th>\n",
       "    </tr>\n",
       "  </thead>\n",
       "  <tbody>\n",
       "    <tr>\n",
       "      <th>Connectome</th>\n",
       "      <td>0.506637</td>\n",
       "      <td>0.577646</td>\n",
       "      <td>0.444000</td>\n",
       "      <td>0.509969</td>\n",
       "      <td>0.433634</td>\n",
       "      <td>0.448107</td>\n",
       "      <td>0.484917</td>\n",
       "      <td>0.503707</td>\n",
       "      <td>0.476682</td>\n",
       "      <td>0.388114</td>\n",
       "    </tr>\n",
       "    <tr>\n",
       "      <th>CellChat</th>\n",
       "      <td>0.579552</td>\n",
       "      <td>0.508076</td>\n",
       "      <td>0.443048</td>\n",
       "      <td>0.510400</td>\n",
       "      <td>0.433107</td>\n",
       "      <td>0.506779</td>\n",
       "      <td>0.483841</td>\n",
       "      <td>0.472407</td>\n",
       "      <td>0.494307</td>\n",
       "      <td>0.387123</td>\n",
       "    </tr>\n",
       "    <tr>\n",
       "      <th>CellphoneDB</th>\n",
       "      <td>0.506637</td>\n",
       "      <td>0.577646</td>\n",
       "      <td>0.436318</td>\n",
       "      <td>0.409092</td>\n",
       "      <td>0.483909</td>\n",
       "      <td>0.497273</td>\n",
       "      <td>0.432126</td>\n",
       "      <td>0.449412</td>\n",
       "      <td>0.422411</td>\n",
       "      <td>0.475785</td>\n",
       "    </tr>\n",
       "    <tr>\n",
       "      <th>CellGAT</th>\n",
       "      <td>0.466959</td>\n",
       "      <td>0.459139</td>\n",
       "      <td>0.464159</td>\n",
       "      <td>0.451688</td>\n",
       "      <td>0.444198</td>\n",
       "      <td>0.446961</td>\n",
       "      <td>0.454058</td>\n",
       "      <td>0.442433</td>\n",
       "      <td>0.448616</td>\n",
       "      <td>0.455725</td>\n",
       "    </tr>\n",
       "  </tbody>\n",
       "</table>\n",
       "</div>"
      ],
      "text/plain": [
       "                    0         1         2         3         4         5  \\\n",
       "Connectome   0.506637  0.577646  0.444000  0.509969  0.433634  0.448107   \n",
       "CellChat     0.579552  0.508076  0.443048  0.510400  0.433107  0.506779   \n",
       "CellphoneDB  0.506637  0.577646  0.436318  0.409092  0.483909  0.497273   \n",
       "CellGAT      0.466959  0.459139  0.464159  0.451688  0.444198  0.446961   \n",
       "\n",
       "                    6         7         8         9  \n",
       "Connectome   0.484917  0.503707  0.476682  0.388114  \n",
       "CellChat     0.483841  0.472407  0.494307  0.387123  \n",
       "CellphoneDB  0.432126  0.449412  0.422411  0.475785  \n",
       "CellGAT      0.454058  0.442433  0.448616  0.455725  "
      ]
     },
     "execution_count": 33,
     "metadata": {},
     "output_type": "execute_result"
    }
   ],
   "source": [
    "df"
   ]
  },
  {
   "cell_type": "code",
   "execution_count": 34,
   "id": "acc4c838-67de-4ab0-8dc6-d0bbb0008789",
   "metadata": {
    "tags": []
   },
   "outputs": [
    {
     "data": {
      "text/plain": [
       "Connectome     0.477341\n",
       "CellChat       0.481864\n",
       "CellphoneDB    0.469061\n",
       "CellGAT        0.453394\n",
       "dtype: float64"
      ]
     },
     "execution_count": 34,
     "metadata": {},
     "output_type": "execute_result"
    }
   ],
   "source": [
    "df.mean(axis=1)"
   ]
  },
  {
   "cell_type": "code",
   "execution_count": 35,
   "id": "fc260e70-9539-4c45-aee4-7f20a524e984",
   "metadata": {
    "tags": []
   },
   "outputs": [
    {
     "data": {
      "text/plain": [
       "Connectome     0.002731\n",
       "CellChat       0.002753\n",
       "CellphoneDB    0.002540\n",
       "CellGAT        0.000068\n",
       "dtype: float64"
      ]
     },
     "execution_count": 35,
     "metadata": {},
     "output_type": "execute_result"
    }
   ],
   "source": [
    "df.var(axis=1)"
   ]
  },
  {
   "cell_type": "code",
   "execution_count": 36,
   "id": "17b09f00-adc9-4a30-a841-338b07a495a3",
   "metadata": {
    "tags": []
   },
   "outputs": [],
   "source": [
    "colors = ['#0000ff', '#3300cc', '#660099', '#990066']"
   ]
  },
  {
   "cell_type": "code",
   "execution_count": 54,
   "id": "28bf50d5-9b18-47df-8da1-b80b25bfadad",
   "metadata": {
    "tags": []
   },
   "outputs": [
    {
     "name": "stderr",
     "output_type": "stream",
     "text": [
      "findfont: Font family 'Arial' not found.\n",
      "findfont: Font family 'Arial' not found.\n",
      "findfont: Font family 'Arial' not found.\n",
      "findfont: Font family 'Arial' not found.\n",
      "findfont: Font family 'Arial' not found.\n",
      "findfont: Font family 'Arial' not found.\n",
      "findfont: Font family 'Arial' not found.\n",
      "findfont: Font family 'Arial' not found.\n",
      "findfont: Font family 'Arial' not found.\n",
      "findfont: Font family 'Arial' not found.\n",
      "findfont: Font family 'Arial' not found.\n",
      "findfont: Font family 'Arial' not found.\n",
      "findfont: Font family 'Arial' not found.\n",
      "findfont: Font family 'Arial' not found.\n",
      "findfont: Font family 'Arial' not found.\n",
      "findfont: Font family 'Arial' not found.\n",
      "findfont: Font family 'Arial' not found.\n",
      "findfont: Font family 'Arial' not found.\n",
      "findfont: Font family 'Arial' not found.\n",
      "findfont: Font family 'Arial' not found.\n",
      "findfont: Font family 'Arial' not found.\n",
      "findfont: Font family 'Arial' not found.\n",
      "findfont: Font family 'Arial' not found.\n",
      "findfont: Font family 'Arial' not found.\n",
      "findfont: Font family 'Arial' not found.\n",
      "findfont: Font family 'Arial' not found.\n",
      "findfont: Font family 'Arial' not found.\n",
      "findfont: Font family 'Arial' not found.\n",
      "findfont: Font family 'Arial' not found.\n",
      "findfont: Font family 'Arial' not found.\n",
      "findfont: Font family 'Arial' not found.\n",
      "findfont: Font family 'Arial' not found.\n",
      "findfont: Font family 'Arial' not found.\n",
      "findfont: Font family 'Arial' not found.\n",
      "findfont: Font family 'Arial' not found.\n",
      "findfont: Font family 'Arial' not found.\n",
      "findfont: Font family 'Arial' not found.\n",
      "findfont: Font family 'Arial' not found.\n",
      "findfont: Font family 'Arial' not found.\n",
      "findfont: Font family 'Arial' not found.\n",
      "findfont: Font family 'Arial' not found.\n",
      "findfont: Font family 'Arial' not found.\n",
      "findfont: Font family 'Arial' not found.\n",
      "findfont: Font family 'Arial' not found.\n",
      "findfont: Font family 'Arial' not found.\n",
      "findfont: Font family 'Arial' not found.\n",
      "findfont: Font family 'Arial' not found.\n",
      "findfont: Font family 'Arial' not found.\n",
      "findfont: Font family 'Arial' not found.\n",
      "findfont: Font family 'Arial' not found.\n",
      "findfont: Font family 'Arial' not found.\n",
      "findfont: Font family 'Arial' not found.\n",
      "findfont: Font family 'Arial' not found.\n",
      "findfont: Font family 'Arial' not found.\n",
      "findfont: Font family 'Arial' not found.\n",
      "findfont: Font family 'Arial' not found.\n",
      "findfont: Font family 'Arial' not found.\n",
      "findfont: Font family 'Arial' not found.\n",
      "findfont: Font family 'Arial' not found.\n",
      "findfont: Font family 'Arial' not found.\n",
      "findfont: Font family 'Arial' not found.\n",
      "findfont: Font family 'Arial' not found.\n",
      "findfont: Font family 'Arial' not found.\n",
      "findfont: Font family 'Arial' not found.\n",
      "findfont: Font family 'Arial' not found.\n",
      "findfont: Font family 'Arial' not found.\n",
      "findfont: Font family 'Arial' not found.\n",
      "findfont: Font family 'Arial' not found.\n",
      "findfont: Font family 'Arial' not found.\n",
      "findfont: Font family 'Arial' not found.\n",
      "findfont: Font family 'Arial' not found.\n",
      "findfont: Font family 'Arial' not found.\n",
      "findfont: Font family 'Arial' not found.\n",
      "findfont: Font family 'Arial' not found.\n",
      "findfont: Font family 'Arial' not found.\n",
      "findfont: Font family 'Arial' not found.\n",
      "findfont: Font family 'Arial' not found.\n",
      "findfont: Font family 'Arial' not found.\n",
      "findfont: Font family 'Arial' not found.\n",
      "findfont: Font family 'Arial' not found.\n",
      "findfont: Font family 'Arial' not found.\n",
      "findfont: Font family 'Arial' not found.\n",
      "findfont: Font family 'Arial' not found.\n",
      "findfont: Font family 'Arial' not found.\n",
      "findfont: Font family 'Arial' not found.\n",
      "findfont: Font family 'Arial' not found.\n",
      "findfont: Font family 'Arial' not found.\n",
      "findfont: Font family 'Arial' not found.\n",
      "findfont: Font family 'Arial' not found.\n",
      "findfont: Font family 'Arial' not found.\n",
      "findfont: Font family 'Arial' not found.\n",
      "findfont: Font family 'Arial' not found.\n",
      "findfont: Font family 'Arial' not found.\n",
      "findfont: Font family 'Arial' not found.\n",
      "findfont: Font family 'Arial' not found.\n",
      "findfont: Font family 'Arial' not found.\n",
      "findfont: Font family 'Arial' not found.\n",
      "findfont: Font family 'Arial' not found.\n",
      "findfont: Font family 'Arial' not found.\n",
      "findfont: Font family 'Arial' not found.\n",
      "findfont: Font family 'Arial' not found.\n",
      "findfont: Font family 'Arial' not found.\n",
      "findfont: Font family 'Arial' not found.\n",
      "findfont: Font family 'Arial' not found.\n",
      "findfont: Font family 'Arial' not found.\n",
      "findfont: Font family 'Arial' not found.\n",
      "findfont: Font family 'Arial' not found.\n",
      "findfont: Font family 'Arial' not found.\n",
      "findfont: Font family 'Arial' not found.\n",
      "findfont: Font family 'Arial' not found.\n",
      "findfont: Font family 'Arial' not found.\n",
      "findfont: Font family 'Arial' not found.\n",
      "findfont: Font family 'Arial' not found.\n",
      "findfont: Font family 'Arial' not found.\n",
      "findfont: Font family 'Arial' not found.\n",
      "findfont: Font family 'Arial' not found.\n",
      "findfont: Font family 'Arial' not found.\n",
      "findfont: Font family 'Arial' not found.\n",
      "findfont: Font family 'Arial' not found.\n",
      "findfont: Font family 'Arial' not found.\n",
      "findfont: Font family 'Arial' not found.\n",
      "findfont: Font family 'Arial' not found.\n",
      "findfont: Font family 'Arial' not found.\n",
      "findfont: Font family 'Arial' not found.\n",
      "findfont: Font family 'Arial' not found.\n",
      "findfont: Font family 'Arial' not found.\n",
      "findfont: Font family 'Arial' not found.\n",
      "findfont: Font family 'Arial' not found.\n",
      "findfont: Font family 'Arial' not found.\n",
      "findfont: Font family 'Arial' not found.\n",
      "findfont: Font family 'Arial' not found.\n",
      "findfont: Font family 'Arial' not found.\n",
      "findfont: Font family 'Arial' not found.\n",
      "findfont: Font family 'Arial' not found.\n",
      "findfont: Font family 'Arial' not found.\n",
      "findfont: Font family 'Arial' not found.\n",
      "findfont: Font family 'Arial' not found.\n",
      "findfont: Font family 'Arial' not found.\n",
      "findfont: Font family 'Arial' not found.\n",
      "findfont: Font family 'Arial' not found.\n",
      "findfont: Font family 'Arial' not found.\n",
      "findfont: Font family 'Arial' not found.\n",
      "findfont: Font family 'Arial' not found.\n",
      "findfont: Font family 'Arial' not found.\n",
      "findfont: Font family 'Arial' not found.\n",
      "findfont: Font family 'Arial' not found.\n",
      "findfont: Font family 'Arial' not found.\n",
      "findfont: Font family 'Arial' not found.\n",
      "findfont: Font family 'Arial' not found.\n",
      "findfont: Font family 'Arial' not found.\n",
      "findfont: Font family 'Arial' not found.\n",
      "findfont: Font family 'Arial' not found.\n",
      "findfont: Font family 'Arial' not found.\n",
      "findfont: Font family 'Arial' not found.\n",
      "findfont: Font family 'Arial' not found.\n",
      "findfont: Font family 'Arial' not found.\n",
      "findfont: Font family 'Arial' not found.\n",
      "findfont: Font family 'Arial' not found.\n",
      "findfont: Font family 'Arial' not found.\n",
      "findfont: Font family 'Arial' not found.\n",
      "findfont: Font family 'Arial' not found.\n",
      "findfont: Font family 'Arial' not found.\n",
      "findfont: Font family 'Arial' not found.\n",
      "findfont: Font family 'Arial' not found.\n",
      "findfont: Font family 'Arial' not found.\n",
      "findfont: Font family 'Arial' not found.\n",
      "findfont: Font family 'Arial' not found.\n",
      "findfont: Font family 'Arial' not found.\n",
      "findfont: Font family 'Arial' not found.\n",
      "findfont: Font family 'Arial' not found.\n",
      "findfont: Font family 'Arial' not found.\n",
      "findfont: Font family 'Arial' not found.\n",
      "findfont: Font family 'Arial' not found.\n",
      "findfont: Font family 'Arial' not found.\n",
      "findfont: Font family 'Arial' not found.\n",
      "findfont: Font family 'Arial' not found.\n",
      "findfont: Font family 'Arial' not found.\n",
      "findfont: Font family 'Arial' not found.\n",
      "findfont: Font family 'Arial' not found.\n",
      "findfont: Font family 'Arial' not found.\n",
      "findfont: Font family 'Arial' not found.\n",
      "findfont: Font family 'Arial' not found.\n",
      "findfont: Font family 'Arial' not found.\n",
      "findfont: Font family 'Arial' not found.\n",
      "findfont: Font family 'Arial' not found.\n",
      "findfont: Font family 'Arial' not found.\n",
      "findfont: Font family 'Arial' not found.\n",
      "findfont: Font family 'Arial' not found.\n",
      "findfont: Font family 'Arial' not found.\n",
      "findfont: Font family 'Arial' not found.\n",
      "findfont: Font family 'Arial' not found.\n",
      "findfont: Font family 'Arial' not found.\n",
      "findfont: Font family 'Arial' not found.\n",
      "findfont: Font family 'Arial' not found.\n",
      "findfont: Font family 'Arial' not found.\n",
      "findfont: Font family 'Arial' not found.\n",
      "findfont: Font family 'Arial' not found.\n",
      "findfont: Font family 'Arial' not found.\n",
      "findfont: Font family 'Arial' not found.\n",
      "findfont: Font family 'Arial' not found.\n",
      "findfont: Font family 'Arial' not found.\n",
      "findfont: Font family 'Arial' not found.\n",
      "findfont: Font family 'Arial' not found.\n",
      "findfont: Font family 'Arial' not found.\n",
      "findfont: Font family 'Arial' not found.\n",
      "findfont: Font family 'Arial' not found.\n",
      "findfont: Font family 'Arial' not found.\n",
      "findfont: Font family 'Arial' not found.\n",
      "findfont: Font family 'Arial' not found.\n",
      "findfont: Font family 'Arial' not found.\n",
      "findfont: Font family 'Arial' not found.\n",
      "findfont: Font family 'Arial' not found.\n",
      "findfont: Font family 'Arial' not found.\n",
      "findfont: Font family 'Arial' not found.\n",
      "findfont: Font family 'Arial' not found.\n",
      "findfont: Font family 'Arial' not found.\n",
      "findfont: Font family 'Arial' not found.\n",
      "findfont: Font family 'Arial' not found.\n",
      "findfont: Font family 'Arial' not found.\n",
      "findfont: Font family 'Arial' not found.\n",
      "findfont: Font family 'Arial' not found.\n",
      "findfont: Font family 'Arial' not found.\n",
      "findfont: Font family 'Arial' not found.\n",
      "findfont: Font family 'Arial' not found.\n",
      "findfont: Font family 'Arial' not found.\n",
      "findfont: Font family 'Arial' not found.\n",
      "findfont: Font family 'Arial' not found.\n",
      "findfont: Font family 'Arial' not found.\n",
      "findfont: Font family 'Arial' not found.\n",
      "findfont: Font family 'Arial' not found.\n",
      "findfont: Font family 'Arial' not found.\n",
      "findfont: Font family 'Arial' not found.\n",
      "findfont: Font family 'Arial' not found.\n",
      "findfont: Font family 'Arial' not found.\n",
      "findfont: Font family 'Arial' not found.\n",
      "findfont: Font family 'Arial' not found.\n",
      "findfont: Font family 'Arial' not found.\n",
      "findfont: Font family 'Arial' not found.\n",
      "findfont: Font family 'Arial' not found.\n",
      "findfont: Font family 'Arial' not found.\n",
      "findfont: Font family 'Arial' not found.\n",
      "findfont: Font family 'Arial' not found.\n",
      "findfont: Font family 'Arial' not found.\n",
      "findfont: Font family 'Arial' not found.\n",
      "findfont: Font family 'Arial' not found.\n",
      "findfont: Font family 'Arial' not found.\n",
      "findfont: Font family 'Arial' not found.\n",
      "findfont: Font family 'Arial' not found.\n",
      "findfont: Font family 'Arial' not found.\n",
      "findfont: Font family 'Arial' not found.\n",
      "findfont: Font family 'Arial' not found.\n",
      "findfont: Font family 'Arial' not found.\n",
      "findfont: Font family 'Arial' not found.\n",
      "findfont: Font family 'Arial' not found.\n",
      "findfont: Font family 'Arial' not found.\n",
      "findfont: Font family 'Arial' not found.\n",
      "findfont: Font family 'Arial' not found.\n",
      "findfont: Font family 'Arial' not found.\n",
      "findfont: Font family 'Arial' not found.\n",
      "findfont: Font family 'Arial' not found.\n",
      "findfont: Font family 'Arial' not found.\n",
      "findfont: Font family 'Arial' not found.\n",
      "findfont: Font family 'Arial' not found.\n",
      "findfont: Font family 'Arial' not found.\n",
      "findfont: Font family 'Arial' not found.\n",
      "findfont: Font family 'Arial' not found.\n",
      "findfont: Font family 'Arial' not found.\n",
      "findfont: Font family 'Arial' not found.\n",
      "findfont: Font family 'Arial' not found.\n",
      "findfont: Font family 'Arial' not found.\n",
      "findfont: Font family 'Arial' not found.\n",
      "findfont: Font family 'Arial' not found.\n",
      "findfont: Font family 'Arial' not found.\n",
      "findfont: Font family 'Arial' not found.\n",
      "findfont: Font family 'Arial' not found.\n",
      "findfont: Font family 'Arial' not found.\n",
      "findfont: Font family 'Arial' not found.\n",
      "findfont: Font family 'Arial' not found.\n",
      "findfont: Font family 'Arial' not found.\n",
      "findfont: Font family 'Arial' not found.\n",
      "findfont: Font family 'Arial' not found.\n",
      "findfont: Font family 'Arial' not found.\n",
      "findfont: Font family 'Arial' not found.\n",
      "findfont: Font family 'Arial' not found.\n",
      "findfont: Font family 'Arial' not found.\n",
      "findfont: Font family 'Arial' not found.\n",
      "findfont: Font family 'Arial' not found.\n",
      "findfont: Font family 'Arial' not found.\n",
      "findfont: Font family 'Arial' not found.\n",
      "findfont: Font family 'Arial' not found.\n",
      "findfont: Font family 'Arial' not found.\n",
      "findfont: Font family 'Arial' not found.\n",
      "findfont: Font family 'Arial' not found.\n",
      "findfont: Font family 'Arial' not found.\n",
      "findfont: Font family 'Arial' not found.\n",
      "findfont: Font family 'Arial' not found.\n",
      "findfont: Font family 'Arial' not found.\n",
      "findfont: Font family 'Arial' not found.\n",
      "findfont: Font family 'Arial' not found.\n",
      "findfont: Font family 'Arial' not found.\n",
      "findfont: Font family 'Arial' not found.\n",
      "findfont: Font family 'Arial' not found.\n",
      "findfont: Font family 'Arial' not found.\n",
      "findfont: Font family 'Arial' not found.\n",
      "findfont: Font family 'Arial' not found.\n",
      "findfont: Font family 'Arial' not found.\n",
      "findfont: Font family 'Arial' not found.\n",
      "findfont: Font family 'Arial' not found.\n",
      "findfont: Font family 'Arial' not found.\n",
      "findfont: Font family 'Arial' not found.\n",
      "findfont: Font family 'Arial' not found.\n",
      "findfont: Font family 'Arial' not found.\n",
      "findfont: Font family 'Arial' not found.\n",
      "findfont: Font family 'Arial' not found.\n",
      "findfont: Font family 'Arial' not found.\n",
      "findfont: Font family 'Arial' not found.\n",
      "findfont: Font family 'Arial' not found.\n",
      "findfont: Font family 'Arial' not found.\n",
      "findfont: Font family 'Arial' not found.\n",
      "findfont: Font family 'Arial' not found.\n",
      "findfont: Font family 'Arial' not found.\n",
      "findfont: Font family 'Arial' not found.\n",
      "findfont: Font family 'Arial' not found.\n",
      "findfont: Font family 'Arial' not found.\n",
      "findfont: Font family 'Arial' not found.\n",
      "findfont: Font family 'Arial' not found.\n",
      "findfont: Font family 'Arial' not found.\n",
      "findfont: Font family 'Arial' not found.\n",
      "findfont: Font family 'Arial' not found.\n",
      "findfont: Font family 'Arial' not found.\n",
      "findfont: Font family 'Arial' not found.\n",
      "findfont: Font family 'Arial' not found.\n",
      "findfont: Font family 'Arial' not found.\n",
      "findfont: Font family 'Arial' not found.\n",
      "findfont: Font family 'Arial' not found.\n",
      "findfont: Font family 'Arial' not found.\n",
      "findfont: Font family 'Arial' not found.\n",
      "findfont: Font family 'Arial' not found.\n",
      "findfont: Font family 'Arial' not found.\n",
      "findfont: Font family 'Arial' not found.\n",
      "findfont: Font family 'Arial' not found.\n",
      "findfont: Font family 'Arial' not found.\n",
      "findfont: Font family 'Arial' not found.\n",
      "findfont: Font family 'Arial' not found.\n",
      "findfont: Font family 'Arial' not found.\n",
      "findfont: Font family 'Arial' not found.\n",
      "findfont: Font family 'Arial' not found.\n"
     ]
    },
    {
     "data": {
      "image/png": "[encoded data removed]",
      "text/plain": [
       "<Figure size 800x800 with 4 Axes>"
      ]
     },
     "metadata": {},
     "output_type": "display_data"
    }
   ],
   "source": [
    "import matplotlib.pyplot as plt\n",
    "import matplotlib.gridspec as grid_spec\n",
    "from matplotlib.font_manager import FontProperties\n",
    "\n",
    "# 创建GridSpec对象\n",
    "gs = (grid_spec.GridSpec(len(comparison_labels), 1))\n",
    "\n",
    "fig = plt.figure(figsize=(8, 8))\n",
    "\n",
    "i = 0\n",
    "ax_objs = []\n",
    "\n",
    "for df, label in zip(df_list, comparison_labels):\n",
    "    ax_objs.append(fig.add_subplot(gs[i:i + 1, 0:]))\n",
    "    plot = df.plot.kde(ax=ax_objs[-1], color=colors[i], lw=1, ind=10)\n",
    "    x = plot.get_children()[0]._x\n",
    "    y = plot.get_children()[0]._y\n",
    "    plot.legend()\n",
    "    ax_objs[-1].fill_between(x, y, color=colors[i])\n",
    "    ax_objs[-1].set_xlim(0, 1)\n",
    "    i += 1\n",
    "\n",
    "# 设置纵轴标签字体\n",
    "font = FontProperties()\n",
    "font.set_family('Arial')\n",
    "font.set_weight('bold')\n",
    "for ax in ax_objs:\n",
    "    ax.set_ylabel('Density', fontsize=14, fontproperties=font)\n",
    "\n",
    "plt.annotate('', xy=(0, -0.3), xycoords='axes fraction', xytext=(1, -0.3),\n",
    "             arrowprops=dict(arrowstyle=\"<->\"))\n",
    "plt.text(0.1, -35, 'Cell groups spatially\\ncloser/CCC more\\nprobable', ha=\"center\")\n",
    "plt.text(0.9, -35, 'Cell groups spatially\\nfarther/CCC less\\nprobable', ha=\"center\")\n",
    "\n",
    "# 保存为图片\n",
    "plt.tight_layout()\n",
    "plt.savefig('../../results/Cardiac_100_compare.png', dpi=300)\n",
    "plt.show()\n"
   ]
  },
  {
   "cell_type": "code",
   "execution_count": null,
   "id": "bce978b5-6a37-4c4e-b144-245f728b4f6a",
   "metadata": {},
   "outputs": [],
   "source": []
  }
 ],
 "metadata": {
  "kernelspec": {
   "display_name": "GraphComm",
   "language": "python",
   "name": "graphcomm"
  },
  "language_info": {
   "codemirror_mode": {
    "name": "ipython",
    "version": 3
   },
   "file_extension": ".py",
   "mimetype": "text/x-python",
   "name": "python",
   "nbconvert_exporter": "python",
   "pygments_lexer": "ipython3",
   "version": "3.9.18"
  }
 },
 "nbformat": 4,
 "nbformat_minor": 5
}

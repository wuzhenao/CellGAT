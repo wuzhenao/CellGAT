{
 "cells": [
  {
   "cell_type": "code",
   "execution_count": 1,
   "id": "9e51bff7",
   "metadata": {
    "tags": []
   },
   "outputs": [],
   "source": [
    "import liana \n",
    "import anndata\n",
    "import pandas as pd\n",
    "import matplotlib.pyplot as plt\n",
    "from scipy.stats import wilcoxon\n",
    "import anndata\n",
    "import scanpy as sc\n",
    "from liana.mt import rank_aggregate\n",
    "from liana.mt import singlecellsignalr, connectome, cellphonedb, natmi, logfc, cellchat, geometric_mean"
   ]
  },
  {
   "cell_type": "markdown",
   "id": "febde582",
   "metadata": {},
   "source": [
    "# Data PreProcessing"
   ]
  },
  {
   "cell_type": "markdown",
   "id": "9a7eb04d-faf4-4f51-a044-0740c4cf39c2",
   "metadata": {},
   "source": [
    "## Dataset 1 - Compare Hippo pathway coverage in *Drosophila* embryo dataset from CellGATv2 compared to other CCC methods"
   ]
  },
  {
   "cell_type": "markdown",
   "id": "c69a255e-f30f-47d2-9308-3dde4dbe2843",
   "metadata": {},
   "source": [
    "### load dataset"
   ]
  },
  {
   "cell_type": "code",
   "execution_count": 2,
   "id": "250579ef-e308-4351-934c-8a9939fe5f9d",
   "metadata": {
    "tags": []
   },
   "outputs": [],
   "source": [
    "#matrix = pd.read_csv(\"../data/GSE95025/GSM2494785_dge_mel_rep3.txt\",sep=\"\\t\")\n",
    "matrix_list = []\n",
    "common_genes = []\n",
    "for i,j in zip(range(3,8),range(5,10)):\n",
    "    matrix_list.append(pd.read_csv(f\"../../data/raw_data/Drosophila/GSM249478{j}_dge_mel_rep{i}.txt\",sep=\"\\t\",index_col=0))\n",
    "    if not common_genes:\n",
    "        common_genes = pd.read_csv(f\"../../data/raw_data/Drosophila/GSM249478{j}_dge_mel_rep{i}.txt\",sep=\"\\t\",index_col=0).index.tolist()\n",
    "    else:\n",
    "        common_genes = list(set(common_genes) & set(pd.read_csv(f\"../../data/raw_data/Drosophila/GSM249478{j}_dge_mel_rep{i}.txt\",sep=\"\\t\",index_col=0).index.tolist()))\n",
    "        #matrix_list = [i.loc[common_genes] for i in matrix_list]\n",
    "matrix = pd.concat(matrix_list)\n",
    "matrix = matrix.loc[common_genes]\n",
    "matrix = matrix[~matrix.index.duplicated(keep='first')]\n",
    "matrix.index = [str(i).upper() for i in matrix.index.tolist()]\n",
    "matrix = matrix[~matrix.index.duplicated(keep='first')]\n",
    "matrix = matrix.fillna(0)\n",
    "matrix = matrix.loc[:, (matrix != 0).any(axis=0)]\n"
   ]
  },
  {
   "cell_type": "code",
   "execution_count": 3,
   "id": "133da380-32a7-4c1f-88f5-1cd29fa4c708",
   "metadata": {
    "tags": []
   },
   "outputs": [
    {
     "name": "stderr",
     "output_type": "stream",
     "text": [
      "/tmp/ipykernel_16128/2399961009.py:1: FutureWarning: X.dtype being converted to np.float32 from float64. In the next version of anndata (0.9) conversion will not be automatic. Pass dtype explicitly to avoid this warning. Pass `AnnData(X, dtype=X.dtype, ...)` to get the future behavour.\n"
     ]
    }
   ],
   "source": [
    "adata = anndata.AnnData(matrix.transpose())\n",
    "sc.pp.normalize_total(adata)\n",
    "sc.pp.log1p(adata)\n",
    "sc.tl.pca(adata)\n",
    "sc.pp.neighbors(adata)\n",
    "sc.tl.leiden(adata)\n",
    "meta = pd.DataFrame({\"cell\":adata.obs[\"leiden\"].index.tolist(),\"label\":adata.obs[\"leiden\"].tolist()})\n",
    "adata.obs = meta\n",
    "adata.raw = adata\n",
    "adata.obs[\"label\"] = adata.obs[\"label\"].astype(\"category\")"
   ]
  },
  {
   "cell_type": "markdown",
   "id": "59270b5a-f5de-468d-9d7f-96d7c0186a91",
   "metadata": {},
   "source": [
    "### run CCC methods Conncetome, CellPhoneDB and CellChat. extract the results"
   ]
  },
  {
   "cell_type": "code",
   "execution_count": 4,
   "id": "39c957fd",
   "metadata": {
    "tags": []
   },
   "outputs": [
    {
     "name": "stderr",
     "output_type": "stream",
     "text": [
      "/home/tjzhang01/miniconda3/envs/GraphComm/lib/python3.9/site-packages/anndata/_core/anndata.py:121: ImplicitModificationWarning: Transforming to str index.\n"
     ]
    }
   ],
   "source": [
    "connectome(adata,groupby=\"label\")\n",
    "drosophila_connectome_df = adata.uns[\"liana_res\"][[\"source\",\"target\",\"ligand\",\"receptor\",\"expr_prod\"]].sort_values(\"expr_prod\",ascending=False)"
   ]
  },
  {
   "cell_type": "code",
   "execution_count": 5,
   "id": "3a905313",
   "metadata": {
    "tags": []
   },
   "outputs": [],
   "source": [
    "cellphonedb(adata,groupby=\"label\")\n",
    "drosophila_cellphone_df = adata.uns[\"liana_res\"][[\"source\",\"target\",\"ligand\",\"receptor\",\"lr_means\"]].sort_values(\"lr_means\",ascending=False)"
   ]
  },
  {
   "cell_type": "code",
   "execution_count": 6,
   "id": "b7628f6b",
   "metadata": {
    "tags": []
   },
   "outputs": [],
   "source": [
    "cellchat(adata,groupby=\"label\")\n",
    "drosophila_cellchat_df = adata.uns[\"liana_res\"][[\"source\",\"target\",\"ligand\",\"receptor\",\"lr_probs\"]].sort_values(\"lr_probs\",ascending=False)"
   ]
  },
  {
   "cell_type": "markdown",
   "id": "efd0dbc8-1f46-4347-9582-8979cd8bf499",
   "metadata": {},
   "source": [
    "## Dataset 1: *Drosophila* embryo (Fig 2D)"
   ]
  },
  {
   "cell_type": "markdown",
   "id": "172b73f9-e117-4be3-99f3-b391516ce259",
   "metadata": {},
   "source": [
    "for each dataset, get the pathway coverage for Hippo pathway genes"
   ]
  },
  {
   "cell_type": "code",
   "execution_count": 7,
   "id": "ae479756",
   "metadata": {
    "tags": []
   },
   "outputs": [],
   "source": [
    "inputs = [drosophila_connectome_df[[\"ligand\",\"receptor\",\"expr_prod\"]],drosophila_cellchat_df[[\"ligand\",\"receptor\",\"lr_probs\"]],drosophila_cellphone_df[[\"ligand\",\"receptor\",\"lr_means\"]]]"
   ]
  },
  {
   "cell_type": "code",
   "execution_count": 8,
   "id": "2da2a14e",
   "metadata": {
    "tags": []
   },
   "outputs": [],
   "source": [
    "for i in inputs:\n",
    "    i.columns = [\"Ligand\",\"Receptor\",\"Prob\"]"
   ]
  },
  {
   "cell_type": "code",
   "execution_count": 9,
   "id": "d0e340f0",
   "metadata": {
    "tags": []
   },
   "outputs": [],
   "source": [
    "pathways = pd.read_csv(\"../../data/LR_database/kegg_pathways.csv\",index_col=0)\n",
    "pathways.index = pathways[\"genesymbol\"].tolist()\n",
    "pathways = pathways.drop_duplicates(\"genesymbol\")"
   ]
  },
  {
   "cell_type": "code",
   "execution_count": 10,
   "id": "8717d159",
   "metadata": {
    "tags": []
   },
   "outputs": [],
   "source": [
    "hippo_genes = pathways[(pathways[\"pathway\"].str.contains(\"Hippo\"))][\"genesymbol\"].tolist()"
   ]
  },
  {
   "cell_type": "code",
   "execution_count": 11,
   "id": "bf9574dd",
   "metadata": {
    "tags": []
   },
   "outputs": [],
   "source": [
    "available_hippo_genes = list(set(matrix.index.tolist()) & set(hippo_genes))"
   ]
  },
  {
   "cell_type": "code",
   "execution_count": 12,
   "id": "dda58ba0",
   "metadata": {
    "tags": []
   },
   "outputs": [],
   "source": [
    "inputs = [i.head(1000) for i in inputs]"
   ]
  },
  {
   "cell_type": "code",
   "execution_count": 13,
   "id": "ffcd96d1",
   "metadata": {
    "tags": []
   },
   "outputs": [],
   "source": [
    "benchmarking_list = []\n",
    "for input_data in inputs:\n",
    "    input_data = input_data[(input_data[\"Ligand\"].isin(pathways[\"genesymbol\"].tolist())) | (input_data[\"Receptor\"].isin(pathways[\"genesymbol\"].tolist()))]\n",
    "    involved_ligands = list(set(input_data[\"Ligand\"].tolist()) & set(pathways[\"genesymbol\"].tolist()))\n",
    "    involved_receptors = list(set(input_data[\"Receptor\"].tolist()) & set(pathways[\"genesymbol\"].tolist()))\n",
    "    input_data[\"Ligand Pathway\"] = [pathways.loc[i][\"pathway\"] if i in pathways[\"genesymbol\"].tolist() else \"\" for i in input_data[\"Ligand\"].tolist()]\n",
    "    input_data[\"Receptor Pathway\"] = [pathways.loc[i][\"pathway\"] if i in pathways[\"genesymbol\"].tolist() else \"\" for i in input_data[\"Receptor\"].tolist()]\n",
    "    signaling_pathway = input_data[input_data[\"Ligand\"].isin(hippo_genes) | input_data[\"Receptor\"].isin(hippo_genes)]\n",
    "    sizes_list = [] \n",
    "    for i in range(0,1000,100):\n",
    "        temp = signaling_pathway.head(i)\n",
    "        found_genes = temp[\"Ligand\"].tolist() + temp[\"Receptor\"].tolist()\n",
    "        found_hippo_genes = list(set(found_genes) & set(hippo_genes))\n",
    "        sizes_list.append(len(found_hippo_genes) / len(available_hippo_genes)) \n",
    "    benchmarking_list.append(sizes_list)\n",
    "                                  "
   ]
  },
  {
   "cell_type": "code",
   "execution_count": 23,
   "id": "40bba610-0948-45cd-9294-25a65207ab67",
   "metadata": {
    "tags": []
   },
   "outputs": [
    {
     "data": {
      "text/plain": [
       "[[0.0, 0.0, 0.0, 0.0, 0.0, 0.0, 0.0, 0.0, 0.0, 0.0],\n",
       " [0.0, 0.0, 0.0, 0.0, 0.0, 0.0, 0.0, 0.0, 0.0, 0.0],\n",
       " [0.0, 0.0, 0.0, 0.0, 0.0, 0.0, 0.0, 0.0, 0.0, 0.0]]"
      ]
     },
     "execution_count": 23,
     "metadata": {},
     "output_type": "execute_result"
    }
   ],
   "source": [
    "benchmarking_list"
   ]
  },
  {
   "cell_type": "markdown",
   "id": "59629229-8544-49b5-becc-7859dc634672",
   "metadata": {},
   "source": [
    "import CellGATv2 result coverage"
   ]
  },
  {
   "cell_type": "code",
   "execution_count": 14,
   "id": "372111db",
   "metadata": {
    "tags": []
   },
   "outputs": [],
   "source": [
    "CellGATv2_data = pd.read_csv(\"../../data/CellGATv2_Output/Drosophila/CCI.csv\",index_col=0)"
   ]
  },
  {
   "cell_type": "code",
   "execution_count": 15,
   "id": "e29a24e4",
   "metadata": {
    "tags": []
   },
   "outputs": [],
   "source": [
    "CellGATv2_data = CellGATv2_data[(CellGATv2_data[\"Src\"].isin(pathways[\"genesymbol\"].tolist())) & (CellGATv2_data[\"Dst\"].isin(pathways[\"genesymbol\"].tolist()))]"
   ]
  },
  {
   "cell_type": "code",
   "execution_count": 16,
   "id": "1fa05561",
   "metadata": {
    "tags": []
   },
   "outputs": [],
   "source": [
    "CellGATv2_data.columns = [\"Ligand\",\"Receptor\",\"Prob\"]"
   ]
  },
  {
   "cell_type": "code",
   "execution_count": 17,
   "id": "8bbd18f7",
   "metadata": {
    "tags": []
   },
   "outputs": [],
   "source": [
    "CellGATv2_inputs = [CellGATv2_data.head(1000)]"
   ]
  },
  {
   "cell_type": "code",
   "execution_count": 18,
   "id": "e7023c0f",
   "metadata": {
    "tags": []
   },
   "outputs": [],
   "source": [
    "CellGATv2_data = CellGATv2_data.head(1000)"
   ]
  },
  {
   "cell_type": "code",
   "execution_count": 19,
   "id": "f5394c3b",
   "metadata": {
    "tags": []
   },
   "outputs": [],
   "source": [
    "CellGATv2_list = []\n",
    "for i in range(0,1000,100):\n",
    "    temp = CellGATv2_data.head(i)\n",
    "    found_genes = temp[\"Ligand\"].tolist() + temp[\"Receptor\"].tolist()\n",
    "    found_hippo_genes = list(set(found_genes) & set(hippo_genes))\n",
    "    CellGATv2_list.append(len(found_hippo_genes) / len(available_hippo_genes))\n",
    "    "
   ]
  },
  {
   "cell_type": "code",
   "execution_count": 22,
   "id": "095d2e21-c867-4ad9-a731-e45dd79c2642",
   "metadata": {
    "tags": []
   },
   "outputs": [
    {
     "data": {
      "text/plain": [
       "[0.0, 1.0, 1.0, 1.0, 1.0, 1.0, 1.0, 1.0, 1.0, 1.0]"
      ]
     },
     "execution_count": 22,
     "metadata": {},
     "output_type": "execute_result"
    }
   ],
   "source": [
    "CellGATv2_list"
   ]
  },
  {
   "cell_type": "code",
   "execution_count": 21,
   "id": "8ab9d0b6",
   "metadata": {
    "tags": []
   },
   "outputs": [
    {
     "data": {
      "text/plain": [
       "<matplotlib.legend.Legend at 0x7f4a83d3e310>"
      ]
     },
     "execution_count": 21,
     "metadata": {},
     "output_type": "execute_result"
    },
    {
     "data": {
      "image/png": "[encoded data removed]",
      "text/plain": [
       "<Figure size 500x500 with 1 Axes>"
      ]
     },
     "metadata": {},
     "output_type": "display_data"
    }
   ],
   "source": [
    "%matplotlib inline\n",
    "plt.figure(figsize=(5,5))\n",
    "line_styles = [\"-.\",'--',\":\"]*4\n",
    "methods_list = [\"Connectome\",\"CellChat\",\"CellPhone\"]\n",
    "for i in range(len(benchmarking_list)):\n",
    "    plt.plot(range(0,1000,100),benchmarking_list[i],markersize=5,marker=\"o\",linestyle=line_styles[i],label=methods_list[i],linewidth=3,alpha=0.75)\n",
    "plt.plot(range(0,1000,100),CellGATv2_list,markersize=5,marker=\"o\",label=\"CellGAT\",linewidth=3,alpha=0.75)\n",
    "\n",
    "plt.xticks(range(0,1000,100))\n",
    "plt.grid(axis = 'x')\n",
    "plt.title(\"CellGAT coverage of identified pathways vs. other methods\")\n",
    "plt.xlabel(\"Top N interactions\")\n",
    "plt.ylabel(\"Fraction of genes involved in interactions\")\n",
    "plt.legend()"
   ]
  },
  {
   "cell_type": "code",
   "execution_count": null,
   "id": "89446d31-65b1-4f45-8870-bc10a4933491",
   "metadata": {},
   "outputs": [],
   "source": []
  }
 ],
 "metadata": {
  "kernelspec": {
   "display_name": "GraphComm",
   "language": "python",
   "name": "graphcomm"
  },
  "language_info": {
   "codemirror_mode": {
    "name": "ipython",
    "version": 3
   },
   "file_extension": ".py",
   "mimetype": "text/x-python",
   "name": "python",
   "nbconvert_exporter": "python",
   "pygments_lexer": "ipython3",
   "version": "3.9.18"
  }
 },
 "nbformat": 4,
 "nbformat_minor": 5
}

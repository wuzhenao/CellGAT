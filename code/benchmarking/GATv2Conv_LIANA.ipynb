{
 "cells": [
  {
   "cell_type": "code",
   "execution_count": 22,
   "id": "9e51bff7",
   "metadata": {
    "tags": []
   },
   "outputs": [],
   "source": [
    "import liana \n",
    "import anndata\n",
    "import pandas as pd\n",
    "import matplotlib.pyplot as plt\n",
    "from scipy.stats import wilcoxon\n",
    "import anndata\n",
    "import scanpy as sc\n",
    "from liana.mt import rank_aggregate\n",
    "from liana.mt import singlecellsignalr, connectome, cellphonedb, natmi, logfc, cellchat, geometric_mean\n",
    "import numpy as np\n",
    "from matplotlib.pyplot import figure\n",
    "import math\n",
    "from scipy.stats import wilcoxon\n",
    "import seaborn as sns\n",
    "import matplotlib.gridspec as grid_spec\n",
    "\n",
    "%matplotlib inline"
   ]
  },
  {
   "cell_type": "markdown",
   "id": "febde582",
   "metadata": {},
   "source": [
    "# Data PreProcessing"
   ]
  },
  {
   "cell_type": "markdown",
   "id": "cb9705ec-cdaa-476a-9f40-7b5c76efb735",
   "metadata": {},
   "source": [
    "# Mouse Dataset "
   ]
  },
  {
   "cell_type": "code",
   "execution_count": 23,
   "id": "adcb3061-c101-4c8d-a326-24f8a71d24b6",
   "metadata": {
    "tags": []
   },
   "outputs": [
    {
     "name": "stdout",
     "output_type": "stream",
     "text": [
      "WARNING: You’re trying to run this on 9531 dimensions of `.X`, if you really want this, set `use_rep='X'`.\n",
      "         Falling back to preprocessing with `sc.pp.pca` and default params.\n"
     ]
    },
    {
     "name": "stderr",
     "output_type": "stream",
     "text": [
      "/tmp/ipykernel_57272/3141878082.py:13: FutureWarning: X.dtype being converted to np.float32 from float64. In the next version of anndata (0.9) conversion will not be automatic. Pass dtype explicitly to avoid this warning. Pass `AnnData(X, dtype=X.dtype, ...)` to get the future behavour.\n"
     ]
    },
    {
     "name": "stdout",
     "output_type": "stream",
     "text": [
      "WARNING: Default of the method has been changed to 't-test' from 't-test_overestim_var'\n"
     ]
    },
    {
     "name": "stderr",
     "output_type": "stream",
     "text": [
      "/tmp/ipykernel_57272/3141878082.py:23: FutureWarning: X.dtype being converted to np.float32 from float64. In the next version of anndata (0.9) conversion will not be automatic. Pass dtype explicitly to avoid this warning. Pass `AnnData(X, dtype=X.dtype, ...)` to get the future behavour.\n"
     ]
    }
   ],
   "source": [
    "matrix = pd.read_csv(\"../../data/CellGATv2_Input/Mouse/matrix.csv\",index_col=0)\n",
    "\n",
    "matrix.index = [str(i).upper() for i in matrix.index.tolist()]\n",
    "\n",
    "from scipy.stats import wilcoxon\n",
    "import anndata\n",
    "import scanpy as sc\n",
    "\n",
    "index = matrix.index.tolist()\n",
    "\n",
    "matrix = matrix.fillna(0)\n",
    "\n",
    "adata = anndata.AnnData(matrix.transpose())\n",
    "\n",
    "sc.pp.normalize_total(adata)\n",
    "sc.pp.neighbors(adata)\n",
    "sc.tl.leiden(adata)\n",
    "\n",
    "meta = pd.DataFrame({\"cell\":adata.obs[\"leiden\"].index.tolist(),\"label\":adata.obs[\"leiden\"].tolist()})\n",
    "\n",
    "meta.index = meta[\"cell\"].tolist()\n",
    "\n",
    "adata = anndata.AnnData(matrix.transpose())\n",
    "adata.raw = adata\n",
    "adata.obs = meta\n",
    "adata.obs[\"label\"] = adata.obs[\"label\"].astype(\"category\")\n",
    "sc.tl.rank_genes_groups(adata, 'label')"
   ]
  },
  {
   "cell_type": "code",
   "execution_count": 24,
   "id": "5619393a-4cf9-4213-8956-b33076f3774f",
   "metadata": {
    "tags": []
   },
   "outputs": [],
   "source": [
    "cellphonedb(adata,groupby=\"label\",expr_prop=0.05)\n",
    "cellphone_df = adata.uns[\"liana_res\"][[\"source\",\"target\",\"ligand\",\"receptor\",\"lr_means\"]].sort_values(\"lr_means\",ascending=False)"
   ]
  },
  {
   "cell_type": "code",
   "execution_count": 25,
   "id": "807e74f1-1fc7-49fb-9b24-412c9e4f4016",
   "metadata": {
    "tags": []
   },
   "outputs": [],
   "source": [
    "connectome(adata,groupby=\"label\",expr_prop=0.03)\n",
    "connectome_df = adata.uns[\"liana_res\"][[\"source\",\"target\",\"ligand\",\"receptor\",\"expr_prod\"]].sort_values(\"expr_prod\",ascending=False)"
   ]
  },
  {
   "cell_type": "code",
   "execution_count": 26,
   "id": "4aa9392d-b32e-410b-ab3e-3eb4d0e89cd1",
   "metadata": {
    "tags": []
   },
   "outputs": [],
   "source": [
    "cellchat(adata,groupby=\"label\",expr_prop=0.01)\n",
    "cellchat_df = adata.uns[\"liana_res\"][[\"source\",\"target\",\"ligand\",\"receptor\",\"lr_probs\"]].sort_values(\"lr_probs\",ascending=False)"
   ]
  },
  {
   "cell_type": "markdown",
   "id": "7872d490-3a13-4600-a9d5-001dcd122767",
   "metadata": {},
   "source": [
    "## load data trained on the full Omnipath set, and just the LIANA consensus"
   ]
  },
  {
   "cell_type": "code",
   "execution_count": 125,
   "id": "2139c336-dcec-4fa4-836b-3bbc0a79587e",
   "metadata": {
    "tags": []
   },
   "outputs": [],
   "source": [
    "consensus_data=pd.read_csv(\"../../data/CellGATv2_Output/consensus_Mouse/CCI.csv\")\n",
    "input_data=pd.read_csv(\"../../data/CellGATv2_Output/Mouse/CCI.csv\")\n",
    "full_input_data = input_data.copy()"
   ]
  },
  {
   "cell_type": "markdown",
   "id": "b27742a9-b426-4539-95f6-c965a5196f75",
   "metadata": {},
   "source": [
    "## identify overlapping interactions across all validated interactions from CellGATv2 results & other methods"
   ]
  },
  {
   "cell_type": "code",
   "execution_count": 126,
   "id": "2ea86cda-c5be-4da9-a5c8-d3dd8b2d1830",
   "metadata": {
    "tags": []
   },
   "outputs": [],
   "source": [
    "connectome_df = connectome_df[[\"ligand\",\"receptor\",\"expr_prod\"]][[\"ligand\",\"receptor\"]]\n",
    "cellchat_df = cellchat_df[[\"ligand\",\"receptor\",\"lr_probs\"]][[\"ligand\",\"receptor\"]]\n",
    "cellphone_df = cellphone_df[[\"ligand\",\"receptor\",\"lr_means\"]][[\"ligand\",\"receptor\"]]"
   ]
  },
  {
   "cell_type": "code",
   "execution_count": 127,
   "id": "4af70366-3821-4cac-9f3f-886a78001bcf",
   "metadata": {
    "tags": []
   },
   "outputs": [],
   "source": [
    "connectome_df = connectome_df.drop_duplicates([\"ligand\",\"receptor\"],keep=\"first\")\n",
    "cellchat_df = cellchat_df.drop_duplicates([\"ligand\",\"receptor\"],keep=\"first\")\n",
    "cellphone_df = cellphone_df.drop_duplicates([\"ligand\",\"receptor\"],keep=\"first\")"
   ]
  },
  {
   "cell_type": "code",
   "execution_count": 128,
   "id": "4ac5b3bb-e536-4b11-8b9f-5038d0429ddf",
   "metadata": {
    "tags": []
   },
   "outputs": [],
   "source": [
    "full_connectome_df = connectome_df.copy()\n",
    "full_cellchat_df = cellchat_df.copy()\n",
    "full_cellphone_df = cellphone_df.copy()"
   ]
  },
  {
   "cell_type": "code",
   "execution_count": 129,
   "id": "5adfddb0-4823-4014-87c9-8f827701b81e",
   "metadata": {
    "tags": []
   },
   "outputs": [],
   "source": [
    "intercell = pd.read_csv(\"../../data/LR_database/consensus_Omnipath.csv\",index_col=0)\n",
    "intercell.columns = [\"source\",\"target\"]"
   ]
  },
  {
   "cell_type": "code",
   "execution_count": 130,
   "id": "70ec3beb-97b4-4f74-b725-a39d9bcde3a3",
   "metadata": {
    "tags": []
   },
   "outputs": [],
   "source": [
    "consensus_data=pd.merge(consensus_data,intercell,left_on=[\"Src\",\"Dst\"],right_on=[\"source\",\"target\"])\n",
    "input_data=pd.merge(input_data,intercell,left_on=[\"Src\",\"Dst\"],right_on=[\"source\",\"target\"])\n",
    "connectome_df=pd.merge(connectome_df,intercell,left_on=[\"ligand\",\"receptor\"],right_on=[\"source\",\"target\"])\n",
    "cellchat_df=pd.merge(cellchat_df,intercell,left_on=[\"ligand\",\"receptor\"],right_on=[\"source\",\"target\"])\n",
    "cellphone_df=pd.merge(cellphone_df,intercell,left_on=[\"ligand\",\"receptor\"],right_on=[\"source\",\"target\"])"
   ]
  },
  {
   "cell_type": "code",
   "execution_count": 131,
   "id": "4ddd830f-f3b6-41b2-bf8b-4bf221f1758c",
   "metadata": {
    "tags": []
   },
   "outputs": [],
   "source": [
    "full_connectome_df = connectome_df.copy()\n",
    "full_cellchat_df = cellchat_df.copy()\n",
    "full_cellphone_df = cellphone_df.copy()\n",
    "full_input_data = input_data.copy()\n",
    "full_consensus_df = consensus_data.copy()"
   ]
  },
  {
   "cell_type": "code",
   "execution_count": 132,
   "id": "f03e4fd8-8165-44c2-aa37-b6fdbc38850a",
   "metadata": {
    "tags": []
   },
   "outputs": [],
   "source": [
    "truth = pd.read_csv(\"../../data/raw_data/Mouse/truth_interactions.csv\")[[\"Ligand\",\"Receptor\"]]\n",
    "truth[\"Ligand\"] = [i.upper() for i in truth[\"Ligand\"].tolist()]\n",
    "truth[\"Receptor\"] = [i.upper() for i in truth[\"Receptor\"].tolist()]"
   ]
  },
  {
   "cell_type": "code",
   "execution_count": 133,
   "id": "cf1dce8c-0ff8-4629-a913-edec950ceaf0",
   "metadata": {
    "tags": []
   },
   "outputs": [],
   "source": [
    "new_consensus_data=pd.merge(consensus_data,truth,left_on=[\"Src\",\"Dst\"],right_on=[\"Ligand\",\"Receptor\"])\n",
    "new_input_data=pd.merge(input_data,truth,left_on=[\"Src\",\"Dst\"],right_on=[\"Ligand\",\"Receptor\"])\n",
    "new_connectome_df=pd.merge(connectome_df,truth,left_on=[\"ligand\",\"receptor\"],right_on=[\"Ligand\",\"Receptor\"])\n",
    "new_cellchat_df=pd.merge(cellchat_df,truth,left_on=[\"ligand\",\"receptor\"],right_on=[\"Ligand\",\"Receptor\"])\n",
    "new_cellphone_df=pd.merge(cellphone_df,truth,left_on=[\"ligand\",\"receptor\"],right_on=[\"Ligand\",\"Receptor\"])"
   ]
  },
  {
   "cell_type": "code",
   "execution_count": 134,
   "id": "95fce3be-d13c-4862-bf4d-efb9eb42683a",
   "metadata": {
    "tags": []
   },
   "outputs": [],
   "source": [
    "#consensus_shape = new_consensus_data.shape[0]/consensus_data.shape[0]\n",
    "input_shape = new_input_data.shape[0]/input_data.shape[0]\n",
    "\n",
    "connectome_shape = new_connectome_df.shape[0]/connectome_df.shape[0]\n",
    "cellchat_shape = new_cellchat_df.shape[0]/cellchat_df.shape[0]\n",
    "cellphone_shape = new_cellphone_df.shape[0]/cellphone_df.shape[0]"
   ]
  },
  {
   "cell_type": "code",
   "execution_count": 135,
   "id": "bb6c25fc-847e-4f02-98ae-79d49d1a3464",
   "metadata": {
    "tags": []
   },
   "outputs": [
    {
     "data": {
      "text/html": [
       "<div>\n",
       "<style scoped>\n",
       "    .dataframe tbody tr th:only-of-type {\n",
       "        vertical-align: middle;\n",
       "    }\n",
       "\n",
       "    .dataframe tbody tr th {\n",
       "        vertical-align: top;\n",
       "    }\n",
       "\n",
       "    .dataframe thead th {\n",
       "        text-align: right;\n",
       "    }\n",
       "</style>\n",
       "<table border=\"1\" class=\"dataframe\">\n",
       "  <thead>\n",
       "    <tr style=\"text-align: right;\">\n",
       "      <th></th>\n",
       "      <th>Unnamed: 0</th>\n",
       "      <th>Src</th>\n",
       "      <th>Dst</th>\n",
       "      <th>Prob</th>\n",
       "      <th>source</th>\n",
       "      <th>target</th>\n",
       "      <th>Ligand</th>\n",
       "      <th>Receptor</th>\n",
       "    </tr>\n",
       "  </thead>\n",
       "  <tbody>\n",
       "    <tr>\n",
       "      <th>0</th>\n",
       "      <td>5224837</td>\n",
       "      <td>TGFB1</td>\n",
       "      <td>ACVRL1</td>\n",
       "      <td>0.729605</td>\n",
       "      <td>TGFB1</td>\n",
       "      <td>ACVRL1</td>\n",
       "      <td>TGFB1</td>\n",
       "      <td>ACVRL1</td>\n",
       "    </tr>\n",
       "    <tr>\n",
       "      <th>1</th>\n",
       "      <td>1157348</td>\n",
       "      <td>L1CAM</td>\n",
       "      <td>EGFR</td>\n",
       "      <td>0.700125</td>\n",
       "      <td>L1CAM</td>\n",
       "      <td>EGFR</td>\n",
       "      <td>L1CAM</td>\n",
       "      <td>EGFR</td>\n",
       "    </tr>\n",
       "    <tr>\n",
       "      <th>2</th>\n",
       "      <td>1425229</td>\n",
       "      <td>APP</td>\n",
       "      <td>GPC1</td>\n",
       "      <td>0.653958</td>\n",
       "      <td>APP</td>\n",
       "      <td>GPC1</td>\n",
       "      <td>APP</td>\n",
       "      <td>GPC1</td>\n",
       "    </tr>\n",
       "    <tr>\n",
       "      <th>3</th>\n",
       "      <td>3140705</td>\n",
       "      <td>COL18A1</td>\n",
       "      <td>GPC1</td>\n",
       "      <td>0.653541</td>\n",
       "      <td>COL18A1</td>\n",
       "      <td>GPC1</td>\n",
       "      <td>COL18A1</td>\n",
       "      <td>GPC1</td>\n",
       "    </tr>\n",
       "    <tr>\n",
       "      <th>4</th>\n",
       "      <td>2180648</td>\n",
       "      <td>LAMA1</td>\n",
       "      <td>GPC1</td>\n",
       "      <td>0.653356</td>\n",
       "      <td>LAMA1</td>\n",
       "      <td>GPC1</td>\n",
       "      <td>LAMA1</td>\n",
       "      <td>GPC1</td>\n",
       "    </tr>\n",
       "    <tr>\n",
       "      <th>...</th>\n",
       "      <td>...</td>\n",
       "      <td>...</td>\n",
       "      <td>...</td>\n",
       "      <td>...</td>\n",
       "      <td>...</td>\n",
       "      <td>...</td>\n",
       "      <td>...</td>\n",
       "      <td>...</td>\n",
       "    </tr>\n",
       "    <tr>\n",
       "      <th>192</th>\n",
       "      <td>1358741</td>\n",
       "      <td>TFPI</td>\n",
       "      <td>VLDLR</td>\n",
       "      <td>0.286062</td>\n",
       "      <td>TFPI</td>\n",
       "      <td>VLDLR</td>\n",
       "      <td>TFPI</td>\n",
       "      <td>VLDLR</td>\n",
       "    </tr>\n",
       "    <tr>\n",
       "      <th>193</th>\n",
       "      <td>5107535</td>\n",
       "      <td>LPL</td>\n",
       "      <td>VLDLR</td>\n",
       "      <td>0.285969</td>\n",
       "      <td>LPL</td>\n",
       "      <td>VLDLR</td>\n",
       "      <td>LPL</td>\n",
       "      <td>VLDLR</td>\n",
       "    </tr>\n",
       "    <tr>\n",
       "      <th>194</th>\n",
       "      <td>331197</td>\n",
       "      <td>LRPAP1</td>\n",
       "      <td>VLDLR</td>\n",
       "      <td>0.285876</td>\n",
       "      <td>LRPAP1</td>\n",
       "      <td>VLDLR</td>\n",
       "      <td>LRPAP1</td>\n",
       "      <td>VLDLR</td>\n",
       "    </tr>\n",
       "    <tr>\n",
       "      <th>195</th>\n",
       "      <td>4032870</td>\n",
       "      <td>NCAN</td>\n",
       "      <td>CDH2</td>\n",
       "      <td>0.194076</td>\n",
       "      <td>NCAN</td>\n",
       "      <td>CDH2</td>\n",
       "      <td>NCAN</td>\n",
       "      <td>CDH2</td>\n",
       "    </tr>\n",
       "    <tr>\n",
       "      <th>196</th>\n",
       "      <td>4032658</td>\n",
       "      <td>NCAN</td>\n",
       "      <td>SDC3</td>\n",
       "      <td>0.193149</td>\n",
       "      <td>NCAN</td>\n",
       "      <td>SDC3</td>\n",
       "      <td>NCAN</td>\n",
       "      <td>SDC3</td>\n",
       "    </tr>\n",
       "  </tbody>\n",
       "</table>\n",
       "<p>197 rows × 8 columns</p>\n",
       "</div>"
      ],
      "text/plain": [
       "     Unnamed: 0      Src     Dst      Prob   source  target   Ligand Receptor\n",
       "0       5224837    TGFB1  ACVRL1  0.729605    TGFB1  ACVRL1    TGFB1   ACVRL1\n",
       "1       1157348    L1CAM    EGFR  0.700125    L1CAM    EGFR    L1CAM     EGFR\n",
       "2       1425229      APP    GPC1  0.653958      APP    GPC1      APP     GPC1\n",
       "3       3140705  COL18A1    GPC1  0.653541  COL18A1    GPC1  COL18A1     GPC1\n",
       "4       2180648    LAMA1    GPC1  0.653356    LAMA1    GPC1    LAMA1     GPC1\n",
       "..          ...      ...     ...       ...      ...     ...      ...      ...\n",
       "192     1358741     TFPI   VLDLR  0.286062     TFPI   VLDLR     TFPI    VLDLR\n",
       "193     5107535      LPL   VLDLR  0.285969      LPL   VLDLR      LPL    VLDLR\n",
       "194      331197   LRPAP1   VLDLR  0.285876   LRPAP1   VLDLR   LRPAP1    VLDLR\n",
       "195     4032870     NCAN    CDH2  0.194076     NCAN    CDH2     NCAN     CDH2\n",
       "196     4032658     NCAN    SDC3  0.193149     NCAN    SDC3     NCAN     SDC3\n",
       "\n",
       "[197 rows x 8 columns]"
      ]
     },
     "execution_count": 135,
     "metadata": {},
     "output_type": "execute_result"
    }
   ],
   "source": [
    "new_input_data"
   ]
  },
  {
   "cell_type": "code",
   "execution_count": 136,
   "id": "48e2d652-0d24-4be7-8451-82f47ff33c95",
   "metadata": {
    "tags": []
   },
   "outputs": [
    {
     "data": {
      "text/html": [
       "<div>\n",
       "<style scoped>\n",
       "    .dataframe tbody tr th:only-of-type {\n",
       "        vertical-align: middle;\n",
       "    }\n",
       "\n",
       "    .dataframe tbody tr th {\n",
       "        vertical-align: top;\n",
       "    }\n",
       "\n",
       "    .dataframe thead th {\n",
       "        text-align: right;\n",
       "    }\n",
       "</style>\n",
       "<table border=\"1\" class=\"dataframe\">\n",
       "  <thead>\n",
       "    <tr style=\"text-align: right;\">\n",
       "      <th></th>\n",
       "      <th>ligand</th>\n",
       "      <th>receptor</th>\n",
       "      <th>source</th>\n",
       "      <th>target</th>\n",
       "      <th>Ligand</th>\n",
       "      <th>Receptor</th>\n",
       "    </tr>\n",
       "  </thead>\n",
       "  <tbody>\n",
       "    <tr>\n",
       "      <th>0</th>\n",
       "      <td>COL4A1</td>\n",
       "      <td>CD93</td>\n",
       "      <td>COL4A1</td>\n",
       "      <td>CD93</td>\n",
       "      <td>COL4A1</td>\n",
       "      <td>CD93</td>\n",
       "    </tr>\n",
       "    <tr>\n",
       "      <th>1</th>\n",
       "      <td>COL4A2</td>\n",
       "      <td>CD93</td>\n",
       "      <td>COL4A2</td>\n",
       "      <td>CD93</td>\n",
       "      <td>COL4A2</td>\n",
       "      <td>CD93</td>\n",
       "    </tr>\n",
       "    <tr>\n",
       "      <th>2</th>\n",
       "      <td>VTN</td>\n",
       "      <td>KDR</td>\n",
       "      <td>VTN</td>\n",
       "      <td>KDR</td>\n",
       "      <td>VTN</td>\n",
       "      <td>KDR</td>\n",
       "    </tr>\n",
       "    <tr>\n",
       "      <th>3</th>\n",
       "      <td>C1QA</td>\n",
       "      <td>CD93</td>\n",
       "      <td>C1QA</td>\n",
       "      <td>CD93</td>\n",
       "      <td>C1QA</td>\n",
       "      <td>CD93</td>\n",
       "    </tr>\n",
       "    <tr>\n",
       "      <th>4</th>\n",
       "      <td>IGF2</td>\n",
       "      <td>IGF1R</td>\n",
       "      <td>IGF2</td>\n",
       "      <td>IGF1R</td>\n",
       "      <td>IGF2</td>\n",
       "      <td>IGF1R</td>\n",
       "    </tr>\n",
       "    <tr>\n",
       "      <th>...</th>\n",
       "      <td>...</td>\n",
       "      <td>...</td>\n",
       "      <td>...</td>\n",
       "      <td>...</td>\n",
       "      <td>...</td>\n",
       "      <td>...</td>\n",
       "    </tr>\n",
       "    <tr>\n",
       "      <th>206</th>\n",
       "      <td>SLIT2</td>\n",
       "      <td>GPC1</td>\n",
       "      <td>SLIT2</td>\n",
       "      <td>GPC1</td>\n",
       "      <td>SLIT2</td>\n",
       "      <td>GPC1</td>\n",
       "    </tr>\n",
       "    <tr>\n",
       "      <th>207</th>\n",
       "      <td>EFNA5</td>\n",
       "      <td>EPHA3</td>\n",
       "      <td>EFNA5</td>\n",
       "      <td>EPHA3</td>\n",
       "      <td>EFNA5</td>\n",
       "      <td>EPHA3</td>\n",
       "    </tr>\n",
       "    <tr>\n",
       "      <th>208</th>\n",
       "      <td>CNTN2</td>\n",
       "      <td>NRCAM</td>\n",
       "      <td>CNTN2</td>\n",
       "      <td>NRCAM</td>\n",
       "      <td>CNTN2</td>\n",
       "      <td>NRCAM</td>\n",
       "    </tr>\n",
       "    <tr>\n",
       "      <th>209</th>\n",
       "      <td>EFNA4</td>\n",
       "      <td>EPHA3</td>\n",
       "      <td>EFNA4</td>\n",
       "      <td>EPHA3</td>\n",
       "      <td>EFNA4</td>\n",
       "      <td>EPHA3</td>\n",
       "    </tr>\n",
       "    <tr>\n",
       "      <th>210</th>\n",
       "      <td>EFNA2</td>\n",
       "      <td>EPHA3</td>\n",
       "      <td>EFNA2</td>\n",
       "      <td>EPHA3</td>\n",
       "      <td>EFNA2</td>\n",
       "      <td>EPHA3</td>\n",
       "    </tr>\n",
       "  </tbody>\n",
       "</table>\n",
       "<p>211 rows × 6 columns</p>\n",
       "</div>"
      ],
      "text/plain": [
       "     ligand receptor  source target  Ligand Receptor\n",
       "0    COL4A1     CD93  COL4A1   CD93  COL4A1     CD93\n",
       "1    COL4A2     CD93  COL4A2   CD93  COL4A2     CD93\n",
       "2       VTN      KDR     VTN    KDR     VTN      KDR\n",
       "3      C1QA     CD93    C1QA   CD93    C1QA     CD93\n",
       "4      IGF2    IGF1R    IGF2  IGF1R    IGF2    IGF1R\n",
       "..      ...      ...     ...    ...     ...      ...\n",
       "206   SLIT2     GPC1   SLIT2   GPC1   SLIT2     GPC1\n",
       "207   EFNA5    EPHA3   EFNA5  EPHA3   EFNA5    EPHA3\n",
       "208   CNTN2    NRCAM   CNTN2  NRCAM   CNTN2    NRCAM\n",
       "209   EFNA4    EPHA3   EFNA4  EPHA3   EFNA4    EPHA3\n",
       "210   EFNA2    EPHA3   EFNA2  EPHA3   EFNA2    EPHA3\n",
       "\n",
       "[211 rows x 6 columns]"
      ]
     },
     "execution_count": 136,
     "metadata": {},
     "output_type": "execute_result"
    }
   ],
   "source": [
    "new_cellchat_df"
   ]
  },
  {
   "cell_type": "code",
   "execution_count": 165,
   "id": "fde0301a-7144-43a8-be11-e8846ba2ac75",
   "metadata": {
    "tags": []
   },
   "outputs": [
    {
     "data": {
      "text/plain": [
       "Text(0, 0.5, 'Fraction of consensus interactions')"
      ]
     },
     "execution_count": 165,
     "metadata": {},
     "output_type": "execute_result"
    },
    {
     "data": {
      "image/png": "[encoded data removed]",
      "text/plain": [
       "<Figure size 1000x600 with 1 Axes>"
      ]
     },
     "metadata": {},
     "output_type": "display_data"
    }
   ],
   "source": [
    "%matplotlib inline\n",
    "plt.figure(figsize=(10,6))\n",
    "plt.bar([\"CellGAT\",\"Connectome\",\"CellChat\",\"CellPhone\"],[input_shape,connectome_shape,cellchat_shape,cellphone_shape])\n",
    "\n",
    "plt.title(\"percentile overlap with publication interactions in Mouse brain dataset\")\n",
    "plt.ylabel(\"Fraction of consensus interactions\")"
   ]
  },
  {
   "cell_type": "code",
   "execution_count": 61,
   "id": "4d97ff04-d2d0-49eb-bb6d-e7373b80f800",
   "metadata": {
    "tags": []
   },
   "outputs": [],
   "source": [
    "filtered_connectome_df = pd.merge(new_connectome_df, full_connectome_df, on=['ligand','receptor'], how='outer', indicator=True)\n",
    "filtered_cellphone_df = pd.merge(new_cellphone_df, full_cellphone_df, on=['ligand','receptor'], how='outer', indicator=True)\n",
    "filtered_cellchat_df = pd.merge(new_cellchat_df, full_cellchat_df, on=['ligand','receptor'], how='outer', indicator=True)\n",
    "filtered_input_df = pd.merge(new_input_data, full_input_data, on=['Src','Dst'], how='outer', indicator=True)\n",
    "#filtered_consensus_df = pd.merge(new_consensus_data, full_input_data, on=['Src','Dst'], how='outer', indicator=True)"
   ]
  },
  {
   "cell_type": "code",
   "execution_count": 62,
   "id": "b2834a65-5c22-4c65-9c82-53915db92d4d",
   "metadata": {
    "tags": []
   },
   "outputs": [],
   "source": [
    "filtered_connectome_df = filtered_connectome_df[filtered_connectome_df[\"_merge\"]==\"right_only\"][[\"ligand\",\"receptor\"]]\n",
    "filtered_cellchat_df = filtered_cellchat_df[filtered_cellchat_df[\"_merge\"]==\"right_only\"][[\"ligand\",\"receptor\"]]\n",
    "filtered_cellphone_df = filtered_cellphone_df[filtered_cellphone_df[\"_merge\"]==\"right_only\"][[\"ligand\",\"receptor\"]]\n",
    "filtered_input_df = filtered_input_df[filtered_input_df[\"_merge\"]==\"right_only\"][[\"Src\",\"Dst\"]]\n",
    "#filtered_consensus_df = filtered_consensus_df[filtered_consensus_df[\"_merge\"]==\"right_only\"][[\"Src\",\"Dst\"]]"
   ]
  },
  {
   "cell_type": "markdown",
   "id": "e7f49967-cf30-44b8-b0f9-29199f943ebf",
   "metadata": {},
   "source": [
    "## Day 0"
   ]
  },
  {
   "cell_type": "code",
   "execution_count": 80,
   "id": "f2b1611f",
   "metadata": {
    "tags": []
   },
   "outputs": [
    {
     "name": "stderr",
     "output_type": "stream",
     "text": [
      "/tmp/ipykernel_37122/3990631905.py:13: FutureWarning: X.dtype being converted to np.float32 from float64. In the next version of anndata (0.9) conversion will not be automatic. Pass dtype explicitly to avoid this warning. Pass `AnnData(X, dtype=X.dtype, ...)` to get the future behavour.\n"
     ]
    },
    {
     "name": "stdout",
     "output_type": "stream",
     "text": [
      "WARNING: You’re trying to run this on 14855 dimensions of `.X`, if you really want this, set `use_rep='X'`.\n",
      "         Falling back to preprocessing with `sc.pp.pca` and default params.\n"
     ]
    },
    {
     "name": "stderr",
     "output_type": "stream",
     "text": [
      "/tmp/ipykernel_37122/3990631905.py:23: FutureWarning: X.dtype being converted to np.float32 from float64. In the next version of anndata (0.9) conversion will not be automatic. Pass dtype explicitly to avoid this warning. Pass `AnnData(X, dtype=X.dtype, ...)` to get the future behavour.\n"
     ]
    },
    {
     "name": "stdout",
     "output_type": "stream",
     "text": [
      "WARNING: Default of the method has been changed to 't-test' from 't-test_overestim_var'\n"
     ]
    }
   ],
   "source": [
    "matrix = pd.read_csv(\"../../data/CellGATv2_Input/Pre_Post/Day0/matrix.csv\",index_col=0)\n",
    "\n",
    "matrix.index = [str(i).upper() for i in matrix.index.tolist()]\n",
    "\n",
    "from scipy.stats import wilcoxon\n",
    "import anndata\n",
    "import scanpy as sc\n",
    "\n",
    "index = matrix.index.tolist()\n",
    "\n",
    "matrix = matrix.fillna(0)\n",
    "\n",
    "adata = anndata.AnnData(matrix.transpose())\n",
    "\n",
    "sc.pp.normalize_total(adata)\n",
    "sc.pp.neighbors(adata)\n",
    "sc.tl.leiden(adata)\n",
    "\n",
    "meta = pd.DataFrame({\"cell\":adata.obs[\"leiden\"].index.tolist(),\"label\":adata.obs[\"leiden\"].tolist()})\n",
    "\n",
    "meta.index = meta[\"cell\"].tolist()\n",
    "\n",
    "adata = anndata.AnnData(matrix.transpose())\n",
    "adata.raw = adata\n",
    "adata.obs = meta\n",
    "adata.obs[\"label\"] = adata.obs[\"label\"].astype(\"category\")\n",
    "sc.tl.rank_genes_groups(adata, 'label')"
   ]
  },
  {
   "cell_type": "code",
   "execution_count": 81,
   "id": "10701433",
   "metadata": {
    "tags": []
   },
   "outputs": [],
   "source": [
    "connectome(adata,groupby=\"label\",expr_prop=0)\n",
    "connectome_df = adata.uns[\"liana_res\"][[\"source\",\"target\",\"ligand\",\"receptor\",\"expr_prod\"]].sort_values(\"expr_prod\",ascending=False)\n",
    "cellphonedb(adata,groupby=\"label\")\n",
    "cellphone_df = adata.uns[\"liana_res\"][[\"source\",\"target\",\"ligand\",\"receptor\",\"lr_means\"]].sort_values(\"lr_means\",ascending=False)\n",
    "cellchat(adata,groupby=\"label\")\n",
    "cellchat_df = adata.uns[\"liana_res\"][[\"source\",\"target\",\"ligand\",\"receptor\",\"lr_probs\"]].sort_values(\"lr_probs\",ascending=False)"
   ]
  },
  {
   "cell_type": "code",
   "execution_count": 82,
   "id": "ea7298a5",
   "metadata": {
    "tags": []
   },
   "outputs": [],
   "source": [
    "day0_list = [connectome_df,cellphone_df,cellchat_df]"
   ]
  },
  {
   "cell_type": "markdown",
   "id": "6c8b2a51-ccc7-474b-b795-edf0654df5dc",
   "metadata": {},
   "source": [
    "## Day 7 - replicate 1"
   ]
  },
  {
   "cell_type": "code",
   "execution_count": 83,
   "id": "d854aecf",
   "metadata": {
    "tags": []
   },
   "outputs": [
    {
     "name": "stdout",
     "output_type": "stream",
     "text": [
      "WARNING: You’re trying to run this on 14573 dimensions of `.X`, if you really want this, set `use_rep='X'`.\n",
      "         Falling back to preprocessing with `sc.pp.pca` and default params.\n"
     ]
    },
    {
     "name": "stderr",
     "output_type": "stream",
     "text": [
      "/tmp/ipykernel_37122/4282893567.py:13: FutureWarning: X.dtype being converted to np.float32 from float64. In the next version of anndata (0.9) conversion will not be automatic. Pass dtype explicitly to avoid this warning. Pass `AnnData(X, dtype=X.dtype, ...)` to get the future behavour.\n",
      "/tmp/ipykernel_37122/4282893567.py:23: FutureWarning: X.dtype being converted to np.float32 from float64. In the next version of anndata (0.9) conversion will not be automatic. Pass dtype explicitly to avoid this warning. Pass `AnnData(X, dtype=X.dtype, ...)` to get the future behavour.\n"
     ]
    },
    {
     "name": "stdout",
     "output_type": "stream",
     "text": [
      "WARNING: Default of the method has been changed to 't-test' from 't-test_overestim_var'\n"
     ]
    }
   ],
   "source": [
    "matrix = pd.read_csv(\"../../data/CellGATv2_Input/Pre_Post/Day7_1/matrix.csv\",index_col=0)\n",
    "\n",
    "matrix.index = [str(i).upper() for i in matrix.index.tolist()]\n",
    "\n",
    "from scipy.stats import wilcoxon\n",
    "import anndata\n",
    "import scanpy as sc\n",
    "\n",
    "index = matrix.index.tolist()\n",
    "\n",
    "matrix = matrix.fillna(0)\n",
    "\n",
    "adata = anndata.AnnData(matrix.transpose())\n",
    "\n",
    "sc.pp.normalize_total(adata)\n",
    "sc.pp.neighbors(adata)\n",
    "sc.tl.leiden(adata)\n",
    "\n",
    "meta = pd.DataFrame({\"cell\":adata.obs[\"leiden\"].index.tolist(),\"label\":adata.obs[\"leiden\"].tolist()})\n",
    "\n",
    "meta.index = meta[\"cell\"].tolist()\n",
    "\n",
    "adata = anndata.AnnData(matrix.transpose())\n",
    "adata.raw = adata\n",
    "adata.obs = meta\n",
    "adata.obs[\"label\"] = adata.obs[\"label\"].astype(\"category\")\n",
    "sc.tl.rank_genes_groups(adata, 'label')"
   ]
  },
  {
   "cell_type": "code",
   "execution_count": 84,
   "id": "25bdc74d",
   "metadata": {
    "tags": []
   },
   "outputs": [],
   "source": [
    "connectome(adata,groupby=\"label\",expr_prop=0)\n",
    "connectome_df = adata.uns[\"liana_res\"][[\"source\",\"target\",\"ligand\",\"receptor\",\"expr_prod\"]].sort_values(\"expr_prod\",ascending=False)\n",
    "cellphonedb(adata,groupby=\"label\")\n",
    "cellphone_df = adata.uns[\"liana_res\"][[\"source\",\"target\",\"ligand\",\"receptor\",\"lr_means\"]].sort_values(\"lr_means\",ascending=False)\n",
    "cellchat(adata,groupby=\"label\")\n",
    "cellchat_df = adata.uns[\"liana_res\"][[\"source\",\"target\",\"ligand\",\"receptor\",\"lr_probs\"]].sort_values(\"lr_probs\",ascending=False)"
   ]
  },
  {
   "cell_type": "code",
   "execution_count": 85,
   "id": "36eee720",
   "metadata": {
    "tags": []
   },
   "outputs": [],
   "source": [
    "day7_rep1_list = [connectome_df,cellphone_df,cellchat_df]"
   ]
  },
  {
   "cell_type": "markdown",
   "id": "5cb3afa2-5dcd-4383-9119-a1e231dda23a",
   "metadata": {},
   "source": [
    "## Day 7 - replicate 2"
   ]
  },
  {
   "cell_type": "code",
   "execution_count": 86,
   "id": "d6b6467e",
   "metadata": {
    "tags": []
   },
   "outputs": [
    {
     "name": "stdout",
     "output_type": "stream",
     "text": [
      "WARNING: You’re trying to run this on 14362 dimensions of `.X`, if you really want this, set `use_rep='X'`.\n",
      "         Falling back to preprocessing with `sc.pp.pca` and default params.\n"
     ]
    },
    {
     "name": "stderr",
     "output_type": "stream",
     "text": [
      "/tmp/ipykernel_37122/1007974555.py:13: FutureWarning: X.dtype being converted to np.float32 from float64. In the next version of anndata (0.9) conversion will not be automatic. Pass dtype explicitly to avoid this warning. Pass `AnnData(X, dtype=X.dtype, ...)` to get the future behavour.\n",
      "/tmp/ipykernel_37122/1007974555.py:24: FutureWarning: X.dtype being converted to np.float32 from float64. In the next version of anndata (0.9) conversion will not be automatic. Pass dtype explicitly to avoid this warning. Pass `AnnData(X, dtype=X.dtype, ...)` to get the future behavour.\n"
     ]
    },
    {
     "name": "stdout",
     "output_type": "stream",
     "text": [
      "WARNING: Default of the method has been changed to 't-test' from 't-test_overestim_var'\n"
     ]
    }
   ],
   "source": [
    "matrix = pd.read_csv(\"../../data/CellGATv2_Input/Pre_Post/Day7_2/matrix.csv\",index_col=0)\n",
    "\n",
    "matrix.index = [str(i).upper() for i in matrix.index.tolist()]\n",
    "\n",
    "from scipy.stats import wilcoxon\n",
    "import anndata\n",
    "import scanpy as sc\n",
    "\n",
    "index = matrix.index.tolist()\n",
    "\n",
    "matrix = matrix.fillna(0)\n",
    "\n",
    "adata = anndata.AnnData(matrix.transpose())\n",
    "\n",
    "\n",
    "sc.pp.normalize_total(adata)\n",
    "sc.pp.neighbors(adata)\n",
    "sc.tl.leiden(adata)\n",
    "\n",
    "meta = pd.DataFrame({\"cell\":adata.obs[\"leiden\"].index.tolist(),\"label\":adata.obs[\"leiden\"].tolist()})\n",
    "\n",
    "meta.index = meta[\"cell\"].tolist()\n",
    "\n",
    "adata = anndata.AnnData(matrix.transpose())\n",
    "adata.raw = adata\n",
    "adata.obs = meta\n",
    "adata.obs[\"label\"] = adata.obs[\"label\"].astype(\"category\")\n",
    "sc.tl.rank_genes_groups(adata, 'label')\n",
    "pval_df = pd.DataFrame.from_records(adata.uns[\"rank_genes_groups\"][\"pvals\"])\n",
    "pval_df.index = matrix.index.tolist()\n",
    "cell_type_df = {}\n",
    "for i in pval_df.columns.tolist():\n",
    "    sub = pval_df[i]\n",
    "    sub = sub[sub < 0.05]\n",
    "    cell_type_df[i] = sub.index.tolist()"
   ]
  },
  {
   "cell_type": "code",
   "execution_count": 87,
   "id": "b84e0389",
   "metadata": {
    "tags": []
   },
   "outputs": [],
   "source": [
    "connectome(adata,groupby=\"label\",expr_prop=0)\n",
    "connectome_df = adata.uns[\"liana_res\"][[\"source\",\"target\",\"ligand\",\"receptor\",\"expr_prod\"]].sort_values(\"expr_prod\",ascending=False)\n",
    "cellphonedb(adata,groupby=\"label\")\n",
    "cellphone_df = adata.uns[\"liana_res\"][[\"source\",\"target\",\"ligand\",\"receptor\",\"lr_means\"]].sort_values(\"lr_means\",ascending=False)\n",
    "cellchat(adata,groupby=\"label\")\n",
    "cellchat_df = adata.uns[\"liana_res\"][[\"source\",\"target\",\"ligand\",\"receptor\",\"lr_probs\"]].sort_values(\"lr_probs\",ascending=False)"
   ]
  },
  {
   "cell_type": "code",
   "execution_count": 88,
   "id": "ef69d1d5-8cfc-478b-ac51-e969a6ed2162",
   "metadata": {
    "tags": []
   },
   "outputs": [],
   "source": [
    "day7_rep2_list = [connectome_df,cellphone_df,cellchat_df]"
   ]
  },
  {
   "cell_type": "markdown",
   "id": "71ec8352-dbbd-4dc8-ac9f-f6bce06a511f",
   "metadata": {},
   "source": [
    "### pathway analysis"
   ]
  },
  {
   "cell_type": "code",
   "execution_count": 89,
   "id": "ef96e9fe-ca62-4504-ac3a-f9b075885f96",
   "metadata": {
    "tags": []
   },
   "outputs": [],
   "source": [
    "pathways = pd.read_csv(\"../../data/LR_database/kegg_pathways.csv\")"
   ]
  },
  {
   "cell_type": "code",
   "execution_count": 90,
   "id": "787d8369-0e36-462b-9538-6e5e000e3845",
   "metadata": {
    "tags": []
   },
   "outputs": [],
   "source": [
    "Omnipath_db = pd.read_csv(\"../../data/LR_database/consensus_Omnipath.csv\",index_col=0)[[\"source\",\"target\"]].drop_duplicates()\n",
    "Omnipath_db.columns = [\"from\",\"to\"]\n",
    "Omnipath_db = Omnipath_db.drop_duplicates()"
   ]
  },
  {
   "cell_type": "code",
   "execution_count": 91,
   "id": "0bce9864-2ce5-4356-8b12-eb040b848cfb",
   "metadata": {
    "tags": []
   },
   "outputs": [],
   "source": [
    "day0_list = [i[(i[\"ligand\"].isin(Omnipath_db[\"from\"].tolist()))&(i[\"receptor\"].isin(Omnipath_db[\"to\"].tolist()))] for i in day0_list]\n",
    "day7_rep1_list = [i[(i[\"ligand\"].isin(Omnipath_db[\"from\"].tolist()))&(i[\"receptor\"].isin(Omnipath_db[\"to\"].tolist()))] for i in day7_rep1_list]\n",
    "day7_rep2_list = [i[(i[\"ligand\"].isin(Omnipath_db[\"from\"].tolist()))&(i[\"receptor\"].isin(Omnipath_db[\"to\"].tolist()))] for i in day7_rep2_list]"
   ]
  },
  {
   "cell_type": "code",
   "execution_count": 92,
   "id": "8586e366-ce44-4b45-81d8-e83a0bd9031e",
   "metadata": {
    "tags": []
   },
   "outputs": [],
   "source": [
    "total_day7_1 = pd.read_csv(\"../../data/CellGATv2_Output/Pre_Post/Day0/CCI.csv\")[[\"Src\",\"Dst\"]]\n",
    "total_day7_2 = pd.read_csv(\"../../data/CellGATv2_Output/Pre_Post/Day7_1/CCI.csv\")[[\"Src\",\"Dst\"]]\n",
    "total_day0 = pd.read_csv(\"../../data/CellGATv2_Output/Pre_Post/Day7_2/CCI.csv\")[[\"Src\",\"Dst\"]]\n",
    "\n",
    "total_day7_1 = total_day7_1[(total_day7_1[\"Src\"].isin(Omnipath_db[\"from\"].tolist()))&(total_day7_1[\"Dst\"].isin(Omnipath_db[\"to\"].tolist()))]\n",
    "total_day7_2 = total_day7_2[(total_day7_2[\"Src\"].isin(Omnipath_db[\"from\"].tolist()))&(total_day7_2[\"Dst\"].isin(Omnipath_db[\"to\"].tolist()))]\n",
    "total_day0 = total_day0[(total_day0[\"Src\"].isin(Omnipath_db[\"from\"].tolist()))&(total_day0[\"Dst\"].isin(Omnipath_db[\"to\"].tolist()))]"
   ]
  },
  {
   "cell_type": "code",
   "execution_count": 93,
   "id": "c3ae9a81-5874-4cd0-baf7-113c038e5975",
   "metadata": {
    "tags": []
   },
   "outputs": [],
   "source": [
    "pathways.index = pathways[\"genesymbol\"].tolist()"
   ]
  },
  {
   "cell_type": "code",
   "execution_count": 94,
   "id": "6b12b785-cf02-4bf7-9d6e-904ef7df651f",
   "metadata": {
    "tags": []
   },
   "outputs": [],
   "source": [
    "day0_list = [i[(i[\"ligand\"].isin(pathways[\"genesymbol\"].tolist()))&(i[\"receptor\"].isin(pathways[\"genesymbol\"].tolist()))] for i in day0_list]\n",
    "day7_rep1_list = [i[(i[\"ligand\"].isin(pathways[\"genesymbol\"].tolist()))&(i[\"receptor\"].isin(pathways[\"genesymbol\"].tolist()))] for i in day7_rep1_list]\n",
    "day7_rep2_list = [i[(i[\"ligand\"].isin(pathways[\"genesymbol\"].tolist()))&(i[\"receptor\"].isin(pathways[\"genesymbol\"].tolist()))] for i in day7_rep2_list]"
   ]
  },
  {
   "cell_type": "code",
   "execution_count": 95,
   "id": "c8264f49-76c7-4da6-a793-365eb477a871",
   "metadata": {
    "tags": []
   },
   "outputs": [],
   "source": [
    "total_day7_1 = pd.read_csv(\"../../data/CellGATv2_Output/Pre_Post/Day0/CCI.csv\")[[\"Src\",\"Dst\"]]\n",
    "total_day7_2 = pd.read_csv(\"../../data/CellGATv2_Output/Pre_Post/Day7_1/CCI.csv\")[[\"Src\",\"Dst\"]]\n",
    "total_day0 = pd.read_csv(\"../../data/CellGATv2_Output/Pre_Post/Day7_2/CCI.csv\")[[\"Src\",\"Dst\"]]\n",
    "\n",
    "total_day7_1 = total_day7_1[(total_day7_1[\"Src\"].isin(pathways[\"genesymbol\"].tolist()))&(total_day7_1[\"Dst\"].isin(pathways[\"genesymbol\"].tolist()))]\n",
    "total_day7_2 = total_day7_2[(total_day7_2[\"Src\"].isin(pathways[\"genesymbol\"].tolist()))&(total_day7_2[\"Dst\"].isin(pathways[\"genesymbol\"].tolist()))]\n",
    "total_day0 = total_day0[(total_day0[\"Src\"].isin(pathways[\"genesymbol\"].tolist()))&(total_day0[\"Dst\"].isin(pathways[\"genesymbol\"].tolist()))]"
   ]
  },
  {
   "cell_type": "code",
   "execution_count": 96,
   "id": "1951e728-0d11-4f1e-bd66-da706e118f36",
   "metadata": {
    "tags": []
   },
   "outputs": [],
   "source": [
    "pathways = pathways.drop_duplicates(\"genesymbol\")\n",
    "pathways.index = pathways[\"genesymbol\"].tolist()"
   ]
  },
  {
   "cell_type": "code",
   "execution_count": 97,
   "id": "e9fa000f-f63e-4676-a7ab-fc20364c384e",
   "metadata": {
    "tags": []
   },
   "outputs": [],
   "source": [
    "for i in day0_list:\n",
    "    i[\"Ligand Pathway\"] = pathways.loc[i[\"ligand\"].tolist()][\"pathway\"].tolist()\n",
    "    i[\"Receptor Pathway\"] = pathways.loc[i[\"receptor\"].tolist()][\"pathway\"].tolist()"
   ]
  },
  {
   "cell_type": "code",
   "execution_count": 98,
   "id": "10f1f4c0-b189-4dd5-ba67-14900e11005a",
   "metadata": {
    "tags": []
   },
   "outputs": [],
   "source": [
    "for i in day7_rep1_list:\n",
    "    i[\"Ligand Pathway\"] = pathways.loc[i[\"ligand\"].tolist()][\"pathway\"].tolist()\n",
    "    i[\"Receptor Pathway\"] = pathways.loc[i[\"receptor\"].tolist()][\"pathway\"].tolist()"
   ]
  },
  {
   "cell_type": "code",
   "execution_count": 99,
   "id": "170a4d22-4375-4aa2-871d-32da9fc0ff23",
   "metadata": {
    "tags": []
   },
   "outputs": [],
   "source": [
    "for i in day7_rep2_list:\n",
    "    i[\"Ligand Pathway\"] = pathways.loc[i[\"ligand\"].tolist()][\"pathway\"].tolist()\n",
    "    i[\"Receptor Pathway\"] = pathways.loc[i[\"receptor\"].tolist()][\"pathway\"].tolist()"
   ]
  },
  {
   "cell_type": "code",
   "execution_count": 100,
   "id": "35236b18-1c70-4df3-9966-f257eabdd4df",
   "metadata": {
    "tags": []
   },
   "outputs": [],
   "source": [
    "total_day0[\"Ligand Pathway\"] = pathways.loc[total_day0[\"Src\"].tolist()][\"pathway\"].tolist()\n",
    "total_day0[\"Receptor Pathway\"] = pathways.loc[total_day0[\"Dst\"].tolist()][\"pathway\"].tolist()"
   ]
  },
  {
   "cell_type": "code",
   "execution_count": 101,
   "id": "6537e6a8-7d28-4c02-bd06-7286984c4faa",
   "metadata": {
    "tags": []
   },
   "outputs": [],
   "source": [
    "total_day7_1[\"Ligand Pathway\"] = pathways.loc[total_day7_1[\"Src\"].tolist()][\"pathway\"].tolist()\n",
    "total_day7_1[\"Receptor Pathway\"] = pathways.loc[total_day7_1[\"Dst\"].tolist()][\"pathway\"].tolist()"
   ]
  },
  {
   "cell_type": "code",
   "execution_count": 102,
   "id": "bb42e35e-56ee-487e-aa4d-08d89138cd15",
   "metadata": {
    "tags": []
   },
   "outputs": [],
   "source": [
    "total_day7_2[\"Ligand Pathway\"] = pathways.loc[total_day7_2[\"Src\"].tolist()][\"pathway\"].tolist()\n",
    "total_day7_2[\"Receptor Pathway\"] = pathways.loc[total_day7_2[\"Dst\"].tolist()][\"pathway\"].tolist()"
   ]
  },
  {
   "cell_type": "code",
   "execution_count": 103,
   "id": "e1003a1d-ca75-428b-8e2f-d85b230add4d",
   "metadata": {
    "tags": []
   },
   "outputs": [],
   "source": [
    "day0_list = [i.head(1000) for i in day0_list]\n",
    "day7_rep1_list = [i.head(1000) for i in day7_rep1_list]\n",
    "day7_rep2_list = [i.head(1000) for i in day7_rep2_list]"
   ]
  },
  {
   "cell_type": "code",
   "execution_count": 104,
   "id": "2e3e4972-3344-4cbb-8cf9-1993377d3494",
   "metadata": {
    "tags": []
   },
   "outputs": [],
   "source": [
    "total_day0 = total_day0.head(1000)\n",
    "total_day7_1 = total_day7_1.head(1000)\n",
    "total_day7_2 = total_day7_2.head(1000)"
   ]
  },
  {
   "cell_type": "code",
   "execution_count": 105,
   "id": "8a4bb810-5d78-417e-90b6-54ffe41ef392",
   "metadata": {
    "tags": []
   },
   "outputs": [],
   "source": [
    "grouped_day_7_1_list = [i.groupby(\"Receptor Pathway\").count().sort_values(\"ligand\",ascending=False) for i in day7_rep2_list]\n",
    "grouped_day_7_1 = total_day7_2.groupby(\"Receptor Pathway\").count().sort_values(\"Src\",ascending=False)"
   ]
  },
  {
   "cell_type": "code",
   "execution_count": 106,
   "id": "81fa19a8-88be-41c2-88e2-aefec640af38",
   "metadata": {
    "tags": []
   },
   "outputs": [],
   "source": [
    "grouped_day_7_1_list[0].to_csv(\"../../results/connectome_day7_2_receptor.csv\")"
   ]
  },
  {
   "cell_type": "code",
   "execution_count": 107,
   "id": "63b47f60-b778-4f11-ae8c-9b8644e965ec",
   "metadata": {
    "tags": []
   },
   "outputs": [],
   "source": [
    "grouped_day_7_1_list[1].to_csv(\"../../results/cellphone_day7_2_receptor.csv\")"
   ]
  },
  {
   "cell_type": "code",
   "execution_count": 108,
   "id": "5054cf18-1fca-4c29-ac6c-9a45c92200ca",
   "metadata": {
    "tags": []
   },
   "outputs": [],
   "source": [
    "grouped_day_7_1_list[2].to_csv(\"../../results/cellchat_day7_2_receptor.csv\")"
   ]
  },
  {
   "cell_type": "code",
   "execution_count": 109,
   "id": "760ff5d5-b8a5-4a64-9893-b87a65afc084",
   "metadata": {
    "tags": []
   },
   "outputs": [],
   "source": [
    "grouped_day_7_1.to_csv(\"../../results/CellGATv2_day7_2_receptor.csv\")"
   ]
  },
  {
   "cell_type": "markdown",
   "id": "254d662e-fccc-4e53-a512-3c2e2c95f8d1",
   "metadata": {},
   "source": [
    "### get unique ligand receptor interactions"
   ]
  },
  {
   "cell_type": "code",
   "execution_count": 110,
   "id": "731b954d",
   "metadata": {
    "tags": []
   },
   "outputs": [],
   "source": [
    "day0_list = [i[[\"ligand\",\"receptor\"]].drop_duplicates() for i in day0_list]\n",
    "day7_rep1_list = [i[[\"ligand\",\"receptor\"]].drop_duplicates() for i in day7_rep1_list]\n",
    "day7_rep2_list = [i[[\"ligand\",\"receptor\"]].drop_duplicates() for i in day7_rep2_list]"
   ]
  },
  {
   "cell_type": "code",
   "execution_count": 111,
   "id": "b617d42c",
   "metadata": {
    "tags": []
   },
   "outputs": [],
   "source": [
    "original_day0 = day0_list\n",
    "original_day7_rep1 = day7_rep1_list\n",
    "original_day7_rep2 = day7_rep2_list\n"
   ]
  },
  {
   "cell_type": "markdown",
   "id": "af25b9f9-484d-4634-9f5f-36f548334818",
   "metadata": {},
   "source": [
    "### for each method's result of each dataset, retrieve the top 50 interactions"
   ]
  },
  {
   "cell_type": "code",
   "execution_count": 112,
   "id": "bfa45152",
   "metadata": {
    "tags": []
   },
   "outputs": [],
   "source": [
    "day0_list = [i.head(50) for i in day0_list]\n",
    "day7_rep1_list = [i.head(50) for i in day7_rep1_list]\n",
    "day7_rep2_list = [i.head(50) for i in day7_rep2_list]\n"
   ]
  },
  {
   "cell_type": "code",
   "execution_count": 113,
   "id": "bedb515f-730f-444e-8034-db3ebce0607f",
   "metadata": {
    "tags": []
   },
   "outputs": [],
   "source": [
    "pathways = pd.read_csv(\"../../data/LR_database/kegg_pathways.csv\")"
   ]
  },
  {
   "cell_type": "code",
   "execution_count": 114,
   "id": "c2136fd2-dc45-453d-9a24-47c977daa322",
   "metadata": {
    "tags": []
   },
   "outputs": [
    {
     "name": "stderr",
     "output_type": "stream",
     "text": [
      "/tmp/ipykernel_37122/221003646.py:2: SettingWithCopyWarning: \n",
      "A value is trying to be set on a copy of a slice from a DataFrame.\n",
      "Try using .loc[row_indexer,col_indexer] = value instead\n",
      "\n",
      "See the caveats in the documentation: https://pandas.pydata.org/pandas-docs/stable/user_guide/indexing.html#returning-a-view-versus-a-copy\n"
     ]
    }
   ],
   "source": [
    "for i in day0_list:\n",
    "    i[\"Ligand Pathway\"] = [pathways[pathways[\"genesymbol\"]==j][\"pathway\"] for j in i[\"ligand\"].tolist()]"
   ]
  },
  {
   "cell_type": "markdown",
   "id": "39f05e85-008d-4f20-90bc-eb1dd837b938",
   "metadata": {},
   "source": [
    "### for each method's result of each dataset, only retain intercell validated interactions"
   ]
  },
  {
   "cell_type": "code",
   "execution_count": 115,
   "id": "41d3a782",
   "metadata": {
    "tags": []
   },
   "outputs": [],
   "source": [
    "Omnipath_db = pd.read_csv(\"../../data/LR_database/consensus_Omnipath.csv\",index_col=0)[[\"source\",\"target\"]].drop_duplicates()\n",
    "Omnipath_db.columns = [\"from\",\"to\"]\n",
    "Omnipath_db = Omnipath_db.drop_duplicates()"
   ]
  },
  {
   "cell_type": "code",
   "execution_count": 116,
   "id": "acefa218",
   "metadata": {
    "tags": []
   },
   "outputs": [],
   "source": [
    "day0_list = [pd.merge(i,Omnipath_db,left_on=[\"ligand\",\"receptor\"],right_on=[\"from\",\"to\"]) for i in day0_list]\n",
    "day7_rep1_list = [pd.merge(i,Omnipath_db,left_on=[\"ligand\",\"receptor\"],right_on=[\"from\",\"to\"]) for i in day7_rep1_list]\n",
    "day7_rep2_list = [pd.merge(i,Omnipath_db,left_on=[\"ligand\",\"receptor\"],right_on=[\"from\",\"to\"]) for i in day7_rep2_list]\n",
    "\n",
    "day0_list = [i[[\"ligand\",\"receptor\"]] for i in day0_list]\n",
    "day7_rep1_list = [i[[\"ligand\",\"receptor\"]] for i in day7_rep1_list]\n",
    "day7_rep2_list = [i[[\"ligand\",\"receptor\"]] for i in day7_rep2_list]"
   ]
  },
  {
   "cell_type": "markdown",
   "id": "37f15d14-18e9-4691-863d-ca756c889a74",
   "metadata": {},
   "source": [
    "### for each method, capture maximum # of unique interactions between top 100 CCC interactions between pre and post treatment datasets"
   ]
  },
  {
   "cell_type": "code",
   "execution_count": 117,
   "id": "30a3280c",
   "metadata": {
    "tags": []
   },
   "outputs": [],
   "source": [
    "pre_post_list = []\n",
    "for i,j,k in zip(day0_list,day7_rep1_list,day7_rep2_list):\n",
    "    day0_day7_rep1_common = pd.merge(i,j).shape[0]/50\n",
    "    day0_day7_rep2_common = pd.merge(i,k).shape[0]/50\n",
    "    pre_post_list.append(min(1-day0_day7_rep1_common,1-day0_day7_rep2_common))"
   ]
  },
  {
   "cell_type": "markdown",
   "id": "5aa3a844-b69a-4e52-b765-44e9a4da5cf9",
   "metadata": {},
   "source": [
    "### import CellGATv2's results, perform same preprocessing"
   ]
  },
  {
   "cell_type": "code",
   "execution_count": 118,
   "id": "8167b918",
   "metadata": {
    "tags": []
   },
   "outputs": [],
   "source": [
    "total_day7_1 = pd.read_csv(\"../../data/CellGATv2_Output/Pre_Post/Day0/CCI.csv\")[[\"Src\",\"Dst\"]]\n",
    "total_day7_2 = pd.read_csv(\"../../data/CellGATv2_Output/Pre_Post/Day7_1/CCI.csv\")[[\"Src\",\"Dst\"]]\n",
    "total_day0 = pd.read_csv(\"../../data/CellGATv2_Output/Pre_Post/Day7_2/CCI.csv\")[[\"Src\",\"Dst\"]]\n",
    "\n",
    "total_day0 = pd.merge(total_day0,Omnipath_db,left_on=[\"Src\",\"Dst\"],right_on=[\"from\",\"to\"]).head(50)[[\"Src\",\"Dst\"]]\n",
    "total_day7_1 = pd.merge(total_day7_1,Omnipath_db,left_on=[\"Src\",\"Dst\"],right_on=[\"from\",\"to\"]).head(50)[[\"Src\",\"Dst\"]]\n",
    "total_day7_2 = pd.merge(total_day7_2,Omnipath_db,left_on=[\"Src\",\"Dst\"],right_on=[\"from\",\"to\"]).head(50)[[\"Src\",\"Dst\"]]"
   ]
  },
  {
   "cell_type": "code",
   "execution_count": 119,
   "id": "c4e71764",
   "metadata": {
    "tags": []
   },
   "outputs": [],
   "source": [
    "total_day0_day7_1 = pd.merge(total_day0,total_day7_1).shape[0]/50\n",
    "total_day0_day7_2 = pd.merge(total_day0,total_day7_2).shape[0]/50\n",
    "total_pre_post = max(1-total_day0_day7_1,1-total_day0_day7_2)"
   ]
  },
  {
   "cell_type": "code",
   "execution_count": 120,
   "id": "31dd0c7c",
   "metadata": {
    "tags": []
   },
   "outputs": [
    {
     "data": {
      "text/plain": [
       "Text(0, 0.5, 'Fraction of Unique Interactions')"
      ]
     },
     "execution_count": 120,
     "metadata": {},
     "output_type": "execute_result"
    },
    {
     "data": {
      "image/png": "[encoded data removed]",
      "text/plain": [
       "<Figure size 800x480 with 1 Axes>"
      ]
     },
     "metadata": {},
     "output_type": "display_data"
    }
   ],
   "source": [
    "%matplotlib inline\n",
    "from matplotlib.pyplot import figure\n",
    "figure(figsize=(10,6), dpi=80)\n",
    "plt.bar([\"CellGAT\",\"Connectome\",\"CellphoneDB\",\"CellChat\"],[total_pre_post] + pre_post_list)\n",
    "\n",
    "plt.title(\"Fraction of Unique Interactions in PC9 lung adenocarcinoma Datasets\")\n",
    "plt.ylabel(\"Fraction of Unique Interactions\")"
   ]
  },
  {
   "cell_type": "markdown",
   "id": "f1414a40",
   "metadata": {},
   "source": [
    "# Cardiac_cells(Spatial data)"
   ]
  },
  {
   "cell_type": "code",
   "execution_count": 2,
   "id": "3ccf5be7",
   "metadata": {
    "tags": []
   },
   "outputs": [
    {
     "name": "stdout",
     "output_type": "stream",
     "text": [
      "WARNING: Default of the method has been changed to 't-test' from 't-test_overestim_var'\n"
     ]
    }
   ],
   "source": [
    "adata = sc.read_h5ad(\"../../data/raw_data/Cardiac_cells//Visium-FZ_GT_P19.h5ad\")\n",
    "sc.pp.normalize_total(adata)\n",
    "sc.pp.log1p(adata)\n",
    "sc.tl.pca(adata)\n",
    "sc.pp.neighbors(adata)\n",
    "sc.tl.leiden(adata)\n",
    "matrix = pd.DataFrame.sparse.from_spmatrix(adata.X,index=adata.obs.index.tolist(),columns=adata.var[\"feature_name\"].tolist())\n",
    "\n",
    "meta = pd.DataFrame({\"cell\":adata.obs.index.tolist(),\"label\":adata.obs[\"cell_type_original\"].tolist()})\n",
    "meta = meta[meta[\"label\"] != \"Lymphoid\"]\n",
    "meta.index = meta[\"cell\"].tolist()\n",
    "\n",
    "matrix = matrix.transpose()\n",
    "\n",
    "matrix = matrix[meta.index.tolist()]\n",
    "\n",
    "from scipy.stats import wilcoxon\n",
    "import anndata\n",
    "import scanpy as sc\n",
    "\n",
    "index = matrix.index.tolist()\n",
    "\n",
    "meta['label'] = meta[\"label\"].astype(\"string\").tolist()\n",
    "\n",
    "meta[\"cell\"] = meta[\"cell\"].astype(\"category\")\n",
    "meta[\"label\"] = meta[\"label\"].astype(\"category\")\n",
    "\n",
    "matrix = matrix.loc[:,~matrix.columns.duplicated()].copy()\n",
    "meta = meta.loc[~meta.index.duplicated(),:].copy()\n",
    "\n",
    "adata = anndata.AnnData(matrix.transpose())\n",
    "adata.raw = adata\n",
    "adata.obs = meta\n",
    "adata.obs[\"label\"] = adata.obs[\"label\"].astype(\"category\")\n",
    "sc.tl.rank_genes_groups(adata, 'label')"
   ]
  },
  {
   "cell_type": "code",
   "execution_count": 3,
   "id": "f17ad53f",
   "metadata": {
    "tags": []
   },
   "outputs": [],
   "source": [
    "connectome(adata,groupby=\"label\",expr_prop=0.05)\n",
    "spatial_connectome_df = adata.uns[\"liana_res\"][[\"source\",\"target\",\"ligand\",\"receptor\",\"expr_prod\"]].sort_values(\"expr_prod\",ascending=False)\n",
    "cellphonedb(adata,groupby=\"label\",expr_prop=0.03)\n",
    "spatial_cellphone_df = adata.uns[\"liana_res\"][[\"source\",\"target\",\"ligand\",\"receptor\",\"lr_means\"]].sort_values(\"lr_means\",ascending=False)\n",
    "cellchat(adata,groupby=\"label\",expr_prop=0.01)\n",
    "spatial_cellchat_df = adata.uns[\"liana_res\"][[\"source\",\"target\",\"ligand\",\"receptor\",\"lr_probs\"]].sort_values(\"lr_probs\",ascending=False)"
   ]
  },
  {
   "cell_type": "markdown",
   "id": "d1c0e402-b21b-4133-8cf5-fb1759269cf6",
   "metadata": {},
   "source": [
    "\n",
    "### remove self-loops for cell groups"
   ]
  },
  {
   "cell_type": "code",
   "execution_count": 4,
   "id": "54edc84c",
   "metadata": {
    "tags": []
   },
   "outputs": [],
   "source": [
    "spatial_cellphone_df = spatial_cellphone_df[spatial_cellphone_df[\"source\"] != spatial_cellphone_df[\"target\"]]\n",
    "spatial_cellchat_df = spatial_cellchat_df[spatial_cellchat_df[\"source\"] != spatial_cellchat_df[\"target\"]]\n",
    "spatial_connectome_df = spatial_connectome_df[spatial_connectome_df[\"source\"] != spatial_connectome_df[\"target\"]]"
   ]
  },
  {
   "cell_type": "markdown",
   "id": "c4fd7d4a-65db-4f15-bd07-15864090add2",
   "metadata": {},
   "source": [
    "### for each method's results, capture the top 10 unique cell group interactions"
   ]
  },
  {
   "cell_type": "code",
   "execution_count": 5,
   "id": "d7852f53",
   "metadata": {
    "tags": []
   },
   "outputs": [],
   "source": [
    "temp_cellphone_df = spatial_cellphone_df.drop_duplicates([\"source\",\"target\"]).head(10)\n",
    "temp_cellchat_df = spatial_cellchat_df.drop_duplicates([\"source\",\"target\"]).head(10)\n",
    "temp_connectome_df = spatial_connectome_df.drop_duplicates([\"source\",\"target\"]).head(10)"
   ]
  },
  {
   "cell_type": "markdown",
   "id": "c02f3abd-b543-494c-a7fd-5424da5dc6d8",
   "metadata": {},
   "source": [
    "### import CellGATv2 results, remove self loops and capture the top 10 unique cell group interactions"
   ]
  },
  {
   "cell_type": "code",
   "execution_count": 6,
   "id": "57e7d649",
   "metadata": {
    "tags": []
   },
   "outputs": [],
   "source": [
    "total_spatial = pd.read_csv(\"../../data/CellGATv2_Output/Cardiac_cells/FZ_GT_P19/CCI.csv\",index_col=0)\n",
    "total_spatial = total_spatial[total_spatial[\"Src Cell\"] != total_spatial[\"Dst Cell\"]]\n",
    "total_spatial = total_spatial.drop_duplicates([\"Src Cell\",\"Dst Cell\"]).head(10)"
   ]
  },
  {
   "cell_type": "markdown",
   "id": "697bc166-9de2-4cc2-a667-ba4e28870e4f",
   "metadata": {},
   "source": [
    "### retrieve cell group spatial coordinates"
   ]
  },
  {
   "cell_type": "code",
   "execution_count": 7,
   "id": "5556af1e-afac-45ba-bee8-e28b0202f20a",
   "metadata": {
    "tags": []
   },
   "outputs": [],
   "source": [
    "adata = sc.read_h5ad(\"../../data/raw_data/Cardiac_cells/Visium-FZ_GT_P19.h5ad\")"
   ]
  },
  {
   "cell_type": "code",
   "execution_count": 8,
   "id": "a4004a17",
   "metadata": {
    "tags": []
   },
   "outputs": [],
   "source": [
    "meta = pd.DataFrame({\"cell\":adata.obs.index.tolist(),\"label\":adata.obs[\"cell_type_original\"].tolist()})\n",
    "meta = meta[meta[\"label\"] != \"Lymphoid\"]\n",
    "meta.index = meta[\"cell\"].tolist()\n",
    "\n",
    "adata = adata[meta.index.tolist()]\n",
    "spatial_coordinates = adata.obsm[\"X_spatial\"]\n",
    "spatial_df = pd.DataFrame({\"x\":spatial_coordinates[:,0],\"y\":spatial_coordinates[:,1]},index=meta.index.tolist())\n",
    "cell_groups = meta[\"label\"].unique().tolist()"
   ]
  },
  {
   "cell_type": "markdown",
   "id": "980bbb1e-013e-452e-9bfe-0b7e67acac26",
   "metadata": {},
   "source": [
    "### extract from each method, the average eucleadian distance for the top 10 cell group interactions"
   ]
  },
  {
   "cell_type": "code",
   "execution_count": 9,
   "id": "ccf650ab",
   "metadata": {
    "tags": []
   },
   "outputs": [],
   "source": [
    "cellphone_spatial = []\n",
    "for one,two in zip(temp_cellphone_df[\"source\"].tolist(),temp_cellphone_df[\"target\"].tolist()):\n",
    "    cells = meta[meta[\"label\"]==one].index.tolist()\n",
    "    spatial_coords = [(i,j) for i,j in zip(spatial_df.loc[cells][\"x\"].tolist(),spatial_df.loc[cells][\"y\"].tolist())]\n",
    "    second_cells = meta[meta[\"label\"]==two].index.tolist()\n",
    "    second_spatial_coords = [(i,j) for i,j in zip(spatial_df.loc[second_cells][\"x\"].tolist(),spatial_df.loc[second_cells][\"y\"].tolist())]\n",
    "    min_list = []\n",
    "    for k in spatial_coords:\n",
    "        min_list.append(np.mean([math.dist(k,l) for l in second_spatial_coords]))\n",
    "    cellphone_spatial.append(np.mean(min_list))\n"
   ]
  },
  {
   "cell_type": "code",
   "execution_count": 10,
   "id": "a9a7b272",
   "metadata": {
    "tags": []
   },
   "outputs": [],
   "source": [
    "cellchat_spatial = []\n",
    "for one,two in zip(temp_cellchat_df[\"source\"].tolist(),temp_cellchat_df[\"target\"].tolist()):\n",
    "    cells = meta[meta[\"label\"]==one].index.tolist()\n",
    "    spatial_coords = [(i,j) for i,j in zip(spatial_df.loc[cells][\"x\"].tolist(),spatial_df.loc[cells][\"y\"].tolist())]\n",
    "    second_cells = meta[meta[\"label\"]==two].index.tolist()\n",
    "    second_spatial_coords = [(i,j) for i,j in zip(spatial_df.loc[second_cells][\"x\"].tolist(),spatial_df.loc[second_cells][\"y\"].tolist())]\n",
    "    min_list = []\n",
    "    for k in spatial_coords:\n",
    "        min_list.append(np.mean([math.dist(k,l) for l in second_spatial_coords]))\n",
    "    cellchat_spatial.append(np.mean(min_list))\n"
   ]
  },
  {
   "cell_type": "code",
   "execution_count": 11,
   "id": "1bc8e7f2",
   "metadata": {
    "tags": []
   },
   "outputs": [],
   "source": [
    "connectome_spatial = []\n",
    "for one,two in zip(temp_connectome_df[\"source\"].tolist(),temp_connectome_df[\"target\"].tolist()):\n",
    "    cells = meta[meta[\"label\"]==one].index.tolist()\n",
    "    spatial_coords = [(i,j) for i,j in zip(spatial_df.loc[cells][\"x\"].tolist(),spatial_df.loc[cells][\"y\"].tolist())]\n",
    "    second_cells = meta[meta[\"label\"]==two].index.tolist()\n",
    "    second_spatial_coords = [(i,j) for i,j in zip(spatial_df.loc[second_cells][\"x\"].tolist(),spatial_df.loc[second_cells][\"y\"].tolist())]\n",
    "    min_list = []\n",
    "    for k in spatial_coords:\n",
    "        min_list.append(np.mean([math.dist(k,l) for l in second_spatial_coords]))\n",
    "    connectome_spatial.append(np.mean(min_list))\n"
   ]
  },
  {
   "cell_type": "code",
   "execution_count": 12,
   "id": "ea722e16",
   "metadata": {
    "tags": []
   },
   "outputs": [],
   "source": [
    "CellGATv2_total_spatial = []\n",
    "for one,two in zip(total_spatial[\"Src Cell\"].tolist(),total_spatial[\"Dst Cell\"].tolist()):\n",
    "    cells = meta[meta[\"label\"]==one].index.tolist()\n",
    "    spatial_coords = [(i,j) for i,j in zip(spatial_df.loc[cells][\"x\"].tolist(),spatial_df.loc[cells][\"y\"].tolist())]\n",
    "    second_cells = meta[meta[\"label\"]==two].index.tolist()\n",
    "    second_spatial_coords = [(i,j) for i,j in zip(spatial_df.loc[second_cells][\"x\"].tolist(),spatial_df.loc[second_cells][\"y\"].tolist())]\n",
    "    min_list = []\n",
    "    for k in spatial_coords:\n",
    "        min_list.append(np.mean([math.dist(k,l) for l in second_spatial_coords]))\n",
    "    CellGATv2_total_spatial.append(np.mean(min_list))\n"
   ]
  },
  {
   "cell_type": "code",
   "execution_count": 13,
   "id": "e2e26dca",
   "metadata": {
    "tags": []
   },
   "outputs": [],
   "source": [
    "x = [connectome_spatial,cellchat_spatial,cellphone_spatial,CellGATv2_total_spatial,]\n",
    "comparison_labels = ['Connectome',\"CellChat\",\"CellponeDB\",\"CellGAT\"]\n",
    "df = pd.DataFrame(x, index=comparison_labels)\n"
   ]
  },
  {
   "cell_type": "markdown",
   "id": "9eab76c5-9c82-4d77-97e2-226071c30496",
   "metadata": {},
   "source": [
    "### visualize via ridgeline plot"
   ]
  },
  {
   "cell_type": "code",
   "execution_count": 14,
   "id": "7e93fd10-4086-45d4-9535-e65d5ffb3b38",
   "metadata": {
    "tags": []
   },
   "outputs": [
    {
     "data": {
      "text/html": [
       "<div>\n",
       "<style scoped>\n",
       "    .dataframe tbody tr th:only-of-type {\n",
       "        vertical-align: middle;\n",
       "    }\n",
       "\n",
       "    .dataframe tbody tr th {\n",
       "        vertical-align: top;\n",
       "    }\n",
       "\n",
       "    .dataframe thead th {\n",
       "        text-align: right;\n",
       "    }\n",
       "</style>\n",
       "<table border=\"1\" class=\"dataframe\">\n",
       "  <thead>\n",
       "    <tr style=\"text-align: right;\">\n",
       "      <th></th>\n",
       "      <th>0</th>\n",
       "      <th>1</th>\n",
       "      <th>2</th>\n",
       "      <th>3</th>\n",
       "      <th>4</th>\n",
       "      <th>5</th>\n",
       "      <th>6</th>\n",
       "      <th>7</th>\n",
       "      <th>8</th>\n",
       "      <th>9</th>\n",
       "    </tr>\n",
       "  </thead>\n",
       "  <tbody>\n",
       "    <tr>\n",
       "      <th>Connectome</th>\n",
       "      <td>0.508076</td>\n",
       "      <td>0.579552</td>\n",
       "      <td>0.437746</td>\n",
       "      <td>0.513490</td>\n",
       "      <td>0.433397</td>\n",
       "      <td>0.437746</td>\n",
       "      <td>0.484351</td>\n",
       "      <td>0.511083</td>\n",
       "      <td>0.496317</td>\n",
       "      <td>0.385759</td>\n",
       "    </tr>\n",
       "    <tr>\n",
       "      <th>CellChat</th>\n",
       "      <td>0.579552</td>\n",
       "      <td>0.508076</td>\n",
       "      <td>0.437746</td>\n",
       "      <td>0.513490</td>\n",
       "      <td>0.433397</td>\n",
       "      <td>0.511083</td>\n",
       "      <td>0.484351</td>\n",
       "      <td>0.475336</td>\n",
       "      <td>0.496317</td>\n",
       "      <td>0.385759</td>\n",
       "    </tr>\n",
       "    <tr>\n",
       "      <th>CellponeDB</th>\n",
       "      <td>0.508076</td>\n",
       "      <td>0.579552</td>\n",
       "      <td>0.437746</td>\n",
       "      <td>0.385759</td>\n",
       "      <td>0.484351</td>\n",
       "      <td>0.511083</td>\n",
       "      <td>0.433397</td>\n",
       "      <td>0.437746</td>\n",
       "      <td>0.417550</td>\n",
       "      <td>0.475336</td>\n",
       "    </tr>\n",
       "    <tr>\n",
       "      <th>CellGAT</th>\n",
       "      <td>0.523165</td>\n",
       "      <td>0.467333</td>\n",
       "      <td>0.523165</td>\n",
       "      <td>0.496317</td>\n",
       "      <td>0.508076</td>\n",
       "      <td>0.439119</td>\n",
       "      <td>0.467333</td>\n",
       "      <td>0.496317</td>\n",
       "      <td>0.439119</td>\n",
       "      <td>0.508076</td>\n",
       "    </tr>\n",
       "  </tbody>\n",
       "</table>\n",
       "</div>"
      ],
      "text/plain": [
       "                   0         1         2         3         4         5  \\\n",
       "Connectome  0.508076  0.579552  0.437746  0.513490  0.433397  0.437746   \n",
       "CellChat    0.579552  0.508076  0.437746  0.513490  0.433397  0.511083   \n",
       "CellponeDB  0.508076  0.579552  0.437746  0.385759  0.484351  0.511083   \n",
       "CellGAT     0.523165  0.467333  0.523165  0.496317  0.508076  0.439119   \n",
       "\n",
       "                   6         7         8         9  \n",
       "Connectome  0.484351  0.511083  0.496317  0.385759  \n",
       "CellChat    0.484351  0.475336  0.496317  0.385759  \n",
       "CellponeDB  0.433397  0.437746  0.417550  0.475336  \n",
       "CellGAT     0.467333  0.496317  0.439119  0.508076  "
      ]
     },
     "execution_count": 14,
     "metadata": {},
     "output_type": "execute_result"
    }
   ],
   "source": [
    "df"
   ]
  },
  {
   "cell_type": "code",
   "execution_count": 15,
   "id": "f66bce6d-6f96-4ac4-825b-e07e23a3432f",
   "metadata": {
    "tags": []
   },
   "outputs": [
    {
     "data": {
      "text/plain": [
       "Connectome    0.003076\n",
       "CellChat      0.002874\n",
       "CellponeDB    0.003173\n",
       "CellGAT       0.001004\n",
       "dtype: float64"
      ]
     },
     "execution_count": 15,
     "metadata": {},
     "output_type": "execute_result"
    }
   ],
   "source": [
    "df.var(axis=1)"
   ]
  },
  {
   "cell_type": "code",
   "execution_count": 16,
   "id": "f9110e78-d741-443b-9ca9-63d05a2b7221",
   "metadata": {
    "tags": []
   },
   "outputs": [
    {
     "data": {
      "text/plain": [
       "Connectome    0.478752\n",
       "CellChat      0.482511\n",
       "CellponeDB    0.467060\n",
       "CellGAT       0.486802\n",
       "dtype: float64"
      ]
     },
     "execution_count": 16,
     "metadata": {},
     "output_type": "execute_result"
    }
   ],
   "source": [
    "df.mean(axis=1)"
   ]
  },
  {
   "cell_type": "code",
   "execution_count": 17,
   "id": "d1c9eeba-0bdd-4921-a588-ffaa46853102",
   "metadata": {
    "tags": []
   },
   "outputs": [],
   "source": [
    "colors = ['#0000ff', '#3300cc', '#660099', '#990066', '#cc0033', '#ff0000']"
   ]
  },
  {
   "cell_type": "code",
   "execution_count": 18,
   "id": "31273b60-3ceb-42cc-b197-392864fcc833",
   "metadata": {
    "tags": []
   },
   "outputs": [],
   "source": [
    "CellGATv2_total_df = pd.DataFrame([CellGATv2_total_spatial], index=[\"CellGATv2\"]).transpose()\n",
    "connectome_df= pd.DataFrame([connectome_spatial], index=[\"Connectome\"]).transpose()\n",
    "cellchat_df= pd.DataFrame([cellchat_spatial], index=[\"CellChat\"]).transpose()\n",
    "cellphone_df= pd.DataFrame([cellphone_spatial], index=[\"CellPhone\"]).transpose()"
   ]
  },
  {
   "cell_type": "code",
   "execution_count": 19,
   "id": "863470d8-d26b-4bf7-9a17-2206420db9c5",
   "metadata": {
    "tags": []
   },
   "outputs": [],
   "source": [
    "df_list = [connectome_df,cellchat_df,cellphone_df,CellGATv2_total_df]"
   ]
  },
  {
   "cell_type": "code",
   "execution_count": 31,
   "id": "4e7d9339-3327-4b6c-9eaf-e9de0db8cb16",
   "metadata": {
    "tags": []
   },
   "outputs": [
    {
     "name": "stderr",
     "output_type": "stream",
     "text": [
      "findfont: Font family 'Arial' not found.\n",
      "findfont: Font family 'Arial' not found.\n",
      "findfont: Font family 'Arial' not found.\n",
      "findfont: Font family 'Arial' not found.\n",
      "findfont: Font family 'Arial' not found.\n",
      "findfont: Font family 'Arial' not found.\n",
      "findfont: Font family 'Arial' not found.\n",
      "findfont: Font family 'Arial' not found.\n",
      "findfont: Font family 'Arial' not found.\n",
      "findfont: Font family 'Arial' not found.\n",
      "findfont: Font family 'Arial' not found.\n",
      "findfont: Font family 'Arial' not found.\n",
      "findfont: Font family 'Arial' not found.\n",
      "findfont: Font family 'Arial' not found.\n",
      "findfont: Font family 'Arial' not found.\n",
      "findfont: Font family 'Arial' not found.\n",
      "findfont: Font family 'Arial' not found.\n",
      "findfont: Font family 'Arial' not found.\n",
      "findfont: Font family 'Arial' not found.\n",
      "findfont: Font family 'Arial' not found.\n"
     ]
    },
    {
     "data": {
      "image/png": "[encoded data removed]",
      "text/plain": [
       "<Figure size 800x800 with 4 Axes>"
      ]
     },
     "metadata": {},
     "output_type": "display_data"
    }
   ],
   "source": [
    "import matplotlib.gridspec as grid_spec\n",
    "import matplotlib.pyplot as plt\n",
    "from matplotlib import rcParams\n",
    "\n",
    "# 设置全局字体属性\n",
    "rcParams['font.weight'] = 'bold'\n",
    "\n",
    "gs = (grid_spec.GridSpec(len(comparison_labels), 1))\n",
    "\n",
    "fig = plt.figure(figsize=(8, 8))\n",
    "\n",
    "ax_objs = []\n",
    "\n",
    "for df, label in zip(df_list, comparison_labels):\n",
    "    ax_objs.append(fig.add_subplot(gs[len(ax_objs):len(ax_objs) + 1, 0:]))\n",
    "\n",
    "    plot = df.plot.kde(ax=ax_objs[-1], color=colors[len(ax_objs) - 1], lw=1, ind=10)\n",
    "    x = plot.get_children()[0]._x\n",
    "    y = plot.get_children()[0]._y\n",
    "    plot.legend()\n",
    "    ax_objs[-1].fill_between(x, y, color=colors[len(ax_objs) - 1])\n",
    "    ax_objs[-1].set_xlim(0, 1)\n",
    "    ax_objs[-1].set_ylabel('Density', fontsize=14)\n",
    "\n",
    "    # 设置纵轴标签字体\n",
    "font = FontProperties()\n",
    "font.set_family('Arial')\n",
    "font.set_weight('bold')\n",
    "for ax in ax_objs:\n",
    "    ax.set_ylabel('Density', fontsize=14, fontproperties=font)\n",
    "\n",
    "    \n",
    "plt.annotate('', xy=(0, -0.3), xycoords='axes fraction', xytext=(1, -0.3),\n",
    "             arrowprops=dict(arrowstyle=\"<->\"))\n",
    "plt.text(0.1, -10, 'Cell groups spatially\\ncloser/CCC more\\nprobable', ha=\"center\")\n",
    "plt.text(0.9, -10, 'Cell groups spatially\\nfarther/CCC less\\nprobable', ha=\"center\")\n",
    "\n",
    "plt.tight_layout()\n",
    "plt.savefig('../../results/Cardiac_1_compare.png', dpi=300)\n",
    "plt.show()\n"
   ]
  },
  {
   "cell_type": "code",
   "execution_count": null,
   "id": "609c7cb9-9046-4cfa-a80b-69b5bcdbf179",
   "metadata": {},
   "outputs": [],
   "source": []
  }
 ],
 "metadata": {
  "kernelspec": {
   "display_name": "GraphComm",
   "language": "python",
   "name": "graphcomm"
  },
  "language_info": {
   "codemirror_mode": {
    "name": "ipython",
    "version": 3
   },
   "file_extension": ".py",
   "mimetype": "text/x-python",
   "name": "python",
   "nbconvert_exporter": "python",
   "pygments_lexer": "ipython3",
   "version": "3.9.18"
  }
 },
 "nbformat": 4,
 "nbformat_minor": 5
}
